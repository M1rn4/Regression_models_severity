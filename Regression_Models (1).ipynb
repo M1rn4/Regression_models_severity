{
  "nbformat": 4,
  "nbformat_minor": 0,
  "metadata": {
    "colab": {
      "name": "Regression Models.ipynb",
      "provenance": [],
      "collapsed_sections": []
    },
    "kernelspec": {
      "name": "python3",
      "display_name": "Python 3"
    },
    "language_info": {
      "name": "python"
    }
  },
  "cells": [
    {
      "cell_type": "markdown",
      "metadata": {
        "id": "UJ-nfr2zvjqb"
      },
      "source": [
        "IMPORT LIBRARIES"
      ]
    },
    {
      "cell_type": "code",
      "metadata": {
        "id": "xjacg2oP0OiN"
      },
      "source": [
        "import pandas as pd\n",
        "from pandas import read_csv\n",
        "from keras.models import Sequential\n",
        "from keras.layers import Dense\n",
        "from keras.wrappers.scikit_learn import KerasRegressor\n",
        "from sklearn.model_selection import cross_val_score\n",
        "from sklearn.model_selection import KFold\n",
        "from sklearn.pipeline import Pipeline\n",
        "from sklearn.model_selection import train_test_split\n",
        "from sklearn.preprocessing import StandardScaler\n",
        "import matplotlib.pyplot as plt\n",
        "\n",
        "from sklearn import linear_model\n",
        "from sklearn.tree import DecisionTreeRegressor\n",
        "from sklearn.ensemble import RandomForestRegressor\n",
        "from xgboost import XGBRegressor\n",
        "from sklearn.metrics import mean_squared_error, mean_absolute_error, r2_score\n",
        "import scipy, scipy.stats"
      ],
      "execution_count": null,
      "outputs": []
    },
    {
      "cell_type": "markdown",
      "metadata": {
        "id": "RwYNGaIhvi-M"
      },
      "source": [
        "Mount the original drive"
      ]
    },
    {
      "cell_type": "code",
      "metadata": {
        "colab": {
          "base_uri": "https://localhost:8080/"
        },
        "id": "wDgDsmYyOWhJ",
        "outputId": "4b9c9ad5-2e52-46ac-bd73-6765278fed98"
      },
      "source": [
        "#Mount the original drive\n",
        "from google.colab import drive\n",
        "drive.mount('/content/drive')"
      ],
      "execution_count": null,
      "outputs": [
        {
          "output_type": "stream",
          "text": [
            "Drive already mounted at /content/drive; to attempt to forcibly remount, call drive.mount(\"/content/drive\", force_remount=True).\n"
          ],
          "name": "stdout"
        }
      ]
    },
    {
      "cell_type": "markdown",
      "metadata": {
        "id": "zbzc5QTXvxaq"
      },
      "source": [
        "Call and read dataset"
      ]
    },
    {
      "cell_type": "code",
      "metadata": {
        "id": "H1FHJDBx0siz"
      },
      "source": [
        "# Call and read dataset\n",
        "path_gm = '/content/drive/MyDrive/Diplomado/proyecto/Proyecto Severity COVID-19/paper_1/data_severity_pathol_prob_gm.csv'\n",
        "path_om = '/content/drive/MyDrive/Diplomado/proyecto/Proyecto Severity COVID-19/paper_1/data_severity_pathol_prob_om.csv'\n",
        "\n",
        "df_data_gm = pd.read_csv(path_gm)\n",
        "df_data_om = pd.read_csv(path_om)"
      ],
      "execution_count": null,
      "outputs": []
    },
    {
      "cell_type": "markdown",
      "metadata": {
        "id": "DQgnl8xIvzXW"
      },
      "source": [
        "Show the fitures for geographic data"
      ]
    },
    {
      "cell_type": "code",
      "metadata": {
        "colab": {
          "base_uri": "https://localhost:8080/",
          "height": 605
        },
        "id": "poCmt5wP1IvB",
        "outputId": "9f5a8b2a-45e2-4e69-a1ff-ff841c6ec2af"
      },
      "source": [
        "# Show the fitures for geographic data\n",
        "df_data_gm"
      ],
      "execution_count": null,
      "outputs": [
        {
          "output_type": "execute_result",
          "data": {
            "text/html": [
              "<div>\n",
              "<style scoped>\n",
              "    .dataframe tbody tr th:only-of-type {\n",
              "        vertical-align: middle;\n",
              "    }\n",
              "\n",
              "    .dataframe tbody tr th {\n",
              "        vertical-align: top;\n",
              "    }\n",
              "\n",
              "    .dataframe thead th {\n",
              "        text-align: right;\n",
              "    }\n",
              "</style>\n",
              "<table border=\"1\" class=\"dataframe\">\n",
              "  <thead>\n",
              "    <tr style=\"text-align: right;\">\n",
              "      <th></th>\n",
              "      <th>filename</th>\n",
              "      <th>Atelectasis</th>\n",
              "      <th>Consolidation</th>\n",
              "      <th>Infiltration</th>\n",
              "      <th>Pneumothorax</th>\n",
              "      <th>Edema</th>\n",
              "      <th>Emphysema</th>\n",
              "      <th>Fibrosis</th>\n",
              "      <th>Effusion</th>\n",
              "      <th>Pneumonia</th>\n",
              "      <th>Pleural_Thickening</th>\n",
              "      <th>Cardiomegaly</th>\n",
              "      <th>Nodule</th>\n",
              "      <th>Mass</th>\n",
              "      <th>Hernia</th>\n",
              "      <th>Lung Lesion</th>\n",
              "      <th>Fracture</th>\n",
              "      <th>Lung Opacity</th>\n",
              "      <th>Enlarged Cardiomediastinum</th>\n",
              "      <th>geographic_mean</th>\n",
              "      <th>DenseNet121</th>\n",
              "      <th>InceptionV3</th>\n",
              "      <th>resnet50</th>\n",
              "      <th>vgg16</th>\n",
              "      <th>Xception</th>\n",
              "      <th>label</th>\n",
              "    </tr>\n",
              "  </thead>\n",
              "  <tbody>\n",
              "    <tr>\n",
              "      <th>0</th>\n",
              "      <td>auntminnie-a-2020_01_28_23_51_6665_2020_01_28_...</td>\n",
              "      <td>-1.995463</td>\n",
              "      <td>-2.250835</td>\n",
              "      <td>-2.319615</td>\n",
              "      <td>-3.428214</td>\n",
              "      <td>-8.006400</td>\n",
              "      <td>-6.877346</td>\n",
              "      <td>-4.031230</td>\n",
              "      <td>-1.672731</td>\n",
              "      <td>-5.218715</td>\n",
              "      <td>-3.404117</td>\n",
              "      <td>-4.661779</td>\n",
              "      <td>-2.777763</td>\n",
              "      <td>-0.158225</td>\n",
              "      <td>-5.696409</td>\n",
              "      <td>-6.134421</td>\n",
              "      <td>-3.529992</td>\n",
              "      <td>-0.864325</td>\n",
              "      <td>-2.181635</td>\n",
              "      <td>2.3</td>\n",
              "      <td>0.851559</td>\n",
              "      <td>0.871329</td>\n",
              "      <td>0.913002</td>\n",
              "      <td>0.069072</td>\n",
              "      <td>0.998013</td>\n",
              "      <td>1</td>\n",
              "    </tr>\n",
              "    <tr>\n",
              "      <th>1</th>\n",
              "      <td>auntminnie-b-2020_01_28_23_51_6665_2020_01_28_...</td>\n",
              "      <td>-2.284326</td>\n",
              "      <td>-4.367359</td>\n",
              "      <td>-2.385848</td>\n",
              "      <td>-5.089296</td>\n",
              "      <td>-10.857897</td>\n",
              "      <td>-7.155473</td>\n",
              "      <td>-2.594435</td>\n",
              "      <td>-3.705988</td>\n",
              "      <td>-6.537526</td>\n",
              "      <td>-3.225794</td>\n",
              "      <td>-4.704632</td>\n",
              "      <td>-3.100978</td>\n",
              "      <td>-0.781046</td>\n",
              "      <td>-2.579316</td>\n",
              "      <td>-12.197935</td>\n",
              "      <td>-3.383951</td>\n",
              "      <td>-1.379524</td>\n",
              "      <td>-4.105000</td>\n",
              "      <td>4.0</td>\n",
              "      <td>0.960704</td>\n",
              "      <td>0.150587</td>\n",
              "      <td>0.847197</td>\n",
              "      <td>0.958360</td>\n",
              "      <td>0.970292</td>\n",
              "      <td>1</td>\n",
              "    </tr>\n",
              "    <tr>\n",
              "      <th>2</th>\n",
              "      <td>auntminnie-c-2020_01_28_23_51_6665_2020_01_28_...</td>\n",
              "      <td>-2.176806</td>\n",
              "      <td>-3.614070</td>\n",
              "      <td>-2.414206</td>\n",
              "      <td>-3.824801</td>\n",
              "      <td>-8.485291</td>\n",
              "      <td>-6.886006</td>\n",
              "      <td>-3.519685</td>\n",
              "      <td>-2.881644</td>\n",
              "      <td>-7.652413</td>\n",
              "      <td>-3.460787</td>\n",
              "      <td>-3.667775</td>\n",
              "      <td>-1.921321</td>\n",
              "      <td>-0.330128</td>\n",
              "      <td>-3.950301</td>\n",
              "      <td>-6.181408</td>\n",
              "      <td>-2.754359</td>\n",
              "      <td>-0.753431</td>\n",
              "      <td>-3.419982</td>\n",
              "      <td>4.7</td>\n",
              "      <td>0.641163</td>\n",
              "      <td>0.786716</td>\n",
              "      <td>0.410167</td>\n",
              "      <td>0.990818</td>\n",
              "      <td>0.999502</td>\n",
              "      <td>1</td>\n",
              "    </tr>\n",
              "    <tr>\n",
              "      <th>3</th>\n",
              "      <td>auntminnie-d-2020_01_28_23_51_6665_2020_01_28_...</td>\n",
              "      <td>-2.716297</td>\n",
              "      <td>-3.918124</td>\n",
              "      <td>-1.960546</td>\n",
              "      <td>-3.291000</td>\n",
              "      <td>-9.475438</td>\n",
              "      <td>-7.721296</td>\n",
              "      <td>-5.336512</td>\n",
              "      <td>-3.587376</td>\n",
              "      <td>-9.994222</td>\n",
              "      <td>-4.568360</td>\n",
              "      <td>-3.194962</td>\n",
              "      <td>-2.231982</td>\n",
              "      <td>-0.787121</td>\n",
              "      <td>-5.019547</td>\n",
              "      <td>-5.820308</td>\n",
              "      <td>-2.532609</td>\n",
              "      <td>-0.032212</td>\n",
              "      <td>-3.053708</td>\n",
              "      <td>5.7</td>\n",
              "      <td>0.782235</td>\n",
              "      <td>0.851945</td>\n",
              "      <td>0.393671</td>\n",
              "      <td>0.996665</td>\n",
              "      <td>0.360342</td>\n",
              "      <td>1</td>\n",
              "    </tr>\n",
              "    <tr>\n",
              "      <th>4</th>\n",
              "      <td>nejmc2001573_f1a.jpeg</td>\n",
              "      <td>-2.065649</td>\n",
              "      <td>-2.314026</td>\n",
              "      <td>-1.301638</td>\n",
              "      <td>-4.320744</td>\n",
              "      <td>-2.661332</td>\n",
              "      <td>-7.755165</td>\n",
              "      <td>-4.507202</td>\n",
              "      <td>-1.229500</td>\n",
              "      <td>-1.323991</td>\n",
              "      <td>-4.131345</td>\n",
              "      <td>-0.686836</td>\n",
              "      <td>-3.710819</td>\n",
              "      <td>-3.513136</td>\n",
              "      <td>-7.139474</td>\n",
              "      <td>-7.976898</td>\n",
              "      <td>-4.147092</td>\n",
              "      <td>0.660750</td>\n",
              "      <td>-1.587787</td>\n",
              "      <td>2.0</td>\n",
              "      <td>0.999453</td>\n",
              "      <td>0.985737</td>\n",
              "      <td>0.998424</td>\n",
              "      <td>0.999216</td>\n",
              "      <td>0.999166</td>\n",
              "      <td>1</td>\n",
              "    </tr>\n",
              "    <tr>\n",
              "      <th>...</th>\n",
              "      <td>...</td>\n",
              "      <td>...</td>\n",
              "      <td>...</td>\n",
              "      <td>...</td>\n",
              "      <td>...</td>\n",
              "      <td>...</td>\n",
              "      <td>...</td>\n",
              "      <td>...</td>\n",
              "      <td>...</td>\n",
              "      <td>...</td>\n",
              "      <td>...</td>\n",
              "      <td>...</td>\n",
              "      <td>...</td>\n",
              "      <td>...</td>\n",
              "      <td>...</td>\n",
              "      <td>...</td>\n",
              "      <td>...</td>\n",
              "      <td>...</td>\n",
              "      <td>...</td>\n",
              "      <td>...</td>\n",
              "      <td>...</td>\n",
              "      <td>...</td>\n",
              "      <td>...</td>\n",
              "      <td>...</td>\n",
              "      <td>...</td>\n",
              "      <td>...</td>\n",
              "    </tr>\n",
              "    <tr>\n",
              "      <th>77</th>\n",
              "      <td>1.CXRCTThoraximagesofCOVID-19fromSingapore.pdf...</td>\n",
              "      <td>-2.247870</td>\n",
              "      <td>-2.695761</td>\n",
              "      <td>-0.932922</td>\n",
              "      <td>-5.468601</td>\n",
              "      <td>-1.497197</td>\n",
              "      <td>-5.348270</td>\n",
              "      <td>-2.066755</td>\n",
              "      <td>-3.267211</td>\n",
              "      <td>-1.935185</td>\n",
              "      <td>-3.216589</td>\n",
              "      <td>-1.510092</td>\n",
              "      <td>-2.148279</td>\n",
              "      <td>-2.634754</td>\n",
              "      <td>-7.641832</td>\n",
              "      <td>-2.866753</td>\n",
              "      <td>-3.669294</td>\n",
              "      <td>-0.451698</td>\n",
              "      <td>-2.525874</td>\n",
              "      <td>4.7</td>\n",
              "      <td>0.999360</td>\n",
              "      <td>0.999991</td>\n",
              "      <td>0.992401</td>\n",
              "      <td>0.998774</td>\n",
              "      <td>1.000000</td>\n",
              "      <td>1</td>\n",
              "    </tr>\n",
              "    <tr>\n",
              "      <th>78</th>\n",
              "      <td>1.CXRCTThoraximagesofCOVID-19fromSingapore.pdf...</td>\n",
              "      <td>-1.204691</td>\n",
              "      <td>-2.154405</td>\n",
              "      <td>-0.693697</td>\n",
              "      <td>-4.653790</td>\n",
              "      <td>-0.989784</td>\n",
              "      <td>-6.958145</td>\n",
              "      <td>-3.083191</td>\n",
              "      <td>-1.447739</td>\n",
              "      <td>-2.728833</td>\n",
              "      <td>-4.454429</td>\n",
              "      <td>-0.893002</td>\n",
              "      <td>-2.856616</td>\n",
              "      <td>-2.519794</td>\n",
              "      <td>-4.358291</td>\n",
              "      <td>-3.592949</td>\n",
              "      <td>-3.895416</td>\n",
              "      <td>0.281588</td>\n",
              "      <td>-2.383605</td>\n",
              "      <td>4.0</td>\n",
              "      <td>0.999625</td>\n",
              "      <td>0.999537</td>\n",
              "      <td>0.987859</td>\n",
              "      <td>0.999095</td>\n",
              "      <td>1.000000</td>\n",
              "      <td>1</td>\n",
              "    </tr>\n",
              "    <tr>\n",
              "      <th>79</th>\n",
              "      <td>1.CXRCTThoraximagesofCOVID-19fromSingapore.pdf...</td>\n",
              "      <td>-1.337873</td>\n",
              "      <td>-1.917539</td>\n",
              "      <td>-0.742821</td>\n",
              "      <td>-4.561998</td>\n",
              "      <td>-2.193726</td>\n",
              "      <td>-5.323779</td>\n",
              "      <td>-4.394251</td>\n",
              "      <td>-1.312465</td>\n",
              "      <td>-2.222228</td>\n",
              "      <td>-4.245948</td>\n",
              "      <td>-1.477661</td>\n",
              "      <td>-2.255113</td>\n",
              "      <td>-1.368516</td>\n",
              "      <td>-6.786782</td>\n",
              "      <td>-2.221639</td>\n",
              "      <td>-3.056663</td>\n",
              "      <td>0.387156</td>\n",
              "      <td>-1.724825</td>\n",
              "      <td>4.7</td>\n",
              "      <td>0.999914</td>\n",
              "      <td>0.993296</td>\n",
              "      <td>0.933430</td>\n",
              "      <td>0.999972</td>\n",
              "      <td>1.000000</td>\n",
              "      <td>1</td>\n",
              "    </tr>\n",
              "    <tr>\n",
              "      <th>80</th>\n",
              "      <td>covid-19-pneumonia-evolution-over-a-week-1-day...</td>\n",
              "      <td>-2.920534</td>\n",
              "      <td>-3.951263</td>\n",
              "      <td>-1.233765</td>\n",
              "      <td>-5.946329</td>\n",
              "      <td>-6.810845</td>\n",
              "      <td>-5.927144</td>\n",
              "      <td>-3.987623</td>\n",
              "      <td>-4.672496</td>\n",
              "      <td>-1.747967</td>\n",
              "      <td>-4.772371</td>\n",
              "      <td>-4.642920</td>\n",
              "      <td>-2.352367</td>\n",
              "      <td>-3.957139</td>\n",
              "      <td>-5.675848</td>\n",
              "      <td>-9.433144</td>\n",
              "      <td>-4.329388</td>\n",
              "      <td>-1.704252</td>\n",
              "      <td>-5.290677</td>\n",
              "      <td>0.7</td>\n",
              "      <td>0.928157</td>\n",
              "      <td>0.999905</td>\n",
              "      <td>0.821510</td>\n",
              "      <td>0.998875</td>\n",
              "      <td>0.999839</td>\n",
              "      <td>1</td>\n",
              "    </tr>\n",
              "    <tr>\n",
              "      <th>81</th>\n",
              "      <td>53EC07C9-5CC6-4BE4-9B6F-D7B0D72AAA7E.jpeg</td>\n",
              "      <td>-2.019746</td>\n",
              "      <td>-2.043876</td>\n",
              "      <td>-0.942020</td>\n",
              "      <td>-3.844561</td>\n",
              "      <td>-4.231821</td>\n",
              "      <td>-4.066077</td>\n",
              "      <td>-1.914924</td>\n",
              "      <td>-0.734435</td>\n",
              "      <td>-4.103053</td>\n",
              "      <td>-2.036707</td>\n",
              "      <td>-2.240574</td>\n",
              "      <td>-1.844244</td>\n",
              "      <td>-0.337299</td>\n",
              "      <td>-5.658569</td>\n",
              "      <td>-4.166326</td>\n",
              "      <td>-3.425894</td>\n",
              "      <td>1.057681</td>\n",
              "      <td>-1.223777</td>\n",
              "      <td>5.0</td>\n",
              "      <td>0.999999</td>\n",
              "      <td>0.999908</td>\n",
              "      <td>0.989216</td>\n",
              "      <td>0.669728</td>\n",
              "      <td>0.999547</td>\n",
              "      <td>1</td>\n",
              "    </tr>\n",
              "  </tbody>\n",
              "</table>\n",
              "<p>82 rows × 26 columns</p>\n",
              "</div>"
            ],
            "text/plain": [
              "                                             filename  ...  label\n",
              "0   auntminnie-a-2020_01_28_23_51_6665_2020_01_28_...  ...      1\n",
              "1   auntminnie-b-2020_01_28_23_51_6665_2020_01_28_...  ...      1\n",
              "2   auntminnie-c-2020_01_28_23_51_6665_2020_01_28_...  ...      1\n",
              "3   auntminnie-d-2020_01_28_23_51_6665_2020_01_28_...  ...      1\n",
              "4                               nejmc2001573_f1a.jpeg  ...      1\n",
              "..                                                ...  ...    ...\n",
              "77  1.CXRCTThoraximagesofCOVID-19fromSingapore.pdf...  ...      1\n",
              "78  1.CXRCTThoraximagesofCOVID-19fromSingapore.pdf...  ...      1\n",
              "79  1.CXRCTThoraximagesofCOVID-19fromSingapore.pdf...  ...      1\n",
              "80  covid-19-pneumonia-evolution-over-a-week-1-day...  ...      1\n",
              "81          53EC07C9-5CC6-4BE4-9B6F-D7B0D72AAA7E.jpeg  ...      1\n",
              "\n",
              "[82 rows x 26 columns]"
            ]
          },
          "metadata": {},
          "execution_count": 112
        }
      ]
    },
    {
      "cell_type": "markdown",
      "metadata": {
        "id": "3HHIpPBcv17Q"
      },
      "source": [
        "Show the fitures for opacity data"
      ]
    },
    {
      "cell_type": "code",
      "metadata": {
        "colab": {
          "base_uri": "https://localhost:8080/",
          "height": 605
        },
        "id": "qYLrFXI11KH-",
        "outputId": "88c223d5-9c5a-45b7-8c28-3403687c843f"
      },
      "source": [
        "# Show the fitures for opacity data\n",
        "df_data_om"
      ],
      "execution_count": null,
      "outputs": [
        {
          "output_type": "execute_result",
          "data": {
            "text/html": [
              "<div>\n",
              "<style scoped>\n",
              "    .dataframe tbody tr th:only-of-type {\n",
              "        vertical-align: middle;\n",
              "    }\n",
              "\n",
              "    .dataframe tbody tr th {\n",
              "        vertical-align: top;\n",
              "    }\n",
              "\n",
              "    .dataframe thead th {\n",
              "        text-align: right;\n",
              "    }\n",
              "</style>\n",
              "<table border=\"1\" class=\"dataframe\">\n",
              "  <thead>\n",
              "    <tr style=\"text-align: right;\">\n",
              "      <th></th>\n",
              "      <th>filename</th>\n",
              "      <th>Atelectasis</th>\n",
              "      <th>Consolidation</th>\n",
              "      <th>Infiltration</th>\n",
              "      <th>Pneumothorax</th>\n",
              "      <th>Edema</th>\n",
              "      <th>Emphysema</th>\n",
              "      <th>Fibrosis</th>\n",
              "      <th>Effusion</th>\n",
              "      <th>Pneumonia</th>\n",
              "      <th>Pleural_Thickening</th>\n",
              "      <th>Cardiomegaly</th>\n",
              "      <th>Nodule</th>\n",
              "      <th>Mass</th>\n",
              "      <th>Hernia</th>\n",
              "      <th>Lung Lesion</th>\n",
              "      <th>Fracture</th>\n",
              "      <th>Lung Opacity</th>\n",
              "      <th>Enlarged Cardiomediastinum</th>\n",
              "      <th>opacity_mean</th>\n",
              "      <th>DenseNet121</th>\n",
              "      <th>InceptionV3</th>\n",
              "      <th>resnet50</th>\n",
              "      <th>vgg16</th>\n",
              "      <th>Xception</th>\n",
              "      <th>label</th>\n",
              "    </tr>\n",
              "  </thead>\n",
              "  <tbody>\n",
              "    <tr>\n",
              "      <th>0</th>\n",
              "      <td>auntminnie-a-2020_01_28_23_51_6665_2020_01_28_...</td>\n",
              "      <td>-1.995463</td>\n",
              "      <td>-2.250835</td>\n",
              "      <td>-2.319615</td>\n",
              "      <td>-3.428214</td>\n",
              "      <td>-8.006400</td>\n",
              "      <td>-6.877346</td>\n",
              "      <td>-4.031230</td>\n",
              "      <td>-1.672731</td>\n",
              "      <td>-5.218715</td>\n",
              "      <td>-3.404117</td>\n",
              "      <td>-4.661779</td>\n",
              "      <td>-2.777763</td>\n",
              "      <td>-0.158225</td>\n",
              "      <td>-5.696409</td>\n",
              "      <td>-6.134421</td>\n",
              "      <td>-3.529992</td>\n",
              "      <td>-0.864325</td>\n",
              "      <td>-2.181635</td>\n",
              "      <td>1.3</td>\n",
              "      <td>0.851559</td>\n",
              "      <td>0.871329</td>\n",
              "      <td>0.913002</td>\n",
              "      <td>0.069072</td>\n",
              "      <td>0.998013</td>\n",
              "      <td>1</td>\n",
              "    </tr>\n",
              "    <tr>\n",
              "      <th>1</th>\n",
              "      <td>auntminnie-b-2020_01_28_23_51_6665_2020_01_28_...</td>\n",
              "      <td>-2.284326</td>\n",
              "      <td>-4.367359</td>\n",
              "      <td>-2.385848</td>\n",
              "      <td>-5.089296</td>\n",
              "      <td>-10.857897</td>\n",
              "      <td>-7.155473</td>\n",
              "      <td>-2.594435</td>\n",
              "      <td>-3.705988</td>\n",
              "      <td>-6.537526</td>\n",
              "      <td>-3.225794</td>\n",
              "      <td>-4.704632</td>\n",
              "      <td>-3.100978</td>\n",
              "      <td>-0.781046</td>\n",
              "      <td>-2.579316</td>\n",
              "      <td>-12.197935</td>\n",
              "      <td>-3.383951</td>\n",
              "      <td>-1.379524</td>\n",
              "      <td>-4.105000</td>\n",
              "      <td>3.0</td>\n",
              "      <td>0.960704</td>\n",
              "      <td>0.150587</td>\n",
              "      <td>0.847197</td>\n",
              "      <td>0.958360</td>\n",
              "      <td>0.970292</td>\n",
              "      <td>1</td>\n",
              "    </tr>\n",
              "    <tr>\n",
              "      <th>2</th>\n",
              "      <td>auntminnie-c-2020_01_28_23_51_6665_2020_01_28_...</td>\n",
              "      <td>-2.176806</td>\n",
              "      <td>-3.614070</td>\n",
              "      <td>-2.414206</td>\n",
              "      <td>-3.824801</td>\n",
              "      <td>-8.485291</td>\n",
              "      <td>-6.886006</td>\n",
              "      <td>-3.519685</td>\n",
              "      <td>-2.881644</td>\n",
              "      <td>-7.652413</td>\n",
              "      <td>-3.460787</td>\n",
              "      <td>-3.667775</td>\n",
              "      <td>-1.921321</td>\n",
              "      <td>-0.330128</td>\n",
              "      <td>-3.950301</td>\n",
              "      <td>-6.181408</td>\n",
              "      <td>-2.754359</td>\n",
              "      <td>-0.753431</td>\n",
              "      <td>-3.419982</td>\n",
              "      <td>3.0</td>\n",
              "      <td>0.641163</td>\n",
              "      <td>0.786716</td>\n",
              "      <td>0.410167</td>\n",
              "      <td>0.990818</td>\n",
              "      <td>0.999502</td>\n",
              "      <td>1</td>\n",
              "    </tr>\n",
              "    <tr>\n",
              "      <th>3</th>\n",
              "      <td>auntminnie-d-2020_01_28_23_51_6665_2020_01_28_...</td>\n",
              "      <td>-2.716297</td>\n",
              "      <td>-3.918124</td>\n",
              "      <td>-1.960546</td>\n",
              "      <td>-3.291000</td>\n",
              "      <td>-9.475438</td>\n",
              "      <td>-7.721296</td>\n",
              "      <td>-5.336512</td>\n",
              "      <td>-3.587376</td>\n",
              "      <td>-9.994222</td>\n",
              "      <td>-4.568360</td>\n",
              "      <td>-3.194962</td>\n",
              "      <td>-2.231982</td>\n",
              "      <td>-0.787121</td>\n",
              "      <td>-5.019547</td>\n",
              "      <td>-5.820308</td>\n",
              "      <td>-2.532609</td>\n",
              "      <td>-0.032212</td>\n",
              "      <td>-3.053708</td>\n",
              "      <td>3.7</td>\n",
              "      <td>0.782235</td>\n",
              "      <td>0.851945</td>\n",
              "      <td>0.393671</td>\n",
              "      <td>0.996665</td>\n",
              "      <td>0.360342</td>\n",
              "      <td>1</td>\n",
              "    </tr>\n",
              "    <tr>\n",
              "      <th>4</th>\n",
              "      <td>nejmc2001573_f1a.jpeg</td>\n",
              "      <td>-2.065649</td>\n",
              "      <td>-2.314026</td>\n",
              "      <td>-1.301638</td>\n",
              "      <td>-4.320744</td>\n",
              "      <td>-2.661332</td>\n",
              "      <td>-7.755165</td>\n",
              "      <td>-4.507202</td>\n",
              "      <td>-1.229500</td>\n",
              "      <td>-1.323991</td>\n",
              "      <td>-4.131345</td>\n",
              "      <td>-0.686836</td>\n",
              "      <td>-3.710819</td>\n",
              "      <td>-3.513136</td>\n",
              "      <td>-7.139474</td>\n",
              "      <td>-7.976898</td>\n",
              "      <td>-4.147092</td>\n",
              "      <td>0.660750</td>\n",
              "      <td>-1.587787</td>\n",
              "      <td>2.0</td>\n",
              "      <td>0.999453</td>\n",
              "      <td>0.985737</td>\n",
              "      <td>0.998424</td>\n",
              "      <td>0.999216</td>\n",
              "      <td>0.999166</td>\n",
              "      <td>1</td>\n",
              "    </tr>\n",
              "    <tr>\n",
              "      <th>...</th>\n",
              "      <td>...</td>\n",
              "      <td>...</td>\n",
              "      <td>...</td>\n",
              "      <td>...</td>\n",
              "      <td>...</td>\n",
              "      <td>...</td>\n",
              "      <td>...</td>\n",
              "      <td>...</td>\n",
              "      <td>...</td>\n",
              "      <td>...</td>\n",
              "      <td>...</td>\n",
              "      <td>...</td>\n",
              "      <td>...</td>\n",
              "      <td>...</td>\n",
              "      <td>...</td>\n",
              "      <td>...</td>\n",
              "      <td>...</td>\n",
              "      <td>...</td>\n",
              "      <td>...</td>\n",
              "      <td>...</td>\n",
              "      <td>...</td>\n",
              "      <td>...</td>\n",
              "      <td>...</td>\n",
              "      <td>...</td>\n",
              "      <td>...</td>\n",
              "      <td>...</td>\n",
              "    </tr>\n",
              "    <tr>\n",
              "      <th>77</th>\n",
              "      <td>1.CXRCTThoraximagesofCOVID-19fromSingapore.pdf...</td>\n",
              "      <td>-2.247870</td>\n",
              "      <td>-2.695761</td>\n",
              "      <td>-0.932922</td>\n",
              "      <td>-5.468601</td>\n",
              "      <td>-1.497197</td>\n",
              "      <td>-5.348270</td>\n",
              "      <td>-2.066755</td>\n",
              "      <td>-3.267211</td>\n",
              "      <td>-1.935185</td>\n",
              "      <td>-3.216589</td>\n",
              "      <td>-1.510092</td>\n",
              "      <td>-2.148279</td>\n",
              "      <td>-2.634754</td>\n",
              "      <td>-7.641832</td>\n",
              "      <td>-2.866753</td>\n",
              "      <td>-3.669294</td>\n",
              "      <td>-0.451698</td>\n",
              "      <td>-2.525874</td>\n",
              "      <td>2.7</td>\n",
              "      <td>0.999360</td>\n",
              "      <td>0.999991</td>\n",
              "      <td>0.992401</td>\n",
              "      <td>0.998774</td>\n",
              "      <td>1.000000</td>\n",
              "      <td>1</td>\n",
              "    </tr>\n",
              "    <tr>\n",
              "      <th>78</th>\n",
              "      <td>1.CXRCTThoraximagesofCOVID-19fromSingapore.pdf...</td>\n",
              "      <td>-1.204691</td>\n",
              "      <td>-2.154405</td>\n",
              "      <td>-0.693697</td>\n",
              "      <td>-4.653790</td>\n",
              "      <td>-0.989784</td>\n",
              "      <td>-6.958145</td>\n",
              "      <td>-3.083191</td>\n",
              "      <td>-1.447739</td>\n",
              "      <td>-2.728833</td>\n",
              "      <td>-4.454429</td>\n",
              "      <td>-0.893002</td>\n",
              "      <td>-2.856616</td>\n",
              "      <td>-2.519794</td>\n",
              "      <td>-4.358291</td>\n",
              "      <td>-3.592949</td>\n",
              "      <td>-3.895416</td>\n",
              "      <td>0.281588</td>\n",
              "      <td>-2.383605</td>\n",
              "      <td>3.3</td>\n",
              "      <td>0.999625</td>\n",
              "      <td>0.999537</td>\n",
              "      <td>0.987859</td>\n",
              "      <td>0.999095</td>\n",
              "      <td>1.000000</td>\n",
              "      <td>1</td>\n",
              "    </tr>\n",
              "    <tr>\n",
              "      <th>79</th>\n",
              "      <td>1.CXRCTThoraximagesofCOVID-19fromSingapore.pdf...</td>\n",
              "      <td>-1.337873</td>\n",
              "      <td>-1.917539</td>\n",
              "      <td>-0.742821</td>\n",
              "      <td>-4.561998</td>\n",
              "      <td>-2.193726</td>\n",
              "      <td>-5.323779</td>\n",
              "      <td>-4.394251</td>\n",
              "      <td>-1.312465</td>\n",
              "      <td>-2.222228</td>\n",
              "      <td>-4.245948</td>\n",
              "      <td>-1.477661</td>\n",
              "      <td>-2.255113</td>\n",
              "      <td>-1.368516</td>\n",
              "      <td>-6.786782</td>\n",
              "      <td>-2.221639</td>\n",
              "      <td>-3.056663</td>\n",
              "      <td>0.387156</td>\n",
              "      <td>-1.724825</td>\n",
              "      <td>4.0</td>\n",
              "      <td>0.999914</td>\n",
              "      <td>0.993296</td>\n",
              "      <td>0.933430</td>\n",
              "      <td>0.999972</td>\n",
              "      <td>1.000000</td>\n",
              "      <td>1</td>\n",
              "    </tr>\n",
              "    <tr>\n",
              "      <th>80</th>\n",
              "      <td>covid-19-pneumonia-evolution-over-a-week-1-day...</td>\n",
              "      <td>-2.920534</td>\n",
              "      <td>-3.951263</td>\n",
              "      <td>-1.233765</td>\n",
              "      <td>-5.946329</td>\n",
              "      <td>-6.810845</td>\n",
              "      <td>-5.927144</td>\n",
              "      <td>-3.987623</td>\n",
              "      <td>-4.672496</td>\n",
              "      <td>-1.747967</td>\n",
              "      <td>-4.772371</td>\n",
              "      <td>-4.642920</td>\n",
              "      <td>-2.352367</td>\n",
              "      <td>-3.957139</td>\n",
              "      <td>-5.675848</td>\n",
              "      <td>-9.433144</td>\n",
              "      <td>-4.329388</td>\n",
              "      <td>-1.704252</td>\n",
              "      <td>-5.290677</td>\n",
              "      <td>0.7</td>\n",
              "      <td>0.928157</td>\n",
              "      <td>0.999905</td>\n",
              "      <td>0.821510</td>\n",
              "      <td>0.998875</td>\n",
              "      <td>0.999839</td>\n",
              "      <td>1</td>\n",
              "    </tr>\n",
              "    <tr>\n",
              "      <th>81</th>\n",
              "      <td>53EC07C9-5CC6-4BE4-9B6F-D7B0D72AAA7E.jpeg</td>\n",
              "      <td>-2.019746</td>\n",
              "      <td>-2.043876</td>\n",
              "      <td>-0.942020</td>\n",
              "      <td>-3.844561</td>\n",
              "      <td>-4.231821</td>\n",
              "      <td>-4.066077</td>\n",
              "      <td>-1.914924</td>\n",
              "      <td>-0.734435</td>\n",
              "      <td>-4.103053</td>\n",
              "      <td>-2.036707</td>\n",
              "      <td>-2.240574</td>\n",
              "      <td>-1.844244</td>\n",
              "      <td>-0.337299</td>\n",
              "      <td>-5.658569</td>\n",
              "      <td>-4.166326</td>\n",
              "      <td>-3.425894</td>\n",
              "      <td>1.057681</td>\n",
              "      <td>-1.223777</td>\n",
              "      <td>3.3</td>\n",
              "      <td>0.999999</td>\n",
              "      <td>0.999908</td>\n",
              "      <td>0.989216</td>\n",
              "      <td>0.669728</td>\n",
              "      <td>0.999547</td>\n",
              "      <td>1</td>\n",
              "    </tr>\n",
              "  </tbody>\n",
              "</table>\n",
              "<p>82 rows × 26 columns</p>\n",
              "</div>"
            ],
            "text/plain": [
              "                                             filename  ...  label\n",
              "0   auntminnie-a-2020_01_28_23_51_6665_2020_01_28_...  ...      1\n",
              "1   auntminnie-b-2020_01_28_23_51_6665_2020_01_28_...  ...      1\n",
              "2   auntminnie-c-2020_01_28_23_51_6665_2020_01_28_...  ...      1\n",
              "3   auntminnie-d-2020_01_28_23_51_6665_2020_01_28_...  ...      1\n",
              "4                               nejmc2001573_f1a.jpeg  ...      1\n",
              "..                                                ...  ...    ...\n",
              "77  1.CXRCTThoraximagesofCOVID-19fromSingapore.pdf...  ...      1\n",
              "78  1.CXRCTThoraximagesofCOVID-19fromSingapore.pdf...  ...      1\n",
              "79  1.CXRCTThoraximagesofCOVID-19fromSingapore.pdf...  ...      1\n",
              "80  covid-19-pneumonia-evolution-over-a-week-1-day...  ...      1\n",
              "81          53EC07C9-5CC6-4BE4-9B6F-D7B0D72AAA7E.jpeg  ...      1\n",
              "\n",
              "[82 rows x 26 columns]"
            ]
          },
          "metadata": {},
          "execution_count": 113
        }
      ]
    },
    {
      "cell_type": "markdown",
      "metadata": {
        "id": "deeMFRU44Dmn"
      },
      "source": [
        "### Analysis for 18 pathologies + 5 probabilites (Geographic Mean)"
      ]
    },
    {
      "cell_type": "code",
      "metadata": {
        "colab": {
          "base_uri": "https://localhost:8080/",
          "height": 454
        },
        "id": "IBUq0V9H12c_",
        "outputId": "7635bc60-4a15-48d6-b8b8-168f8c87c5fa"
      },
      "source": [
        "# Join 18 clinical features and 5 probabilities of the geagraphic mean \n",
        "names_pathol = list(df_data_gm.columns[1:19])\n",
        "names_prob = list(df_data_gm.columns[20:25])\n",
        "name_gm = [df_data_gm.columns[19]]\n",
        "names_pathol_prob = names_pathol + names_prob + name_gm\n",
        "df_all_gm = df_data_gm[names_pathol_prob]\n",
        "df_all_gm"
      ],
      "execution_count": null,
      "outputs": [
        {
          "output_type": "execute_result",
          "data": {
            "text/html": [
              "<div>\n",
              "<style scoped>\n",
              "    .dataframe tbody tr th:only-of-type {\n",
              "        vertical-align: middle;\n",
              "    }\n",
              "\n",
              "    .dataframe tbody tr th {\n",
              "        vertical-align: top;\n",
              "    }\n",
              "\n",
              "    .dataframe thead th {\n",
              "        text-align: right;\n",
              "    }\n",
              "</style>\n",
              "<table border=\"1\" class=\"dataframe\">\n",
              "  <thead>\n",
              "    <tr style=\"text-align: right;\">\n",
              "      <th></th>\n",
              "      <th>Atelectasis</th>\n",
              "      <th>Consolidation</th>\n",
              "      <th>Infiltration</th>\n",
              "      <th>Pneumothorax</th>\n",
              "      <th>Edema</th>\n",
              "      <th>Emphysema</th>\n",
              "      <th>Fibrosis</th>\n",
              "      <th>Effusion</th>\n",
              "      <th>Pneumonia</th>\n",
              "      <th>Pleural_Thickening</th>\n",
              "      <th>Cardiomegaly</th>\n",
              "      <th>Nodule</th>\n",
              "      <th>Mass</th>\n",
              "      <th>Hernia</th>\n",
              "      <th>Lung Lesion</th>\n",
              "      <th>Fracture</th>\n",
              "      <th>Lung Opacity</th>\n",
              "      <th>Enlarged Cardiomediastinum</th>\n",
              "      <th>DenseNet121</th>\n",
              "      <th>InceptionV3</th>\n",
              "      <th>resnet50</th>\n",
              "      <th>vgg16</th>\n",
              "      <th>Xception</th>\n",
              "      <th>geographic_mean</th>\n",
              "    </tr>\n",
              "  </thead>\n",
              "  <tbody>\n",
              "    <tr>\n",
              "      <th>0</th>\n",
              "      <td>-1.995463</td>\n",
              "      <td>-2.250835</td>\n",
              "      <td>-2.319615</td>\n",
              "      <td>-3.428214</td>\n",
              "      <td>-8.006400</td>\n",
              "      <td>-6.877346</td>\n",
              "      <td>-4.031230</td>\n",
              "      <td>-1.672731</td>\n",
              "      <td>-5.218715</td>\n",
              "      <td>-3.404117</td>\n",
              "      <td>-4.661779</td>\n",
              "      <td>-2.777763</td>\n",
              "      <td>-0.158225</td>\n",
              "      <td>-5.696409</td>\n",
              "      <td>-6.134421</td>\n",
              "      <td>-3.529992</td>\n",
              "      <td>-0.864325</td>\n",
              "      <td>-2.181635</td>\n",
              "      <td>0.851559</td>\n",
              "      <td>0.871329</td>\n",
              "      <td>0.913002</td>\n",
              "      <td>0.069072</td>\n",
              "      <td>0.998013</td>\n",
              "      <td>2.3</td>\n",
              "    </tr>\n",
              "    <tr>\n",
              "      <th>1</th>\n",
              "      <td>-2.284326</td>\n",
              "      <td>-4.367359</td>\n",
              "      <td>-2.385848</td>\n",
              "      <td>-5.089296</td>\n",
              "      <td>-10.857897</td>\n",
              "      <td>-7.155473</td>\n",
              "      <td>-2.594435</td>\n",
              "      <td>-3.705988</td>\n",
              "      <td>-6.537526</td>\n",
              "      <td>-3.225794</td>\n",
              "      <td>-4.704632</td>\n",
              "      <td>-3.100978</td>\n",
              "      <td>-0.781046</td>\n",
              "      <td>-2.579316</td>\n",
              "      <td>-12.197935</td>\n",
              "      <td>-3.383951</td>\n",
              "      <td>-1.379524</td>\n",
              "      <td>-4.105000</td>\n",
              "      <td>0.960704</td>\n",
              "      <td>0.150587</td>\n",
              "      <td>0.847197</td>\n",
              "      <td>0.958360</td>\n",
              "      <td>0.970292</td>\n",
              "      <td>4.0</td>\n",
              "    </tr>\n",
              "    <tr>\n",
              "      <th>2</th>\n",
              "      <td>-2.176806</td>\n",
              "      <td>-3.614070</td>\n",
              "      <td>-2.414206</td>\n",
              "      <td>-3.824801</td>\n",
              "      <td>-8.485291</td>\n",
              "      <td>-6.886006</td>\n",
              "      <td>-3.519685</td>\n",
              "      <td>-2.881644</td>\n",
              "      <td>-7.652413</td>\n",
              "      <td>-3.460787</td>\n",
              "      <td>-3.667775</td>\n",
              "      <td>-1.921321</td>\n",
              "      <td>-0.330128</td>\n",
              "      <td>-3.950301</td>\n",
              "      <td>-6.181408</td>\n",
              "      <td>-2.754359</td>\n",
              "      <td>-0.753431</td>\n",
              "      <td>-3.419982</td>\n",
              "      <td>0.641163</td>\n",
              "      <td>0.786716</td>\n",
              "      <td>0.410167</td>\n",
              "      <td>0.990818</td>\n",
              "      <td>0.999502</td>\n",
              "      <td>4.7</td>\n",
              "    </tr>\n",
              "    <tr>\n",
              "      <th>3</th>\n",
              "      <td>-2.716297</td>\n",
              "      <td>-3.918124</td>\n",
              "      <td>-1.960546</td>\n",
              "      <td>-3.291000</td>\n",
              "      <td>-9.475438</td>\n",
              "      <td>-7.721296</td>\n",
              "      <td>-5.336512</td>\n",
              "      <td>-3.587376</td>\n",
              "      <td>-9.994222</td>\n",
              "      <td>-4.568360</td>\n",
              "      <td>-3.194962</td>\n",
              "      <td>-2.231982</td>\n",
              "      <td>-0.787121</td>\n",
              "      <td>-5.019547</td>\n",
              "      <td>-5.820308</td>\n",
              "      <td>-2.532609</td>\n",
              "      <td>-0.032212</td>\n",
              "      <td>-3.053708</td>\n",
              "      <td>0.782235</td>\n",
              "      <td>0.851945</td>\n",
              "      <td>0.393671</td>\n",
              "      <td>0.996665</td>\n",
              "      <td>0.360342</td>\n",
              "      <td>5.7</td>\n",
              "    </tr>\n",
              "    <tr>\n",
              "      <th>4</th>\n",
              "      <td>-2.065649</td>\n",
              "      <td>-2.314026</td>\n",
              "      <td>-1.301638</td>\n",
              "      <td>-4.320744</td>\n",
              "      <td>-2.661332</td>\n",
              "      <td>-7.755165</td>\n",
              "      <td>-4.507202</td>\n",
              "      <td>-1.229500</td>\n",
              "      <td>-1.323991</td>\n",
              "      <td>-4.131345</td>\n",
              "      <td>-0.686836</td>\n",
              "      <td>-3.710819</td>\n",
              "      <td>-3.513136</td>\n",
              "      <td>-7.139474</td>\n",
              "      <td>-7.976898</td>\n",
              "      <td>-4.147092</td>\n",
              "      <td>0.660750</td>\n",
              "      <td>-1.587787</td>\n",
              "      <td>0.999453</td>\n",
              "      <td>0.985737</td>\n",
              "      <td>0.998424</td>\n",
              "      <td>0.999216</td>\n",
              "      <td>0.999166</td>\n",
              "      <td>2.0</td>\n",
              "    </tr>\n",
              "    <tr>\n",
              "      <th>...</th>\n",
              "      <td>...</td>\n",
              "      <td>...</td>\n",
              "      <td>...</td>\n",
              "      <td>...</td>\n",
              "      <td>...</td>\n",
              "      <td>...</td>\n",
              "      <td>...</td>\n",
              "      <td>...</td>\n",
              "      <td>...</td>\n",
              "      <td>...</td>\n",
              "      <td>...</td>\n",
              "      <td>...</td>\n",
              "      <td>...</td>\n",
              "      <td>...</td>\n",
              "      <td>...</td>\n",
              "      <td>...</td>\n",
              "      <td>...</td>\n",
              "      <td>...</td>\n",
              "      <td>...</td>\n",
              "      <td>...</td>\n",
              "      <td>...</td>\n",
              "      <td>...</td>\n",
              "      <td>...</td>\n",
              "      <td>...</td>\n",
              "    </tr>\n",
              "    <tr>\n",
              "      <th>77</th>\n",
              "      <td>-2.247870</td>\n",
              "      <td>-2.695761</td>\n",
              "      <td>-0.932922</td>\n",
              "      <td>-5.468601</td>\n",
              "      <td>-1.497197</td>\n",
              "      <td>-5.348270</td>\n",
              "      <td>-2.066755</td>\n",
              "      <td>-3.267211</td>\n",
              "      <td>-1.935185</td>\n",
              "      <td>-3.216589</td>\n",
              "      <td>-1.510092</td>\n",
              "      <td>-2.148279</td>\n",
              "      <td>-2.634754</td>\n",
              "      <td>-7.641832</td>\n",
              "      <td>-2.866753</td>\n",
              "      <td>-3.669294</td>\n",
              "      <td>-0.451698</td>\n",
              "      <td>-2.525874</td>\n",
              "      <td>0.999360</td>\n",
              "      <td>0.999991</td>\n",
              "      <td>0.992401</td>\n",
              "      <td>0.998774</td>\n",
              "      <td>1.000000</td>\n",
              "      <td>4.7</td>\n",
              "    </tr>\n",
              "    <tr>\n",
              "      <th>78</th>\n",
              "      <td>-1.204691</td>\n",
              "      <td>-2.154405</td>\n",
              "      <td>-0.693697</td>\n",
              "      <td>-4.653790</td>\n",
              "      <td>-0.989784</td>\n",
              "      <td>-6.958145</td>\n",
              "      <td>-3.083191</td>\n",
              "      <td>-1.447739</td>\n",
              "      <td>-2.728833</td>\n",
              "      <td>-4.454429</td>\n",
              "      <td>-0.893002</td>\n",
              "      <td>-2.856616</td>\n",
              "      <td>-2.519794</td>\n",
              "      <td>-4.358291</td>\n",
              "      <td>-3.592949</td>\n",
              "      <td>-3.895416</td>\n",
              "      <td>0.281588</td>\n",
              "      <td>-2.383605</td>\n",
              "      <td>0.999625</td>\n",
              "      <td>0.999537</td>\n",
              "      <td>0.987859</td>\n",
              "      <td>0.999095</td>\n",
              "      <td>1.000000</td>\n",
              "      <td>4.0</td>\n",
              "    </tr>\n",
              "    <tr>\n",
              "      <th>79</th>\n",
              "      <td>-1.337873</td>\n",
              "      <td>-1.917539</td>\n",
              "      <td>-0.742821</td>\n",
              "      <td>-4.561998</td>\n",
              "      <td>-2.193726</td>\n",
              "      <td>-5.323779</td>\n",
              "      <td>-4.394251</td>\n",
              "      <td>-1.312465</td>\n",
              "      <td>-2.222228</td>\n",
              "      <td>-4.245948</td>\n",
              "      <td>-1.477661</td>\n",
              "      <td>-2.255113</td>\n",
              "      <td>-1.368516</td>\n",
              "      <td>-6.786782</td>\n",
              "      <td>-2.221639</td>\n",
              "      <td>-3.056663</td>\n",
              "      <td>0.387156</td>\n",
              "      <td>-1.724825</td>\n",
              "      <td>0.999914</td>\n",
              "      <td>0.993296</td>\n",
              "      <td>0.933430</td>\n",
              "      <td>0.999972</td>\n",
              "      <td>1.000000</td>\n",
              "      <td>4.7</td>\n",
              "    </tr>\n",
              "    <tr>\n",
              "      <th>80</th>\n",
              "      <td>-2.920534</td>\n",
              "      <td>-3.951263</td>\n",
              "      <td>-1.233765</td>\n",
              "      <td>-5.946329</td>\n",
              "      <td>-6.810845</td>\n",
              "      <td>-5.927144</td>\n",
              "      <td>-3.987623</td>\n",
              "      <td>-4.672496</td>\n",
              "      <td>-1.747967</td>\n",
              "      <td>-4.772371</td>\n",
              "      <td>-4.642920</td>\n",
              "      <td>-2.352367</td>\n",
              "      <td>-3.957139</td>\n",
              "      <td>-5.675848</td>\n",
              "      <td>-9.433144</td>\n",
              "      <td>-4.329388</td>\n",
              "      <td>-1.704252</td>\n",
              "      <td>-5.290677</td>\n",
              "      <td>0.928157</td>\n",
              "      <td>0.999905</td>\n",
              "      <td>0.821510</td>\n",
              "      <td>0.998875</td>\n",
              "      <td>0.999839</td>\n",
              "      <td>0.7</td>\n",
              "    </tr>\n",
              "    <tr>\n",
              "      <th>81</th>\n",
              "      <td>-2.019746</td>\n",
              "      <td>-2.043876</td>\n",
              "      <td>-0.942020</td>\n",
              "      <td>-3.844561</td>\n",
              "      <td>-4.231821</td>\n",
              "      <td>-4.066077</td>\n",
              "      <td>-1.914924</td>\n",
              "      <td>-0.734435</td>\n",
              "      <td>-4.103053</td>\n",
              "      <td>-2.036707</td>\n",
              "      <td>-2.240574</td>\n",
              "      <td>-1.844244</td>\n",
              "      <td>-0.337299</td>\n",
              "      <td>-5.658569</td>\n",
              "      <td>-4.166326</td>\n",
              "      <td>-3.425894</td>\n",
              "      <td>1.057681</td>\n",
              "      <td>-1.223777</td>\n",
              "      <td>0.999999</td>\n",
              "      <td>0.999908</td>\n",
              "      <td>0.989216</td>\n",
              "      <td>0.669728</td>\n",
              "      <td>0.999547</td>\n",
              "      <td>5.0</td>\n",
              "    </tr>\n",
              "  </tbody>\n",
              "</table>\n",
              "<p>82 rows × 24 columns</p>\n",
              "</div>"
            ],
            "text/plain": [
              "    Atelectasis  Consolidation  ...  Xception  geographic_mean\n",
              "0     -1.995463      -2.250835  ...  0.998013              2.3\n",
              "1     -2.284326      -4.367359  ...  0.970292              4.0\n",
              "2     -2.176806      -3.614070  ...  0.999502              4.7\n",
              "3     -2.716297      -3.918124  ...  0.360342              5.7\n",
              "4     -2.065649      -2.314026  ...  0.999166              2.0\n",
              "..          ...            ...  ...       ...              ...\n",
              "77    -2.247870      -2.695761  ...  1.000000              4.7\n",
              "78    -1.204691      -2.154405  ...  1.000000              4.0\n",
              "79    -1.337873      -1.917539  ...  1.000000              4.7\n",
              "80    -2.920534      -3.951263  ...  0.999839              0.7\n",
              "81    -2.019746      -2.043876  ...  0.999547              5.0\n",
              "\n",
              "[82 rows x 24 columns]"
            ]
          },
          "metadata": {},
          "execution_count": 114
        }
      ]
    },
    {
      "cell_type": "markdown",
      "metadata": {
        "id": "x1A1zVp9v5y1"
      },
      "source": [
        "Remove from the dataframe above the geographic mean column and show the shape of that\n"
      ]
    },
    {
      "cell_type": "code",
      "metadata": {
        "colab": {
          "base_uri": "https://localhost:8080/"
        },
        "id": "gv3w5-Zo27Oz",
        "outputId": "8336e0c5-f1e6-426b-9bd1-729d289ecdc5"
      },
      "source": [
        "# remove from the dataframe above the geographic mean column and show the shape of that\n",
        "X = df_all_gm.drop('geographic_mean', axis=1)\n",
        "y = df_all_gm.geographic_mean.copy()\n",
        "print(X.shape, y.shape)"
      ],
      "execution_count": null,
      "outputs": [
        {
          "output_type": "stream",
          "text": [
            "(82, 23) (82,)\n"
          ],
          "name": "stdout"
        }
      ]
    },
    {
      "cell_type": "markdown",
      "metadata": {
        "id": "QbrpmJfEv_wH"
      },
      "source": [
        "Split of the data for testing and training data\n"
      ]
    },
    {
      "cell_type": "code",
      "metadata": {
        "colab": {
          "base_uri": "https://localhost:8080/"
        },
        "id": "5IWprpo58DbP",
        "outputId": "de231ac9-356d-49d4-bc96-ef01b80ec80c"
      },
      "source": [
        "# Split of the data for testing and training data\n",
        "X_train, X_test, y_train, y_test = train_test_split(X, y, test_size = 0.25, random_state = 0)\n",
        "print(X_train.shape, y_train.shape, X_test.shape, y_test.shape)"
      ],
      "execution_count": null,
      "outputs": [
        {
          "output_type": "stream",
          "text": [
            "(61, 23) (61,) (21, 23) (21,)\n"
          ],
          "name": "stdout"
        }
      ]
    },
    {
      "cell_type": "markdown",
      "metadata": {
        "id": "J2H5aqzvwCnz"
      },
      "source": [
        "The data is normalized \n"
      ]
    },
    {
      "cell_type": "code",
      "metadata": {
        "id": "-mC-ixhi8gzo"
      },
      "source": [
        "# The data is normalized \n",
        "scaler=StandardScaler()\n",
        "scaler.fit(X_train)\n",
        "\n",
        "X_train_scaled = scaler.transform(X_train)\n",
        "X_test_scaled = scaler.transform(X_test)"
      ],
      "execution_count": null,
      "outputs": []
    },
    {
      "cell_type": "markdown",
      "metadata": {
        "id": "7x2oP0QXwGvN"
      },
      "source": [
        "Defining the model with 200 epochs"
      ]
    },
    {
      "cell_type": "code",
      "metadata": {
        "colab": {
          "base_uri": "https://localhost:8080/"
        },
        "id": "iyJA2Qia774h",
        "outputId": "56a187ab-f8d4-47cc-df76-6c8ce9ed3b9f"
      },
      "source": [
        "# Defining the model with 200 epochs\n",
        "\n",
        "model_nn = Sequential()\n",
        "model_nn.add(Dense(10, input_dim=23, activation='relu'))\n",
        "model_nn.add(Dense(1, activation='linear'))\n",
        "\n",
        "model_nn.compile(loss='mean_squared_error', optimizer='adam', metrics=['mae'])\n",
        "model_nn.summary()\n",
        "\n",
        "history = model_nn.fit(X_train_scaled, y_train, validation_split=0.1, epochs=200)"
      ],
      "execution_count": null,
      "outputs": [
        {
          "output_type": "stream",
          "text": [
            "Model: \"sequential_4\"\n",
            "_________________________________________________________________\n",
            "Layer (type)                 Output Shape              Param #   \n",
            "=================================================================\n",
            "dense_8 (Dense)              (None, 10)                240       \n",
            "_________________________________________________________________\n",
            "dense_9 (Dense)              (None, 1)                 11        \n",
            "=================================================================\n",
            "Total params: 251\n",
            "Trainable params: 251\n",
            "Non-trainable params: 0\n",
            "_________________________________________________________________\n",
            "Epoch 1/200\n",
            "2/2 [==============================] - 0s 126ms/step - loss: 29.4024 - mae: 4.8143 - val_loss: 18.6000 - val_mae: 3.8260\n",
            "Epoch 2/200\n",
            "2/2 [==============================] - 0s 25ms/step - loss: 28.9868 - mae: 4.7783 - val_loss: 18.3779 - val_mae: 3.8033\n",
            "Epoch 3/200\n",
            "2/2 [==============================] - 0s 30ms/step - loss: 28.5927 - mae: 4.7429 - val_loss: 18.1577 - val_mae: 3.7803\n",
            "Epoch 4/200\n",
            "2/2 [==============================] - 0s 21ms/step - loss: 28.2086 - mae: 4.7082 - val_loss: 17.9408 - val_mae: 3.7581\n",
            "Epoch 5/200\n",
            "2/2 [==============================] - 0s 19ms/step - loss: 27.7991 - mae: 4.6731 - val_loss: 17.7253 - val_mae: 3.7359\n",
            "Epoch 6/200\n",
            "2/2 [==============================] - 0s 19ms/step - loss: 27.4257 - mae: 4.6392 - val_loss: 17.5103 - val_mae: 3.7138\n",
            "Epoch 7/200\n",
            "2/2 [==============================] - 0s 22ms/step - loss: 27.0985 - mae: 4.6074 - val_loss: 17.2974 - val_mae: 3.6918\n",
            "Epoch 8/200\n",
            "2/2 [==============================] - 0s 24ms/step - loss: 26.7404 - mae: 4.5748 - val_loss: 17.0908 - val_mae: 3.6698\n",
            "Epoch 9/200\n",
            "2/2 [==============================] - 0s 23ms/step - loss: 26.4001 - mae: 4.5426 - val_loss: 16.8843 - val_mae: 3.6479\n",
            "Epoch 10/200\n",
            "2/2 [==============================] - 0s 22ms/step - loss: 26.0470 - mae: 4.5103 - val_loss: 16.6785 - val_mae: 3.6260\n",
            "Epoch 11/200\n",
            "2/2 [==============================] - 0s 23ms/step - loss: 25.7252 - mae: 4.4792 - val_loss: 16.4729 - val_mae: 3.6043\n",
            "Epoch 12/200\n",
            "2/2 [==============================] - 0s 20ms/step - loss: 25.3701 - mae: 4.4478 - val_loss: 16.2761 - val_mae: 3.5829\n",
            "Epoch 13/200\n",
            "2/2 [==============================] - 0s 20ms/step - loss: 25.0864 - mae: 4.4188 - val_loss: 16.0781 - val_mae: 3.5615\n",
            "Epoch 14/200\n",
            "2/2 [==============================] - 0s 21ms/step - loss: 24.7617 - mae: 4.3881 - val_loss: 15.8843 - val_mae: 3.5401\n",
            "Epoch 15/200\n",
            "2/2 [==============================] - 0s 21ms/step - loss: 24.4715 - mae: 4.3598 - val_loss: 15.6951 - val_mae: 3.5194\n",
            "Epoch 16/200\n",
            "2/2 [==============================] - 0s 24ms/step - loss: 24.1546 - mae: 4.3297 - val_loss: 15.5070 - val_mae: 3.4985\n",
            "Epoch 17/200\n",
            "2/2 [==============================] - 0s 22ms/step - loss: 23.8679 - mae: 4.3010 - val_loss: 15.3201 - val_mae: 3.4777\n",
            "Epoch 18/200\n",
            "2/2 [==============================] - 0s 20ms/step - loss: 23.5779 - mae: 4.2729 - val_loss: 15.1373 - val_mae: 3.4571\n",
            "Epoch 19/200\n",
            "2/2 [==============================] - 0s 20ms/step - loss: 23.3075 - mae: 4.2449 - val_loss: 14.9531 - val_mae: 3.4364\n",
            "Epoch 20/200\n",
            "2/2 [==============================] - 0s 28ms/step - loss: 22.9941 - mae: 4.2149 - val_loss: 14.7753 - val_mae: 3.4160\n",
            "Epoch 21/200\n",
            "2/2 [==============================] - 0s 23ms/step - loss: 22.7167 - mae: 4.1868 - val_loss: 14.5952 - val_mae: 3.3953\n",
            "Epoch 22/200\n",
            "2/2 [==============================] - 0s 25ms/step - loss: 22.4379 - mae: 4.1588 - val_loss: 14.4164 - val_mae: 3.3747\n",
            "Epoch 23/200\n",
            "2/2 [==============================] - 0s 21ms/step - loss: 22.1481 - mae: 4.1301 - val_loss: 14.2381 - val_mae: 3.3548\n",
            "Epoch 24/200\n",
            "2/2 [==============================] - 0s 26ms/step - loss: 21.8779 - mae: 4.1027 - val_loss: 14.0620 - val_mae: 3.3348\n",
            "Epoch 25/200\n",
            "2/2 [==============================] - 0s 20ms/step - loss: 21.6098 - mae: 4.0754 - val_loss: 13.8881 - val_mae: 3.3150\n",
            "Epoch 26/200\n",
            "2/2 [==============================] - 0s 21ms/step - loss: 21.3395 - mae: 4.0479 - val_loss: 13.7167 - val_mae: 3.2954\n",
            "Epoch 27/200\n",
            "2/2 [==============================] - 0s 20ms/step - loss: 21.0816 - mae: 4.0217 - val_loss: 13.5472 - val_mae: 3.2758\n",
            "Epoch 28/200\n",
            "2/2 [==============================] - 0s 20ms/step - loss: 20.8056 - mae: 3.9942 - val_loss: 13.3835 - val_mae: 3.2563\n",
            "Epoch 29/200\n",
            "2/2 [==============================] - 0s 23ms/step - loss: 20.5540 - mae: 3.9676 - val_loss: 13.2188 - val_mae: 3.2369\n",
            "Epoch 30/200\n",
            "2/2 [==============================] - 0s 22ms/step - loss: 20.2972 - mae: 3.9413 - val_loss: 13.0556 - val_mae: 3.2175\n",
            "Epoch 31/200\n",
            "2/2 [==============================] - 0s 24ms/step - loss: 20.0674 - mae: 3.9164 - val_loss: 12.8906 - val_mae: 3.1979\n",
            "Epoch 32/200\n",
            "2/2 [==============================] - 0s 20ms/step - loss: 19.8145 - mae: 3.8901 - val_loss: 12.7284 - val_mae: 3.1781\n",
            "Epoch 33/200\n",
            "2/2 [==============================] - 0s 25ms/step - loss: 19.5742 - mae: 3.8644 - val_loss: 12.5671 - val_mae: 3.1586\n",
            "Epoch 34/200\n",
            "2/2 [==============================] - 0s 21ms/step - loss: 19.3319 - mae: 3.8384 - val_loss: 12.4102 - val_mae: 3.1391\n",
            "Epoch 35/200\n",
            "2/2 [==============================] - 0s 23ms/step - loss: 19.0795 - mae: 3.8123 - val_loss: 12.2609 - val_mae: 3.1212\n",
            "Epoch 36/200\n",
            "2/2 [==============================] - 0s 25ms/step - loss: 18.8453 - mae: 3.7869 - val_loss: 12.1120 - val_mae: 3.1030\n",
            "Epoch 37/200\n",
            "2/2 [==============================] - 0s 23ms/step - loss: 18.6203 - mae: 3.7619 - val_loss: 11.9660 - val_mae: 3.0851\n",
            "Epoch 38/200\n",
            "2/2 [==============================] - 0s 28ms/step - loss: 18.3903 - mae: 3.7366 - val_loss: 11.8199 - val_mae: 3.0670\n",
            "Epoch 39/200\n",
            "2/2 [==============================] - 0s 24ms/step - loss: 18.1528 - mae: 3.7115 - val_loss: 11.6752 - val_mae: 3.0490\n",
            "Epoch 40/200\n",
            "2/2 [==============================] - 0s 23ms/step - loss: 17.9348 - mae: 3.6874 - val_loss: 11.5305 - val_mae: 3.0310\n",
            "Epoch 41/200\n",
            "2/2 [==============================] - 0s 25ms/step - loss: 17.7257 - mae: 3.6634 - val_loss: 11.3853 - val_mae: 3.0128\n",
            "Epoch 42/200\n",
            "2/2 [==============================] - 0s 31ms/step - loss: 17.4908 - mae: 3.6389 - val_loss: 11.2444 - val_mae: 2.9948\n",
            "Epoch 43/200\n",
            "2/2 [==============================] - 0s 23ms/step - loss: 17.2930 - mae: 3.6159 - val_loss: 11.1028 - val_mae: 2.9767\n",
            "Epoch 44/200\n",
            "2/2 [==============================] - 0s 21ms/step - loss: 17.0671 - mae: 3.5913 - val_loss: 10.9632 - val_mae: 2.9588\n",
            "Epoch 45/200\n",
            "2/2 [==============================] - 0s 24ms/step - loss: 16.8732 - mae: 3.5682 - val_loss: 10.8234 - val_mae: 2.9405\n",
            "Epoch 46/200\n",
            "2/2 [==============================] - 0s 24ms/step - loss: 16.6673 - mae: 3.5444 - val_loss: 10.6851 - val_mae: 2.9222\n",
            "Epoch 47/200\n",
            "2/2 [==============================] - 0s 23ms/step - loss: 16.4540 - mae: 3.5204 - val_loss: 10.5495 - val_mae: 2.9039\n",
            "Epoch 48/200\n",
            "2/2 [==============================] - 0s 25ms/step - loss: 16.2575 - mae: 3.4972 - val_loss: 10.4118 - val_mae: 2.8853\n",
            "Epoch 49/200\n",
            "2/2 [==============================] - 0s 22ms/step - loss: 16.0598 - mae: 3.4739 - val_loss: 10.2755 - val_mae: 2.8663\n",
            "Epoch 50/200\n",
            "2/2 [==============================] - 0s 25ms/step - loss: 15.8718 - mae: 3.4508 - val_loss: 10.1404 - val_mae: 2.8474\n",
            "Epoch 51/200\n",
            "2/2 [==============================] - 0s 22ms/step - loss: 15.6626 - mae: 3.4265 - val_loss: 10.0098 - val_mae: 2.8287\n",
            "Epoch 52/200\n",
            "2/2 [==============================] - 0s 25ms/step - loss: 15.4744 - mae: 3.4033 - val_loss: 9.8808 - val_mae: 2.8102\n",
            "Epoch 53/200\n",
            "2/2 [==============================] - 0s 25ms/step - loss: 15.2851 - mae: 3.3806 - val_loss: 9.7517 - val_mae: 2.7914\n",
            "Epoch 54/200\n",
            "2/2 [==============================] - 0s 27ms/step - loss: 15.0954 - mae: 3.3573 - val_loss: 9.6231 - val_mae: 2.7726\n",
            "Epoch 55/200\n",
            "2/2 [==============================] - 0s 22ms/step - loss: 14.9107 - mae: 3.3345 - val_loss: 9.4951 - val_mae: 2.7537\n",
            "Epoch 56/200\n",
            "2/2 [==============================] - 0s 24ms/step - loss: 14.7187 - mae: 3.3110 - val_loss: 9.3682 - val_mae: 2.7349\n",
            "Epoch 57/200\n",
            "2/2 [==============================] - 0s 20ms/step - loss: 14.5446 - mae: 3.2891 - val_loss: 9.2411 - val_mae: 2.7161\n",
            "Epoch 58/200\n",
            "2/2 [==============================] - 0s 23ms/step - loss: 14.3649 - mae: 3.2662 - val_loss: 9.1149 - val_mae: 2.6973\n",
            "Epoch 59/200\n",
            "2/2 [==============================] - 0s 21ms/step - loss: 14.1766 - mae: 3.2423 - val_loss: 8.9912 - val_mae: 2.6785\n",
            "Epoch 60/200\n",
            "2/2 [==============================] - 0s 22ms/step - loss: 13.9948 - mae: 3.2192 - val_loss: 8.8680 - val_mae: 2.6597\n",
            "Epoch 61/200\n",
            "2/2 [==============================] - 0s 20ms/step - loss: 13.8211 - mae: 3.1974 - val_loss: 8.7466 - val_mae: 2.6410\n",
            "Epoch 62/200\n",
            "2/2 [==============================] - 0s 23ms/step - loss: 13.6388 - mae: 3.1735 - val_loss: 8.6281 - val_mae: 2.6226\n",
            "Epoch 63/200\n",
            "2/2 [==============================] - 0s 26ms/step - loss: 13.4680 - mae: 3.1510 - val_loss: 8.5094 - val_mae: 2.6041\n",
            "Epoch 64/200\n",
            "2/2 [==============================] - 0s 24ms/step - loss: 13.2844 - mae: 3.1271 - val_loss: 8.3920 - val_mae: 2.5854\n",
            "Epoch 65/200\n",
            "2/2 [==============================] - 0s 22ms/step - loss: 13.1206 - mae: 3.1052 - val_loss: 8.2741 - val_mae: 2.5666\n",
            "Epoch 66/200\n",
            "2/2 [==============================] - 0s 22ms/step - loss: 12.9565 - mae: 3.0818 - val_loss: 8.1583 - val_mae: 2.5481\n",
            "Epoch 67/200\n",
            "2/2 [==============================] - 0s 39ms/step - loss: 12.7819 - mae: 3.0593 - val_loss: 8.0453 - val_mae: 2.5298\n",
            "Epoch 68/200\n",
            "2/2 [==============================] - 0s 30ms/step - loss: 12.6017 - mae: 3.0351 - val_loss: 7.9351 - val_mae: 2.5116\n",
            "Epoch 69/200\n",
            "2/2 [==============================] - 0s 22ms/step - loss: 12.4392 - mae: 3.0124 - val_loss: 7.8259 - val_mae: 2.4937\n",
            "Epoch 70/200\n",
            "2/2 [==============================] - 0s 25ms/step - loss: 12.3004 - mae: 2.9915 - val_loss: 7.7160 - val_mae: 2.4754\n",
            "Epoch 71/200\n",
            "2/2 [==============================] - 0s 24ms/step - loss: 12.1363 - mae: 2.9685 - val_loss: 7.6087 - val_mae: 2.4572\n",
            "Epoch 72/200\n",
            "2/2 [==============================] - 0s 22ms/step - loss: 11.9765 - mae: 2.9462 - val_loss: 7.5036 - val_mae: 2.4392\n",
            "Epoch 73/200\n",
            "2/2 [==============================] - 0s 22ms/step - loss: 11.8144 - mae: 2.9230 - val_loss: 7.4006 - val_mae: 2.4213\n",
            "Epoch 74/200\n",
            "2/2 [==============================] - 0s 28ms/step - loss: 11.6684 - mae: 2.9013 - val_loss: 7.2983 - val_mae: 2.4033\n",
            "Epoch 75/200\n",
            "2/2 [==============================] - 0s 25ms/step - loss: 11.5113 - mae: 2.8783 - val_loss: 7.1976 - val_mae: 2.3854\n",
            "Epoch 76/200\n",
            "2/2 [==============================] - 0s 23ms/step - loss: 11.3672 - mae: 2.8567 - val_loss: 7.0968 - val_mae: 2.3674\n",
            "Epoch 77/200\n",
            "2/2 [==============================] - 0s 24ms/step - loss: 11.2208 - mae: 2.8353 - val_loss: 6.9978 - val_mae: 2.3494\n",
            "Epoch 78/200\n",
            "2/2 [==============================] - 0s 28ms/step - loss: 11.0685 - mae: 2.8120 - val_loss: 6.8997 - val_mae: 2.3313\n",
            "Epoch 79/200\n",
            "2/2 [==============================] - 0s 23ms/step - loss: 10.9230 - mae: 2.7902 - val_loss: 6.8022 - val_mae: 2.3131\n",
            "Epoch 80/200\n",
            "2/2 [==============================] - 0s 29ms/step - loss: 10.7854 - mae: 2.7694 - val_loss: 6.7046 - val_mae: 2.2947\n",
            "Epoch 81/200\n",
            "2/2 [==============================] - 0s 22ms/step - loss: 10.6433 - mae: 2.7462 - val_loss: 6.6093 - val_mae: 2.2765\n",
            "Epoch 82/200\n",
            "2/2 [==============================] - 0s 37ms/step - loss: 10.5039 - mae: 2.7248 - val_loss: 6.5188 - val_mae: 2.2589\n",
            "Epoch 83/200\n",
            "2/2 [==============================] - 0s 24ms/step - loss: 10.3660 - mae: 2.7023 - val_loss: 6.4294 - val_mae: 2.2411\n",
            "Epoch 84/200\n",
            "2/2 [==============================] - 0s 27ms/step - loss: 10.2228 - mae: 2.6803 - val_loss: 6.3427 - val_mae: 2.2235\n",
            "Epoch 85/200\n",
            "2/2 [==============================] - 0s 25ms/step - loss: 10.0890 - mae: 2.6585 - val_loss: 6.2571 - val_mae: 2.2058\n",
            "Epoch 86/200\n",
            "2/2 [==============================] - 0s 26ms/step - loss: 9.9577 - mae: 2.6372 - val_loss: 6.1733 - val_mae: 2.1884\n",
            "Epoch 87/200\n",
            "2/2 [==============================] - 0s 24ms/step - loss: 9.8237 - mae: 2.6146 - val_loss: 6.0905 - val_mae: 2.1709\n",
            "Epoch 88/200\n",
            "2/2 [==============================] - 0s 24ms/step - loss: 9.6889 - mae: 2.5932 - val_loss: 6.0098 - val_mae: 2.1536\n",
            "Epoch 89/200\n",
            "2/2 [==============================] - 0s 23ms/step - loss: 9.5624 - mae: 2.5710 - val_loss: 5.9299 - val_mae: 2.1364\n",
            "Epoch 90/200\n",
            "2/2 [==============================] - 0s 25ms/step - loss: 9.4420 - mae: 2.5510 - val_loss: 5.8510 - val_mae: 2.1191\n",
            "Epoch 91/200\n",
            "2/2 [==============================] - 0s 23ms/step - loss: 9.3170 - mae: 2.5295 - val_loss: 5.7734 - val_mae: 2.1018\n",
            "Epoch 92/200\n",
            "2/2 [==============================] - 0s 23ms/step - loss: 9.1877 - mae: 2.5077 - val_loss: 5.6965 - val_mae: 2.0844\n",
            "Epoch 93/200\n",
            "2/2 [==============================] - 0s 24ms/step - loss: 9.0618 - mae: 2.4849 - val_loss: 5.6214 - val_mae: 2.0672\n",
            "Epoch 94/200\n",
            "2/2 [==============================] - 0s 22ms/step - loss: 8.9596 - mae: 2.4650 - val_loss: 5.5464 - val_mae: 2.0498\n",
            "Epoch 95/200\n",
            "2/2 [==============================] - 0s 20ms/step - loss: 8.8269 - mae: 2.4434 - val_loss: 5.4731 - val_mae: 2.0325\n",
            "Epoch 96/200\n",
            "2/2 [==============================] - 0s 23ms/step - loss: 8.7193 - mae: 2.4231 - val_loss: 5.4007 - val_mae: 2.0152\n",
            "Epoch 97/200\n",
            "2/2 [==============================] - 0s 25ms/step - loss: 8.5956 - mae: 2.4013 - val_loss: 5.3296 - val_mae: 1.9978\n",
            "Epoch 98/200\n",
            "2/2 [==============================] - 0s 27ms/step - loss: 8.4885 - mae: 2.3809 - val_loss: 5.2594 - val_mae: 1.9803\n",
            "Epoch 99/200\n",
            "2/2 [==============================] - 0s 22ms/step - loss: 8.3826 - mae: 2.3602 - val_loss: 5.1906 - val_mae: 1.9629\n",
            "Epoch 100/200\n",
            "2/2 [==============================] - 0s 22ms/step - loss: 8.2719 - mae: 2.3391 - val_loss: 5.1241 - val_mae: 1.9458\n",
            "Epoch 101/200\n",
            "2/2 [==============================] - 0s 25ms/step - loss: 8.1664 - mae: 2.3182 - val_loss: 5.0590 - val_mae: 1.9288\n",
            "Epoch 102/200\n",
            "2/2 [==============================] - 0s 32ms/step - loss: 8.0578 - mae: 2.2971 - val_loss: 4.9959 - val_mae: 1.9121\n",
            "Epoch 103/200\n",
            "2/2 [==============================] - 0s 22ms/step - loss: 7.9510 - mae: 2.2789 - val_loss: 4.9344 - val_mae: 1.8956\n",
            "Epoch 104/200\n",
            "2/2 [==============================] - 0s 23ms/step - loss: 7.8525 - mae: 2.2601 - val_loss: 4.8738 - val_mae: 1.8790\n",
            "Epoch 105/200\n",
            "2/2 [==============================] - 0s 24ms/step - loss: 7.7494 - mae: 2.2420 - val_loss: 4.8147 - val_mae: 1.8627\n",
            "Epoch 106/200\n",
            "2/2 [==============================] - 0s 22ms/step - loss: 7.6564 - mae: 2.2258 - val_loss: 4.7563 - val_mae: 1.8462\n",
            "Epoch 107/200\n",
            "2/2 [==============================] - 0s 22ms/step - loss: 7.5570 - mae: 2.2094 - val_loss: 4.6993 - val_mae: 1.8299\n",
            "Epoch 108/200\n",
            "2/2 [==============================] - 0s 23ms/step - loss: 7.4479 - mae: 2.1899 - val_loss: 4.6437 - val_mae: 1.8137\n",
            "Epoch 109/200\n",
            "2/2 [==============================] - 0s 22ms/step - loss: 7.3521 - mae: 2.1739 - val_loss: 4.5893 - val_mae: 1.7976\n",
            "Epoch 110/200\n",
            "2/2 [==============================] - 0s 21ms/step - loss: 7.2694 - mae: 2.1579 - val_loss: 4.5353 - val_mae: 1.7813\n",
            "Epoch 111/200\n",
            "2/2 [==============================] - 0s 21ms/step - loss: 7.1844 - mae: 2.1408 - val_loss: 4.4825 - val_mae: 1.7650\n",
            "Epoch 112/200\n",
            "2/2 [==============================] - 0s 25ms/step - loss: 7.0894 - mae: 2.1239 - val_loss: 4.4318 - val_mae: 1.7491\n",
            "Epoch 113/200\n",
            "2/2 [==============================] - 0s 28ms/step - loss: 6.9972 - mae: 2.1062 - val_loss: 4.3824 - val_mae: 1.7332\n",
            "Epoch 114/200\n",
            "2/2 [==============================] - 0s 33ms/step - loss: 6.9083 - mae: 2.0902 - val_loss: 4.3341 - val_mae: 1.7173\n",
            "Epoch 115/200\n",
            "2/2 [==============================] - 0s 21ms/step - loss: 6.8252 - mae: 2.0746 - val_loss: 4.2866 - val_mae: 1.7012\n",
            "Epoch 116/200\n",
            "2/2 [==============================] - 0s 21ms/step - loss: 6.7531 - mae: 2.0597 - val_loss: 4.2401 - val_mae: 1.6852\n",
            "Epoch 117/200\n",
            "2/2 [==============================] - 0s 23ms/step - loss: 6.6652 - mae: 2.0443 - val_loss: 4.1959 - val_mae: 1.6697\n",
            "Epoch 118/200\n",
            "2/2 [==============================] - 0s 24ms/step - loss: 6.5900 - mae: 2.0312 - val_loss: 4.1536 - val_mae: 1.6544\n",
            "Epoch 119/200\n",
            "2/2 [==============================] - 0s 23ms/step - loss: 6.5021 - mae: 2.0148 - val_loss: 4.1133 - val_mae: 1.6397\n",
            "Epoch 120/200\n",
            "2/2 [==============================] - 0s 23ms/step - loss: 6.4294 - mae: 2.0030 - val_loss: 4.0738 - val_mae: 1.6250\n",
            "Epoch 121/200\n",
            "2/2 [==============================] - 0s 23ms/step - loss: 6.3588 - mae: 1.9892 - val_loss: 4.0355 - val_mae: 1.6102\n",
            "Epoch 122/200\n",
            "2/2 [==============================] - 0s 25ms/step - loss: 6.2865 - mae: 1.9762 - val_loss: 3.9982 - val_mae: 1.5956\n",
            "Epoch 123/200\n",
            "2/2 [==============================] - 0s 31ms/step - loss: 6.2128 - mae: 1.9636 - val_loss: 3.9621 - val_mae: 1.5811\n",
            "Epoch 124/200\n",
            "2/2 [==============================] - 0s 23ms/step - loss: 6.1412 - mae: 1.9500 - val_loss: 3.9268 - val_mae: 1.5665\n",
            "Epoch 125/200\n",
            "2/2 [==============================] - 0s 21ms/step - loss: 6.0808 - mae: 1.9383 - val_loss: 3.8920 - val_mae: 1.5517\n",
            "Epoch 126/200\n",
            "2/2 [==============================] - 0s 26ms/step - loss: 6.0071 - mae: 1.9248 - val_loss: 3.8590 - val_mae: 1.5374\n",
            "Epoch 127/200\n",
            "2/2 [==============================] - 0s 24ms/step - loss: 5.9496 - mae: 1.9126 - val_loss: 3.8264 - val_mae: 1.5228\n",
            "Epoch 128/200\n",
            "2/2 [==============================] - 0s 23ms/step - loss: 5.8824 - mae: 1.8996 - val_loss: 3.7954 - val_mae: 1.5085\n",
            "Epoch 129/200\n",
            "2/2 [==============================] - 0s 24ms/step - loss: 5.8200 - mae: 1.8879 - val_loss: 3.7652 - val_mae: 1.4944\n",
            "Epoch 130/200\n",
            "2/2 [==============================] - 0s 21ms/step - loss: 5.7581 - mae: 1.8750 - val_loss: 3.7365 - val_mae: 1.4806\n",
            "Epoch 131/200\n",
            "2/2 [==============================] - 0s 24ms/step - loss: 5.7022 - mae: 1.8633 - val_loss: 3.7089 - val_mae: 1.4670\n",
            "Epoch 132/200\n",
            "2/2 [==============================] - 0s 23ms/step - loss: 5.6391 - mae: 1.8505 - val_loss: 3.6824 - val_mae: 1.4535\n",
            "Epoch 133/200\n",
            "2/2 [==============================] - 0s 29ms/step - loss: 5.5856 - mae: 1.8394 - val_loss: 3.6567 - val_mae: 1.4402\n",
            "Epoch 134/200\n",
            "2/2 [==============================] - 0s 19ms/step - loss: 5.5325 - mae: 1.8285 - val_loss: 3.6318 - val_mae: 1.4268\n",
            "Epoch 135/200\n",
            "2/2 [==============================] - 0s 21ms/step - loss: 5.4760 - mae: 1.8182 - val_loss: 3.6080 - val_mae: 1.4137\n",
            "Epoch 136/200\n",
            "2/2 [==============================] - 0s 22ms/step - loss: 5.4211 - mae: 1.8077 - val_loss: 3.5853 - val_mae: 1.4010\n",
            "Epoch 137/200\n",
            "2/2 [==============================] - 0s 22ms/step - loss: 5.3681 - mae: 1.7966 - val_loss: 3.5634 - val_mae: 1.3884\n",
            "Epoch 138/200\n",
            "2/2 [==============================] - 0s 20ms/step - loss: 5.3193 - mae: 1.7865 - val_loss: 3.5426 - val_mae: 1.3761\n",
            "Epoch 139/200\n",
            "2/2 [==============================] - 0s 42ms/step - loss: 5.2703 - mae: 1.7762 - val_loss: 3.5229 - val_mae: 1.3638\n",
            "Epoch 140/200\n",
            "2/2 [==============================] - 0s 25ms/step - loss: 5.2237 - mae: 1.7654 - val_loss: 3.5036 - val_mae: 1.3517\n",
            "Epoch 141/200\n",
            "2/2 [==============================] - 0s 24ms/step - loss: 5.1729 - mae: 1.7556 - val_loss: 3.4847 - val_mae: 1.3396\n",
            "Epoch 142/200\n",
            "2/2 [==============================] - 0s 26ms/step - loss: 5.1312 - mae: 1.7462 - val_loss: 3.4666 - val_mae: 1.3276\n",
            "Epoch 143/200\n",
            "2/2 [==============================] - 0s 28ms/step - loss: 5.0823 - mae: 1.7350 - val_loss: 3.4496 - val_mae: 1.3160\n",
            "Epoch 144/200\n",
            "2/2 [==============================] - 0s 23ms/step - loss: 5.0381 - mae: 1.7255 - val_loss: 3.4334 - val_mae: 1.3045\n",
            "Epoch 145/200\n",
            "2/2 [==============================] - 0s 22ms/step - loss: 4.9946 - mae: 1.7155 - val_loss: 3.4179 - val_mae: 1.2931\n",
            "Epoch 146/200\n",
            "2/2 [==============================] - 0s 22ms/step - loss: 4.9523 - mae: 1.7057 - val_loss: 3.4029 - val_mae: 1.2817\n",
            "Epoch 147/200\n",
            "2/2 [==============================] - 0s 22ms/step - loss: 4.9109 - mae: 1.6969 - val_loss: 3.3885 - val_mae: 1.2704\n",
            "Epoch 148/200\n",
            "2/2 [==============================] - 0s 27ms/step - loss: 4.8682 - mae: 1.6885 - val_loss: 3.3748 - val_mae: 1.2592\n",
            "Epoch 149/200\n",
            "2/2 [==============================] - 0s 36ms/step - loss: 4.8269 - mae: 1.6801 - val_loss: 3.3616 - val_mae: 1.2482\n",
            "Epoch 150/200\n",
            "2/2 [==============================] - 0s 23ms/step - loss: 4.7876 - mae: 1.6723 - val_loss: 3.3488 - val_mae: 1.2374\n",
            "Epoch 151/200\n",
            "2/2 [==============================] - 0s 27ms/step - loss: 4.7487 - mae: 1.6647 - val_loss: 3.3366 - val_mae: 1.2267\n",
            "Epoch 152/200\n",
            "2/2 [==============================] - 0s 20ms/step - loss: 4.7107 - mae: 1.6571 - val_loss: 3.3242 - val_mae: 1.2159\n",
            "Epoch 153/200\n",
            "2/2 [==============================] - 0s 21ms/step - loss: 4.6713 - mae: 1.6493 - val_loss: 3.3124 - val_mae: 1.2053\n",
            "Epoch 154/200\n",
            "2/2 [==============================] - 0s 30ms/step - loss: 4.6303 - mae: 1.6416 - val_loss: 3.3016 - val_mae: 1.1951\n",
            "Epoch 155/200\n",
            "2/2 [==============================] - 0s 26ms/step - loss: 4.5972 - mae: 1.6351 - val_loss: 3.2914 - val_mae: 1.1849\n",
            "Epoch 156/200\n",
            "2/2 [==============================] - 0s 27ms/step - loss: 4.5645 - mae: 1.6278 - val_loss: 3.2821 - val_mae: 1.1746\n",
            "Epoch 157/200\n",
            "2/2 [==============================] - 0s 21ms/step - loss: 4.5292 - mae: 1.6210 - val_loss: 3.2731 - val_mae: 1.1706\n",
            "Epoch 158/200\n",
            "2/2 [==============================] - 0s 23ms/step - loss: 4.4930 - mae: 1.6130 - val_loss: 3.2648 - val_mae: 1.1743\n",
            "Epoch 159/200\n",
            "2/2 [==============================] - 0s 29ms/step - loss: 4.4589 - mae: 1.6066 - val_loss: 3.2569 - val_mae: 1.1780\n",
            "Epoch 160/200\n",
            "2/2 [==============================] - 0s 32ms/step - loss: 4.4246 - mae: 1.5988 - val_loss: 3.2479 - val_mae: 1.1809\n",
            "Epoch 161/200\n",
            "2/2 [==============================] - 0s 28ms/step - loss: 4.3918 - mae: 1.5924 - val_loss: 3.2394 - val_mae: 1.1839\n",
            "Epoch 162/200\n",
            "2/2 [==============================] - 0s 25ms/step - loss: 4.3608 - mae: 1.5855 - val_loss: 3.2315 - val_mae: 1.1868\n",
            "Epoch 163/200\n",
            "2/2 [==============================] - 0s 31ms/step - loss: 4.3316 - mae: 1.5790 - val_loss: 3.2239 - val_mae: 1.1897\n",
            "Epoch 164/200\n",
            "2/2 [==============================] - 0s 25ms/step - loss: 4.2987 - mae: 1.5720 - val_loss: 3.2165 - val_mae: 1.1924\n",
            "Epoch 165/200\n",
            "2/2 [==============================] - 0s 27ms/step - loss: 4.2687 - mae: 1.5655 - val_loss: 3.2095 - val_mae: 1.1949\n",
            "Epoch 166/200\n",
            "2/2 [==============================] - 0s 26ms/step - loss: 4.2387 - mae: 1.5581 - val_loss: 3.2022 - val_mae: 1.1971\n",
            "Epoch 167/200\n",
            "2/2 [==============================] - 0s 25ms/step - loss: 4.2072 - mae: 1.5511 - val_loss: 3.1954 - val_mae: 1.1990\n",
            "Epoch 168/200\n",
            "2/2 [==============================] - 0s 29ms/step - loss: 4.1783 - mae: 1.5443 - val_loss: 3.1893 - val_mae: 1.2011\n",
            "Epoch 169/200\n",
            "2/2 [==============================] - 0s 25ms/step - loss: 4.1516 - mae: 1.5374 - val_loss: 3.1833 - val_mae: 1.2031\n",
            "Epoch 170/200\n",
            "2/2 [==============================] - 0s 23ms/step - loss: 4.1220 - mae: 1.5309 - val_loss: 3.1773 - val_mae: 1.2050\n",
            "Epoch 171/200\n",
            "2/2 [==============================] - 0s 24ms/step - loss: 4.0936 - mae: 1.5238 - val_loss: 3.1717 - val_mae: 1.2069\n",
            "Epoch 172/200\n",
            "2/2 [==============================] - 0s 23ms/step - loss: 4.0665 - mae: 1.5175 - val_loss: 3.1666 - val_mae: 1.2089\n",
            "Epoch 173/200\n",
            "2/2 [==============================] - 0s 25ms/step - loss: 4.0379 - mae: 1.5099 - val_loss: 3.1612 - val_mae: 1.2105\n",
            "Epoch 174/200\n",
            "2/2 [==============================] - 0s 22ms/step - loss: 4.0111 - mae: 1.5027 - val_loss: 3.1560 - val_mae: 1.2122\n",
            "Epoch 175/200\n",
            "2/2 [==============================] - 0s 22ms/step - loss: 3.9847 - mae: 1.4961 - val_loss: 3.1509 - val_mae: 1.2149\n",
            "Epoch 176/200\n",
            "2/2 [==============================] - 0s 24ms/step - loss: 3.9569 - mae: 1.4894 - val_loss: 3.1463 - val_mae: 1.2177\n",
            "Epoch 177/200\n",
            "2/2 [==============================] - 0s 25ms/step - loss: 3.9312 - mae: 1.4821 - val_loss: 3.1416 - val_mae: 1.2202\n",
            "Epoch 178/200\n",
            "2/2 [==============================] - 0s 31ms/step - loss: 3.9015 - mae: 1.4749 - val_loss: 3.1366 - val_mae: 1.2224\n",
            "Epoch 179/200\n",
            "2/2 [==============================] - 0s 30ms/step - loss: 3.8798 - mae: 1.4681 - val_loss: 3.1316 - val_mae: 1.2246\n",
            "Epoch 180/200\n",
            "2/2 [==============================] - 0s 25ms/step - loss: 3.8536 - mae: 1.4615 - val_loss: 3.1271 - val_mae: 1.2269\n",
            "Epoch 181/200\n",
            "2/2 [==============================] - 0s 24ms/step - loss: 3.8296 - mae: 1.4547 - val_loss: 3.1229 - val_mae: 1.2292\n",
            "Epoch 182/200\n",
            "2/2 [==============================] - 0s 24ms/step - loss: 3.8030 - mae: 1.4474 - val_loss: 3.1186 - val_mae: 1.2310\n",
            "Epoch 183/200\n",
            "2/2 [==============================] - 0s 26ms/step - loss: 3.7786 - mae: 1.4405 - val_loss: 3.1141 - val_mae: 1.2328\n",
            "Epoch 184/200\n",
            "2/2 [==============================] - 0s 32ms/step - loss: 3.7549 - mae: 1.4339 - val_loss: 3.1093 - val_mae: 1.2342\n",
            "Epoch 185/200\n",
            "2/2 [==============================] - 0s 25ms/step - loss: 3.7321 - mae: 1.4272 - val_loss: 3.1045 - val_mae: 1.2356\n",
            "Epoch 186/200\n",
            "2/2 [==============================] - 0s 26ms/step - loss: 3.7047 - mae: 1.4203 - val_loss: 3.0996 - val_mae: 1.2366\n",
            "Epoch 187/200\n",
            "2/2 [==============================] - 0s 24ms/step - loss: 3.6863 - mae: 1.4143 - val_loss: 3.0945 - val_mae: 1.2376\n",
            "Epoch 188/200\n",
            "2/2 [==============================] - 0s 26ms/step - loss: 3.6600 - mae: 1.4069 - val_loss: 3.0894 - val_mae: 1.2385\n",
            "Epoch 189/200\n",
            "2/2 [==============================] - 0s 24ms/step - loss: 3.6375 - mae: 1.4013 - val_loss: 3.0848 - val_mae: 1.2396\n",
            "Epoch 190/200\n",
            "2/2 [==============================] - 0s 23ms/step - loss: 3.6160 - mae: 1.3953 - val_loss: 3.0796 - val_mae: 1.2403\n",
            "Epoch 191/200\n",
            "2/2 [==============================] - 0s 29ms/step - loss: 3.5936 - mae: 1.3893 - val_loss: 3.0747 - val_mae: 1.2410\n",
            "Epoch 192/200\n",
            "2/2 [==============================] - 0s 25ms/step - loss: 3.5713 - mae: 1.3825 - val_loss: 3.0699 - val_mae: 1.2416\n",
            "Epoch 193/200\n",
            "2/2 [==============================] - 0s 30ms/step - loss: 3.5472 - mae: 1.3763 - val_loss: 3.0652 - val_mae: 1.2421\n",
            "Epoch 194/200\n",
            "2/2 [==============================] - 0s 29ms/step - loss: 3.5278 - mae: 1.3710 - val_loss: 3.0607 - val_mae: 1.2425\n",
            "Epoch 195/200\n",
            "2/2 [==============================] - 0s 28ms/step - loss: 3.5032 - mae: 1.3644 - val_loss: 3.0561 - val_mae: 1.2429\n",
            "Epoch 196/200\n",
            "2/2 [==============================] - 0s 26ms/step - loss: 3.4852 - mae: 1.3593 - val_loss: 3.0517 - val_mae: 1.2434\n",
            "Epoch 197/200\n",
            "2/2 [==============================] - 0s 23ms/step - loss: 3.4626 - mae: 1.3533 - val_loss: 3.0473 - val_mae: 1.2438\n",
            "Epoch 198/200\n",
            "2/2 [==============================] - 0s 41ms/step - loss: 3.4403 - mae: 1.3473 - val_loss: 3.0434 - val_mae: 1.2443\n",
            "Epoch 199/200\n",
            "2/2 [==============================] - 0s 28ms/step - loss: 3.4200 - mae: 1.3415 - val_loss: 3.0387 - val_mae: 1.2443\n",
            "Epoch 200/200\n",
            "2/2 [==============================] - 0s 24ms/step - loss: 3.4001 - mae: 1.3367 - val_loss: 3.0344 - val_mae: 1.2444\n"
          ],
          "name": "stdout"
        }
      ]
    },
    {
      "cell_type": "markdown",
      "metadata": {
        "id": "u5n59pzUwLDq"
      },
      "source": [
        "Plot the training and validation accuracy and loss at each epoch"
      ]
    },
    {
      "cell_type": "code",
      "metadata": {
        "colab": {
          "base_uri": "https://localhost:8080/",
          "height": 573
        },
        "id": "ykei0d8E7w4B",
        "outputId": "1a9c7107-26d9-4d2f-dfca-6e4535510bf1"
      },
      "source": [
        "## Plot the training and validation accuracy and loss at each epoch\n",
        "# \n",
        "\n",
        "loss = history.history['loss']\n",
        "val_loss = history.history['val_loss']\n",
        "epochs = range(1, len(loss) + 1)\n",
        "plt.plot(epochs, loss, 'y', label='Training loss')\n",
        "plt.plot(epochs, val_loss, 'r', label='Validation loss')\n",
        "plt.title('Training and validation loss')\n",
        "plt.xlabel('Epochs')\n",
        "plt.ylabel('Loss')\n",
        "plt.legend()\n",
        "plt.show()\n",
        "\n",
        "\n",
        "acc = history.history['mae']\n",
        "val_acc = history.history['val_mae']\n",
        "plt.plot(epochs, acc, 'y', label='Training MAE')\n",
        "plt.plot(epochs, val_acc, 'r', label='Validation MAE')\n",
        "plt.title('Training and validation MAE')\n",
        "plt.xlabel('Epochs')\n",
        "plt.ylabel('Accuracy')\n",
        "plt.legend()\n",
        "plt.show()"
      ],
      "execution_count": null,
      "outputs": [
        {
          "output_type": "display_data",
          "data": {
            "image/png": "[encoded data removed]",
            "text/plain": [
              "<Figure size 432x288 with 1 Axes>"
            ]
          },
          "metadata": {
            "needs_background": "light"
          }
        },
        {
          "output_type": "display_data",
          "data": {
            "image/png": "[encoded data removed]",
            "text/plain": [
              "<Figure size 432x288 with 1 Axes>"
            ]
          },
          "metadata": {
            "needs_background": "light"
          }
        }
      ]
    },
    {
      "cell_type": "markdown",
      "metadata": {
        "id": "fsgtq79FwN18"
      },
      "source": [
        "First model: NEURAL NETWORK"
      ]
    },
    {
      "cell_type": "code",
      "metadata": {
        "colab": {
          "base_uri": "https://localhost:8080/"
        },
        "id": "sQCVd9NC2VMJ",
        "outputId": "fd96f5c6-83bb-4f2c-a9bc-a586fb617ac2"
      },
      "source": [
        "##############################################################\n",
        "### First model: NEURAL NETWORK\n",
        "\n",
        "mse_nn, mae_nn = model_nn.evaluate(X_test_scaled, y_test)\n",
        "print()\n",
        "print('Mean squared error using Neural Network: ', mse_nn)\n",
        "print('Mean absolute error using Neural Network: ', mae_nn)"
      ],
      "execution_count": null,
      "outputs": [
        {
          "output_type": "stream",
          "text": [
            "1/1 [==============================] - 0s 14ms/step - loss: 4.0931 - mae: 1.5634\n",
            "\n",
            "Mean squared error using Neural Network:  4.093053340911865\n",
            "Mean absolute error using Neural Network:  1.5633513927459717\n"
          ],
          "name": "stdout"
        }
      ]
    },
    {
      "cell_type": "markdown",
      "metadata": {
        "id": "ubPsahPBwQxl"
      },
      "source": [
        "Second model:  LINEAR REGRESSION"
      ]
    },
    {
      "cell_type": "code",
      "metadata": {
        "colab": {
          "base_uri": "https://localhost:8080/"
        },
        "id": "91k-ySLq2QlR",
        "outputId": "73ea1e96-69af-4dd0-c099-1bec1126ad37"
      },
      "source": [
        "##############################################################\n",
        "### Second model:  LINEAR REGRESSION\n",
        "\n",
        "model_lr = linear_model.LinearRegression()\n",
        "model_lr.fit(X_train_scaled, y_train)\n",
        "y_pred_lr = model_lr.predict(X_test_scaled)\n",
        "mse_lr = mean_squared_error(y_test, y_pred_lr)\n",
        "mae_lr = mean_absolute_error(y_test, y_pred_lr)\n",
        "print('Mean squared error from linear regression: ', mse_lr)\n",
        "print('Mean absolute error from linear regression: ', mae_lr)"
      ],
      "execution_count": null,
      "outputs": [
        {
          "output_type": "stream",
          "text": [
            "Mean squared error from linear regression:  4.286871230441294\n",
            "Mean absolute error from linear regression:  1.5947578423469921\n"
          ],
          "name": "stdout"
        }
      ]
    },
    {
      "cell_type": "markdown",
      "metadata": {
        "id": "fi7mLBH6wSkM"
      },
      "source": [
        "Third model: DECISION TREE"
      ]
    },
    {
      "cell_type": "code",
      "metadata": {
        "colab": {
          "base_uri": "https://localhost:8080/"
        },
        "id": "OvvU__dT1qMb",
        "outputId": "c4b72cdc-791b-4572-c1d0-92281d343a6e"
      },
      "source": [
        "############################################################\n",
        "## Third model: DECISION TREE\n",
        "\n",
        "model_dt = DecisionTreeRegressor()\n",
        "model_dt.fit(X_train_scaled, y_train)\n",
        "y_pred_dt = model_dt.predict(X_test_scaled)\n",
        "mse_dt = mean_squared_error(y_test, y_pred_dt)\n",
        "mae_dt = mean_absolute_error(y_test, y_pred_dt)\n",
        "print('Mean squared error using decision tree: ', mse_dt)\n",
        "print('Mean absolute error using decision tree: ', mae_dt)"
      ],
      "execution_count": null,
      "outputs": [
        {
          "output_type": "stream",
          "text": [
            "Mean squared error using decision tree:  4.84\n",
            "Mean absolute error using decision tree:  1.6285714285714288\n"
          ],
          "name": "stdout"
        }
      ]
    },
    {
      "cell_type": "markdown",
      "metadata": {
        "id": "YktkrNF9wUtl"
      },
      "source": [
        "Sort the features according to the dregree of relevance to geographic_mean and found the the most important feature is LUNG OPACITY according this model \n"
      ]
    },
    {
      "cell_type": "code",
      "metadata": {
        "colab": {
          "base_uri": "https://localhost:8080/"
        },
        "id": "vHRXZL40bE42",
        "outputId": "3d20d0c2-3be6-4216-8e89-f365c05a9fbc"
      },
      "source": [
        "# Sort the features according to the dregree of relevance to geographic_mean and found the the most important feature is LUNG OPACITY according this model \n",
        "\n",
        "feature_list = list(X.columns)\n",
        "feature_imp = pd.Series(model_dt.feature_importances_, index=feature_list).sort_values(ascending=False)\n",
        "print(feature_imp)"
      ],
      "execution_count": null,
      "outputs": [
        {
          "output_type": "stream",
          "text": [
            "Lung Opacity                  0.720494\n",
            "Fracture                      0.064092\n",
            "Mass                          0.056659\n",
            "Atelectasis                   0.040746\n",
            "InceptionV3                   0.029098\n",
            "Effusion                      0.016958\n",
            "Emphysema                     0.015307\n",
            "Lung Lesion                   0.013700\n",
            "Infiltration                  0.011559\n",
            "Fibrosis                      0.009970\n",
            "vgg16                         0.008813\n",
            "Enlarged Cardiomediastinum    0.006275\n",
            "Consolidation                 0.002315\n",
            "Edema                         0.001655\n",
            "Cardiomegaly                  0.001196\n",
            "Pleural_Thickening            0.000326\n",
            "Pneumonia                     0.000326\n",
            "Hernia                        0.000241\n",
            "DenseNet121                   0.000136\n",
            "Xception                      0.000136\n",
            "Pneumothorax                  0.000000\n",
            "resnet50                      0.000000\n",
            "Nodule                        0.000000\n",
            "dtype: float64\n"
          ],
          "name": "stdout"
        }
      ]
    },
    {
      "cell_type": "markdown",
      "metadata": {
        "id": "LQU1A1t4w4Qk"
      },
      "source": [
        "Fourth model: RANDOM FOREST\n"
      ]
    },
    {
      "cell_type": "code",
      "metadata": {
        "colab": {
          "base_uri": "https://localhost:8080/"
        },
        "id": "Op5tmOWW1o59",
        "outputId": "781fff0d-18fe-4722-a509-d195890c1399"
      },
      "source": [
        "##############################################\n",
        "## Fourth model: RANDOM FOREST\n",
        "\n",
        "model_rf = RandomForestRegressor(n_estimators = 30, random_state=30)\n",
        "model_rf.fit(X_train_scaled, y_train)\n",
        "y_pred_rf = model_rf.predict(X_test_scaled)\n",
        "mse_rf = mean_squared_error(y_test, y_pred_rf)\n",
        "mae_rf = mean_absolute_error(y_test, y_pred_rf)\n",
        "print('Mean squared error using Random Forest: ', mse_rf)\n",
        "print('Mean absolute error Using Random Forest: ', mae_rf)"
      ],
      "execution_count": null,
      "outputs": [
        {
          "output_type": "stream",
          "text": [
            "Mean squared error using Random Forest:  2.6825698412698418\n",
            "Mean absolute error Using Random Forest:  1.2433333333333334\n"
          ],
          "name": "stdout"
        }
      ]
    },
    {
      "cell_type": "markdown",
      "metadata": {
        "id": "vTPb6m18w7aY"
      },
      "source": [
        "Sort the features according to the dregree of relevance to geographic_mean and found the the most important feature is LUNG OPACITY according this model\n"
      ]
    },
    {
      "cell_type": "code",
      "metadata": {
        "colab": {
          "base_uri": "https://localhost:8080/"
        },
        "id": "W5h5E4ymbLOm",
        "outputId": "600066f8-2b94-4145-f5f1-37635c2fd07a"
      },
      "source": [
        "# Sort the features according to the dregree of relevance to geographic_mean and found the the most important feature is LUNG OPACITY according this model\n",
        "feature_list = list(X.columns)\n",
        "feature_imp = pd.Series(model_rf.feature_importances_, index=feature_list).sort_values(ascending=False)\n",
        "print(feature_imp)"
      ],
      "execution_count": null,
      "outputs": [
        {
          "output_type": "stream",
          "text": [
            "Lung Opacity                  0.664223\n",
            "Pneumothorax                  0.030353\n",
            "Cardiomegaly                  0.029118\n",
            "Mass                          0.027211\n",
            "Emphysema                     0.025127\n",
            "Pneumonia                     0.024913\n",
            "InceptionV3                   0.023365\n",
            "Effusion                      0.022936\n",
            "Infiltration                  0.022894\n",
            "Pleural_Thickening            0.020634\n",
            "Nodule                        0.016049\n",
            "resnet50                      0.013393\n",
            "vgg16                         0.012653\n",
            "Atelectasis                   0.009400\n",
            "Hernia                        0.009165\n",
            "Lung Lesion                   0.008485\n",
            "Enlarged Cardiomediastinum    0.008429\n",
            "Consolidation                 0.007849\n",
            "DenseNet121                   0.006698\n",
            "Edema                         0.005754\n",
            "Xception                      0.005125\n",
            "Fibrosis                      0.004644\n",
            "Fracture                      0.001583\n",
            "dtype: float64\n"
          ],
          "name": "stdout"
        }
      ]
    },
    {
      "cell_type": "markdown",
      "metadata": {
        "id": "TJH4NkvtxBvs"
      },
      "source": [
        "Fifth model: XGBOOST"
      ]
    },
    {
      "cell_type": "code",
      "metadata": {
        "colab": {
          "base_uri": "https://localhost:8080/"
        },
        "id": "IxVEiRg3X1t7",
        "outputId": "d4288e39-89f8-4157-8248-f49a88071283"
      },
      "source": [
        "###################################\n",
        "## Fifth model: XGBOOST\n",
        "\n",
        "model_xgbr = XGBRegressor(verbosity=0)\n",
        "model_xgbr.fit(X_train_scaled, y_train)\n",
        "y_pred_xgbr = model_xgbr.predict(X_test_scaled)\n",
        "mse_xgbr = mean_squared_error(y_test, y_pred_xgbr)\n",
        "mae_xgbr = mean_absolute_error(y_test, y_pred_xgbr)\n",
        "print('Mean squared error using XGBoost: ', mse_xgbr)\n",
        "print('Mean absolute error Using XGBoost: ', mae_xgbr)"
      ],
      "execution_count": null,
      "outputs": [
        {
          "output_type": "stream",
          "text": [
            "Mean squared error using XGBoost:  3.1438348566771737\n",
            "Mean absolute error Using XGBoost:  1.357035315604437\n"
          ],
          "name": "stdout"
        }
      ]
    },
    {
      "cell_type": "markdown",
      "metadata": {
        "id": "mHRZR7EmxDwC"
      },
      "source": [
        "Sort the features according to the dregree of relevance to geographic_mean and found the the most important feature is LUNG OPACITY according this model\n"
      ]
    },
    {
      "cell_type": "code",
      "metadata": {
        "colab": {
          "base_uri": "https://localhost:8080/"
        },
        "id": "aGQ2-vEm1eNB",
        "outputId": "223afa05-6781-4604-d010-da5e0c46c00e"
      },
      "source": [
        "# Sort the features according to the dregree of relevance to geographic_mean and found the the most important feature is LUNG OPACITY according this model\n",
        "\n",
        "feature_list = list(X.columns)\n",
        "feature_imp = pd.Series(model_xgbr.feature_importances_, index=feature_list).sort_values(ascending=False)\n",
        "print(feature_imp)"
      ],
      "execution_count": null,
      "outputs": [
        {
          "output_type": "stream",
          "text": [
            "Lung Opacity                  0.578712\n",
            "Cardiomegaly                  0.057476\n",
            "Mass                          0.042301\n",
            "Pneumothorax                  0.041201\n",
            "Pneumonia                     0.035228\n",
            "Xception                      0.035216\n",
            "resnet50                      0.031969\n",
            "Fracture                      0.030229\n",
            "Consolidation                 0.024654\n",
            "Nodule                        0.021467\n",
            "Pleural_Thickening            0.014804\n",
            "Enlarged Cardiomediastinum    0.014543\n",
            "InceptionV3                   0.013590\n",
            "Atelectasis                   0.012134\n",
            "Lung Lesion                   0.008164\n",
            "Effusion                      0.008087\n",
            "Emphysema                     0.007139\n",
            "vgg16                         0.006835\n",
            "Infiltration                  0.004919\n",
            "Hernia                        0.004396\n",
            "DenseNet121                   0.003922\n",
            "Fibrosis                      0.001785\n",
            "Edema                         0.001229\n",
            "dtype: float32\n"
          ],
          "name": "stdout"
        }
      ]
    },
    {
      "cell_type": "markdown",
      "metadata": {
        "id": "TJpY93wdxHkC"
      },
      "source": [
        "Show comparison between mse and r2 of the 5 implemented models"
      ]
    },
    {
      "cell_type": "code",
      "metadata": {
        "colab": {
          "base_uri": "https://localhost:8080/",
          "height": 203
        },
        "id": "B74FAPJT1cRc",
        "outputId": "8d4799ec-7328-485f-eca9-3dcb26233edd"
      },
      "source": [
        "# Show comparison between mse and r2 of the 5 implemented models\n",
        "nombre_modelos = ['Neural Nets', 'Multiple Linear Regression', 'Decision Tree', 'Random Forest', 'XGBoost']\n",
        "MSE = [mse_nn, mse_lr, mse_dt, mse_rf, mse_xgbr]\n",
        "MAE = [mae_nn, mae_lr, mae_dt, mae_rf, mae_xgbr]\n",
        "dict_metrics_gm = {'Modelos':nombre_modelos, 'Mean Squared Error':MSE, 'Mean Absolute Error': MAE}\n",
        "df_metrics_gm = pd.DataFrame(dict_metrics_gm)\n",
        "df_metrics_gm"
      ],
      "execution_count": null,
      "outputs": [
        {
          "output_type": "execute_result",
          "data": {
            "text/html": [
              "<div>\n",
              "<style scoped>\n",
              "    .dataframe tbody tr th:only-of-type {\n",
              "        vertical-align: middle;\n",
              "    }\n",
              "\n",
              "    .dataframe tbody tr th {\n",
              "        vertical-align: top;\n",
              "    }\n",
              "\n",
              "    .dataframe thead th {\n",
              "        text-align: right;\n",
              "    }\n",
              "</style>\n",
              "<table border=\"1\" class=\"dataframe\">\n",
              "  <thead>\n",
              "    <tr style=\"text-align: right;\">\n",
              "      <th></th>\n",
              "      <th>Modelos</th>\n",
              "      <th>Mean Squared Error</th>\n",
              "      <th>Mean Absolute Error</th>\n",
              "    </tr>\n",
              "  </thead>\n",
              "  <tbody>\n",
              "    <tr>\n",
              "      <th>0</th>\n",
              "      <td>Neural Nets</td>\n",
              "      <td>4.093053</td>\n",
              "      <td>1.563351</td>\n",
              "    </tr>\n",
              "    <tr>\n",
              "      <th>1</th>\n",
              "      <td>Multiple Linear Regression</td>\n",
              "      <td>4.286871</td>\n",
              "      <td>1.594758</td>\n",
              "    </tr>\n",
              "    <tr>\n",
              "      <th>2</th>\n",
              "      <td>Decision Tree</td>\n",
              "      <td>4.840000</td>\n",
              "      <td>1.628571</td>\n",
              "    </tr>\n",
              "    <tr>\n",
              "      <th>3</th>\n",
              "      <td>Random Forest</td>\n",
              "      <td>2.682570</td>\n",
              "      <td>1.243333</td>\n",
              "    </tr>\n",
              "    <tr>\n",
              "      <th>4</th>\n",
              "      <td>XGBoost</td>\n",
              "      <td>3.143835</td>\n",
              "      <td>1.357035</td>\n",
              "    </tr>\n",
              "  </tbody>\n",
              "</table>\n",
              "</div>"
            ],
            "text/plain": [
              "                      Modelos  Mean Squared Error  Mean Absolute Error\n",
              "0                 Neural Nets            4.093053             1.563351\n",
              "1  Multiple Linear Regression            4.286871             1.594758\n",
              "2               Decision Tree            4.840000             1.628571\n",
              "3               Random Forest            2.682570             1.243333\n",
              "4                     XGBoost            3.143835             1.357035"
            ]
          },
          "metadata": {},
          "execution_count": 128
        }
      ]
    },
    {
      "cell_type": "markdown",
      "metadata": {
        "id": "Sn9CwW77d0X_"
      },
      "source": [
        "Linear Regression Model for \"Lung Opacity vs Geographic Mean\""
      ]
    },
    {
      "cell_type": "code",
      "metadata": {
        "colab": {
          "base_uri": "https://localhost:8080/",
          "height": 417
        },
        "id": "78oFax6deA0S",
        "outputId": "3a7ac2b9-dd85-4794-ea0b-d9541550612c"
      },
      "source": [
        "# Show Linear Regression Model for \"Lung Opacity vs Geographic Mean\"\n",
        "df_vs_gm = df_all_gm[['Lung Opacity','geographic_mean']]\n",
        "df_vs_gm"
      ],
      "execution_count": null,
      "outputs": [
        {
          "output_type": "execute_result",
          "data": {
            "text/html": [
              "<div>\n",
              "<style scoped>\n",
              "    .dataframe tbody tr th:only-of-type {\n",
              "        vertical-align: middle;\n",
              "    }\n",
              "\n",
              "    .dataframe tbody tr th {\n",
              "        vertical-align: top;\n",
              "    }\n",
              "\n",
              "    .dataframe thead th {\n",
              "        text-align: right;\n",
              "    }\n",
              "</style>\n",
              "<table border=\"1\" class=\"dataframe\">\n",
              "  <thead>\n",
              "    <tr style=\"text-align: right;\">\n",
              "      <th></th>\n",
              "      <th>Lung Opacity</th>\n",
              "      <th>geographic_mean</th>\n",
              "    </tr>\n",
              "  </thead>\n",
              "  <tbody>\n",
              "    <tr>\n",
              "      <th>0</th>\n",
              "      <td>-0.864325</td>\n",
              "      <td>2.3</td>\n",
              "    </tr>\n",
              "    <tr>\n",
              "      <th>1</th>\n",
              "      <td>-1.379524</td>\n",
              "      <td>4.0</td>\n",
              "    </tr>\n",
              "    <tr>\n",
              "      <th>2</th>\n",
              "      <td>-0.753431</td>\n",
              "      <td>4.7</td>\n",
              "    </tr>\n",
              "    <tr>\n",
              "      <th>3</th>\n",
              "      <td>-0.032212</td>\n",
              "      <td>5.7</td>\n",
              "    </tr>\n",
              "    <tr>\n",
              "      <th>4</th>\n",
              "      <td>0.660750</td>\n",
              "      <td>2.0</td>\n",
              "    </tr>\n",
              "    <tr>\n",
              "      <th>...</th>\n",
              "      <td>...</td>\n",
              "      <td>...</td>\n",
              "    </tr>\n",
              "    <tr>\n",
              "      <th>77</th>\n",
              "      <td>-0.451698</td>\n",
              "      <td>4.7</td>\n",
              "    </tr>\n",
              "    <tr>\n",
              "      <th>78</th>\n",
              "      <td>0.281588</td>\n",
              "      <td>4.0</td>\n",
              "    </tr>\n",
              "    <tr>\n",
              "      <th>79</th>\n",
              "      <td>0.387156</td>\n",
              "      <td>4.7</td>\n",
              "    </tr>\n",
              "    <tr>\n",
              "      <th>80</th>\n",
              "      <td>-1.704252</td>\n",
              "      <td>0.7</td>\n",
              "    </tr>\n",
              "    <tr>\n",
              "      <th>81</th>\n",
              "      <td>1.057681</td>\n",
              "      <td>5.0</td>\n",
              "    </tr>\n",
              "  </tbody>\n",
              "</table>\n",
              "<p>82 rows × 2 columns</p>\n",
              "</div>"
            ],
            "text/plain": [
              "    Lung Opacity  geographic_mean\n",
              "0      -0.864325              2.3\n",
              "1      -1.379524              4.0\n",
              "2      -0.753431              4.7\n",
              "3      -0.032212              5.7\n",
              "4       0.660750              2.0\n",
              "..           ...              ...\n",
              "77     -0.451698              4.7\n",
              "78      0.281588              4.0\n",
              "79      0.387156              4.7\n",
              "80     -1.704252              0.7\n",
              "81      1.057681              5.0\n",
              "\n",
              "[82 rows x 2 columns]"
            ]
          },
          "metadata": {},
          "execution_count": 74
        }
      ]
    },
    {
      "cell_type": "markdown",
      "metadata": {
        "id": "QwRRX61VxKYP"
      },
      "source": [
        "Create dependent (Lung Opacity) and independent variable (geographic_mean) and show their respective shape"
      ]
    },
    {
      "cell_type": "code",
      "metadata": {
        "colab": {
          "base_uri": "https://localhost:8080/"
        },
        "id": "2QaCikUhe6cZ",
        "outputId": "24da5c7f-62ea-4454-e461-e042aeae56a9"
      },
      "source": [
        "# Create dependent (Lung Opacity) and independent variable (geographic_mean) and show their respective shape\n",
        "X = df_vs_gm.loc[:, ['Lung Opacity']].copy()\n",
        "y = df_vs_gm['geographic_mean']\n",
        "\n",
        "print(X.shape, y.shape)"
      ],
      "execution_count": null,
      "outputs": [
        {
          "output_type": "stream",
          "text": [
            "(82, 1) (82,)\n"
          ],
          "name": "stdout"
        }
      ]
    },
    {
      "cell_type": "markdown",
      "metadata": {
        "id": "VXxyvCCUxMjy"
      },
      "source": [
        "Plot Geographic mean vs Lung opacity"
      ]
    },
    {
      "cell_type": "code",
      "metadata": {
        "colab": {
          "base_uri": "https://localhost:8080/",
          "height": 295
        },
        "id": "EMh5Wseyf3A9",
        "outputId": "2ee987e1-9613-4966-cf6c-8375c8c38730"
      },
      "source": [
        "# Plot Geographic mean vs Lung opacity\n",
        "plt.scatter(X, y, color='black')\n",
        "plt.title('Geographic mean vs Lung opacity')\n",
        "plt.xlabel('Lung Opacity')\n",
        "plt.ylabel('Geographic mean')\n",
        "plt.show()"
      ],
      "execution_count": null,
      "outputs": [
        {
          "output_type": "display_data",
          "data": {
            "image/png": "[encoded data removed]",
            "text/plain": [
              "<Figure size 432x288 with 1 Axes>"
            ]
          },
          "metadata": {
            "needs_background": "light"
          }
        }
      ]
    },
    {
      "cell_type": "markdown",
      "metadata": {
        "id": "KkkSd6m7xP1h"
      },
      "source": [
        "Split of the data for testing and training data"
      ]
    },
    {
      "cell_type": "code",
      "metadata": {
        "colab": {
          "base_uri": "https://localhost:8080/"
        },
        "id": "YDPNC5Kvf7rW",
        "outputId": "5bda82e0-87da-4844-ba38-2ebd08374125"
      },
      "source": [
        "# Split of the data for testing and training data\n",
        "X_train, X_test, y_train, y_test = train_test_split(X, y, test_size=0.6, random_state=0)\n",
        "print(X_train.shape, X_test.shape, y_train.shape, y_test.shape)"
      ],
      "execution_count": null,
      "outputs": [
        {
          "output_type": "stream",
          "text": [
            "(32, 1) (50, 1) (32,) (50,)\n"
          ],
          "name": "stdout"
        }
      ]
    },
    {
      "cell_type": "markdown",
      "metadata": {
        "id": "e98EUe8rxljN"
      },
      "source": [
        "The data is normalized "
      ]
    },
    {
      "cell_type": "code",
      "metadata": {
        "id": "gkvvop3LiHJ6"
      },
      "source": [
        "# The data is normalized \n",
        "scaler=StandardScaler()\n",
        "scaler.fit(X_train)\n",
        "\n",
        "X_train_scaled = scaler.transform(X_train)\n",
        "X_test_scaled = scaler.transform(X_test)"
      ],
      "execution_count": null,
      "outputs": []
    },
    {
      "cell_type": "markdown",
      "metadata": {
        "id": "xVfPsJblxne2"
      },
      "source": [
        "Liner model"
      ]
    },
    {
      "cell_type": "code",
      "metadata": {
        "colab": {
          "base_uri": "https://localhost:8080/"
        },
        "id": "cTl8LRpKfvzK",
        "outputId": "f001afae-76e6-4f71-8b8c-666ae105e2b2"
      },
      "source": [
        "# Liner model\n",
        "\n",
        "model_linear = linear_model.LinearRegression()\n",
        "model_linear.fit(X_train_scaled, y_train)\n",
        "y_pred_linear = model_linear.predict(X_test_scaled)\n",
        "mse_linear = mean_squared_error(y_test, y_pred_linear)\n",
        "mae_linear = mean_absolute_error(y_test, y_pred_linear)\n",
        "r2_linear = r2_score(y_test, y_pred_linear)\n",
        "correlation_linear = scipy.stats.pearsonr(y_pred_linear, y_test)[0]\n",
        "print('Mean squared error from linear regression: ', mse_linear)\n",
        "print('Mean absolute error from linear regression: ', mae_linear)\n",
        "print('R2:', r2_linear)\n",
        "print('Correlation:', correlation_linear)"
      ],
      "execution_count": null,
      "outputs": [
        {
          "output_type": "stream",
          "text": [
            "Mean squared error from linear regression:  1.9948817087688442\n",
            "Mean absolute error from linear regression:  1.159416359416606\n",
            "R2: 0.6593030123893233\n",
            "Correlation: 0.8168088138114264\n"
          ],
          "name": "stdout"
        }
      ]
    },
    {
      "cell_type": "markdown",
      "metadata": {
        "id": "wZkwGD6exuOd"
      },
      "source": [
        "Show the equation"
      ]
    },
    {
      "cell_type": "code",
      "metadata": {
        "colab": {
          "base_uri": "https://localhost:8080/"
        },
        "id": "Ur_vsge2wYtU",
        "outputId": "d01a8303-0e24-4627-8be7-17dd99c25715"
      },
      "source": [
        "print('Coefficient of Linear Regression:', model_linear.coef_[0])\n",
        "print('Interception:', model_linear.intercept_)\n",
        "print()\n",
        "print('Equation: y = {}*x + {}'.format(str(model_linear.coef_[0]), str(model_linear.intercept_)))"
      ],
      "execution_count": null,
      "outputs": [
        {
          "output_type": "stream",
          "text": [
            "Coefficient of Linear Regression: 1.4102245947286929\n",
            "Interception: 2.871875\n",
            "\n",
            "Equation: y = 1.4102245947286929*x + 2.871875\n"
          ],
          "name": "stdout"
        }
      ]
    },
    {
      "cell_type": "markdown",
      "metadata": {
        "id": "SxN8RQS3x6ov"
      },
      "source": [
        "PLot Lung Opacity vs Geographic"
      ]
    },
    {
      "cell_type": "code",
      "metadata": {
        "colab": {
          "base_uri": "https://localhost:8080/",
          "height": 312
        },
        "id": "sf_aSDOJwwgd",
        "outputId": "6a3212bc-0e49-4fa5-b31a-707eba1d066d"
      },
      "source": [
        "# PLot Lung Opacity vs Geographic\n",
        "ax = df_vs_gm.plot.scatter(x='Lung Opacity', y='geographic_mean', color='black')\n",
        "ax.plot(X_test, y_pred_linear, color='red', label='Linear Regression')\n",
        "ax.set_title('Geographic mean vs Lung opacity')\n",
        "ax.legend()"
      ],
      "execution_count": null,
      "outputs": [
        {
          "output_type": "execute_result",
          "data": {
            "text/plain": [
              "<matplotlib.legend.Legend at 0x7fdbe4b72390>"
            ]
          },
          "metadata": {},
          "execution_count": 135
        },
        {
          "output_type": "display_data",
          "data": {
            "image/png": "[encoded data removed]",
            "text/plain": [
              "<Figure size 432x288 with 1 Axes>"
            ]
          },
          "metadata": {
            "needs_background": "light"
          }
        }
      ]
    },
    {
      "cell_type": "markdown",
      "metadata": {
        "id": "XEralfmgx-Ue"
      },
      "source": [
        "Show comparison between mse and mae of the 5 implemented models"
      ]
    },
    {
      "cell_type": "code",
      "metadata": {
        "colab": {
          "base_uri": "https://localhost:8080/",
          "height": 265
        },
        "id": "_m2a6TaGuZ-5",
        "outputId": "523c7fae-e5b7-4718-d273-eba9ebce9f13"
      },
      "source": [
        "# Show comparison between mse and r2 of the 5 implemented models\n",
        "new_row = {'Modelos':'Linear Regresion (Lung Opacity)', 'Mean Squared Error':mse_linear, 'Mean Absolute Error':mae_linear}\n",
        "df_metrics_gm = df_metrics_gm.append(new_row, ignore_index=True)\n",
        "df_metrics_gm"
      ],
      "execution_count": null,
      "outputs": [
        {
          "output_type": "execute_result",
          "data": {
            "text/html": [
              "<div>\n",
              "<style scoped>\n",
              "    .dataframe tbody tr th:only-of-type {\n",
              "        vertical-align: middle;\n",
              "    }\n",
              "\n",
              "    .dataframe tbody tr th {\n",
              "        vertical-align: top;\n",
              "    }\n",
              "\n",
              "    .dataframe thead th {\n",
              "        text-align: right;\n",
              "    }\n",
              "</style>\n",
              "<table border=\"1\" class=\"dataframe\">\n",
              "  <thead>\n",
              "    <tr style=\"text-align: right;\">\n",
              "      <th></th>\n",
              "      <th>Modelos</th>\n",
              "      <th>Mean Squared Error</th>\n",
              "      <th>Mean Absolute Error</th>\n",
              "    </tr>\n",
              "  </thead>\n",
              "  <tbody>\n",
              "    <tr>\n",
              "      <th>0</th>\n",
              "      <td>Neural Nets</td>\n",
              "      <td>4.093053</td>\n",
              "      <td>1.563351</td>\n",
              "    </tr>\n",
              "    <tr>\n",
              "      <th>1</th>\n",
              "      <td>Multiple Linear Regression</td>\n",
              "      <td>4.286871</td>\n",
              "      <td>1.594758</td>\n",
              "    </tr>\n",
              "    <tr>\n",
              "      <th>2</th>\n",
              "      <td>Decision Tree</td>\n",
              "      <td>4.840000</td>\n",
              "      <td>1.628571</td>\n",
              "    </tr>\n",
              "    <tr>\n",
              "      <th>3</th>\n",
              "      <td>Random Forest</td>\n",
              "      <td>2.682570</td>\n",
              "      <td>1.243333</td>\n",
              "    </tr>\n",
              "    <tr>\n",
              "      <th>4</th>\n",
              "      <td>XGBoost</td>\n",
              "      <td>3.143835</td>\n",
              "      <td>1.357035</td>\n",
              "    </tr>\n",
              "    <tr>\n",
              "      <th>5</th>\n",
              "      <td>Linear Regresion (Lung Opacity)</td>\n",
              "      <td>1.994882</td>\n",
              "      <td>1.159416</td>\n",
              "    </tr>\n",
              "    <tr>\n",
              "      <th>6</th>\n",
              "      <td>Linear Regresion (Lung Opacity)</td>\n",
              "      <td>1.994882</td>\n",
              "      <td>1.159416</td>\n",
              "    </tr>\n",
              "  </tbody>\n",
              "</table>\n",
              "</div>"
            ],
            "text/plain": [
              "                           Modelos  Mean Squared Error  Mean Absolute Error\n",
              "0                      Neural Nets            4.093053             1.563351\n",
              "1       Multiple Linear Regression            4.286871             1.594758\n",
              "2                    Decision Tree            4.840000             1.628571\n",
              "3                    Random Forest            2.682570             1.243333\n",
              "4                          XGBoost            3.143835             1.357035\n",
              "5  Linear Regresion (Lung Opacity)            1.994882             1.159416\n",
              "6  Linear Regresion (Lung Opacity)            1.994882             1.159416"
            ]
          },
          "metadata": {},
          "execution_count": 137
        }
      ]
    },
    {
      "cell_type": "markdown",
      "metadata": {
        "id": "-Mc5t7AIntXh"
      },
      "source": [
        "### Analysis for 18 pathologies + 5 probabilites (Opacity Mean)"
      ]
    },
    {
      "cell_type": "code",
      "metadata": {
        "colab": {
          "base_uri": "https://localhost:8080/",
          "height": 454
        },
        "id": "fqBMuQB8nJtc",
        "outputId": "4cb6dd71-f88f-4b3a-f071-539f36db0f6f"
      },
      "source": [
        "#Join 18 clinical features and 5 probabilities of the opacity mean  \n",
        "names_pathol = list(df_data_om.columns[1:19])\n",
        "names_prob = list(df_data_om.columns[20:25])\n",
        "name_om = [df_data_om.columns[19]]\n",
        "names_pathol_prob = names_pathol + names_prob + name_om\n",
        "df_all_om = df_data_om[names_pathol_prob]\n",
        "df_all_om"
      ],
      "execution_count": null,
      "outputs": [
        {
          "output_type": "execute_result",
          "data": {
            "text/html": [
              "<div>\n",
              "<style scoped>\n",
              "    .dataframe tbody tr th:only-of-type {\n",
              "        vertical-align: middle;\n",
              "    }\n",
              "\n",
              "    .dataframe tbody tr th {\n",
              "        vertical-align: top;\n",
              "    }\n",
              "\n",
              "    .dataframe thead th {\n",
              "        text-align: right;\n",
              "    }\n",
              "</style>\n",
              "<table border=\"1\" class=\"dataframe\">\n",
              "  <thead>\n",
              "    <tr style=\"text-align: right;\">\n",
              "      <th></th>\n",
              "      <th>Atelectasis</th>\n",
              "      <th>Consolidation</th>\n",
              "      <th>Infiltration</th>\n",
              "      <th>Pneumothorax</th>\n",
              "      <th>Edema</th>\n",
              "      <th>Emphysema</th>\n",
              "      <th>Fibrosis</th>\n",
              "      <th>Effusion</th>\n",
              "      <th>Pneumonia</th>\n",
              "      <th>Pleural_Thickening</th>\n",
              "      <th>Cardiomegaly</th>\n",
              "      <th>Nodule</th>\n",
              "      <th>Mass</th>\n",
              "      <th>Hernia</th>\n",
              "      <th>Lung Lesion</th>\n",
              "      <th>Fracture</th>\n",
              "      <th>Lung Opacity</th>\n",
              "      <th>Enlarged Cardiomediastinum</th>\n",
              "      <th>DenseNet121</th>\n",
              "      <th>InceptionV3</th>\n",
              "      <th>resnet50</th>\n",
              "      <th>vgg16</th>\n",
              "      <th>Xception</th>\n",
              "      <th>opacity_mean</th>\n",
              "    </tr>\n",
              "  </thead>\n",
              "  <tbody>\n",
              "    <tr>\n",
              "      <th>0</th>\n",
              "      <td>-1.995463</td>\n",
              "      <td>-2.250835</td>\n",
              "      <td>-2.319615</td>\n",
              "      <td>-3.428214</td>\n",
              "      <td>-8.006400</td>\n",
              "      <td>-6.877346</td>\n",
              "      <td>-4.031230</td>\n",
              "      <td>-1.672731</td>\n",
              "      <td>-5.218715</td>\n",
              "      <td>-3.404117</td>\n",
              "      <td>-4.661779</td>\n",
              "      <td>-2.777763</td>\n",
              "      <td>-0.158225</td>\n",
              "      <td>-5.696409</td>\n",
              "      <td>-6.134421</td>\n",
              "      <td>-3.529992</td>\n",
              "      <td>-0.864325</td>\n",
              "      <td>-2.181635</td>\n",
              "      <td>0.851559</td>\n",
              "      <td>0.871329</td>\n",
              "      <td>0.913002</td>\n",
              "      <td>0.069072</td>\n",
              "      <td>0.998013</td>\n",
              "      <td>1.3</td>\n",
              "    </tr>\n",
              "    <tr>\n",
              "      <th>1</th>\n",
              "      <td>-2.284326</td>\n",
              "      <td>-4.367359</td>\n",
              "      <td>-2.385848</td>\n",
              "      <td>-5.089296</td>\n",
              "      <td>-10.857897</td>\n",
              "      <td>-7.155473</td>\n",
              "      <td>-2.594435</td>\n",
              "      <td>-3.705988</td>\n",
              "      <td>-6.537526</td>\n",
              "      <td>-3.225794</td>\n",
              "      <td>-4.704632</td>\n",
              "      <td>-3.100978</td>\n",
              "      <td>-0.781046</td>\n",
              "      <td>-2.579316</td>\n",
              "      <td>-12.197935</td>\n",
              "      <td>-3.383951</td>\n",
              "      <td>-1.379524</td>\n",
              "      <td>-4.105000</td>\n",
              "      <td>0.960704</td>\n",
              "      <td>0.150587</td>\n",
              "      <td>0.847197</td>\n",
              "      <td>0.958360</td>\n",
              "      <td>0.970292</td>\n",
              "      <td>3.0</td>\n",
              "    </tr>\n",
              "    <tr>\n",
              "      <th>2</th>\n",
              "      <td>-2.176806</td>\n",
              "      <td>-3.614070</td>\n",
              "      <td>-2.414206</td>\n",
              "      <td>-3.824801</td>\n",
              "      <td>-8.485291</td>\n",
              "      <td>-6.886006</td>\n",
              "      <td>-3.519685</td>\n",
              "      <td>-2.881644</td>\n",
              "      <td>-7.652413</td>\n",
              "      <td>-3.460787</td>\n",
              "      <td>-3.667775</td>\n",
              "      <td>-1.921321</td>\n",
              "      <td>-0.330128</td>\n",
              "      <td>-3.950301</td>\n",
              "      <td>-6.181408</td>\n",
              "      <td>-2.754359</td>\n",
              "      <td>-0.753431</td>\n",
              "      <td>-3.419982</td>\n",
              "      <td>0.641163</td>\n",
              "      <td>0.786716</td>\n",
              "      <td>0.410167</td>\n",
              "      <td>0.990818</td>\n",
              "      <td>0.999502</td>\n",
              "      <td>3.0</td>\n",
              "    </tr>\n",
              "    <tr>\n",
              "      <th>3</th>\n",
              "      <td>-2.716297</td>\n",
              "      <td>-3.918124</td>\n",
              "      <td>-1.960546</td>\n",
              "      <td>-3.291000</td>\n",
              "      <td>-9.475438</td>\n",
              "      <td>-7.721296</td>\n",
              "      <td>-5.336512</td>\n",
              "      <td>-3.587376</td>\n",
              "      <td>-9.994222</td>\n",
              "      <td>-4.568360</td>\n",
              "      <td>-3.194962</td>\n",
              "      <td>-2.231982</td>\n",
              "      <td>-0.787121</td>\n",
              "      <td>-5.019547</td>\n",
              "      <td>-5.820308</td>\n",
              "      <td>-2.532609</td>\n",
              "      <td>-0.032212</td>\n",
              "      <td>-3.053708</td>\n",
              "      <td>0.782235</td>\n",
              "      <td>0.851945</td>\n",
              "      <td>0.393671</td>\n",
              "      <td>0.996665</td>\n",
              "      <td>0.360342</td>\n",
              "      <td>3.7</td>\n",
              "    </tr>\n",
              "    <tr>\n",
              "      <th>4</th>\n",
              "      <td>-2.065649</td>\n",
              "      <td>-2.314026</td>\n",
              "      <td>-1.301638</td>\n",
              "      <td>-4.320744</td>\n",
              "      <td>-2.661332</td>\n",
              "      <td>-7.755165</td>\n",
              "      <td>-4.507202</td>\n",
              "      <td>-1.229500</td>\n",
              "      <td>-1.323991</td>\n",
              "      <td>-4.131345</td>\n",
              "      <td>-0.686836</td>\n",
              "      <td>-3.710819</td>\n",
              "      <td>-3.513136</td>\n",
              "      <td>-7.139474</td>\n",
              "      <td>-7.976898</td>\n",
              "      <td>-4.147092</td>\n",
              "      <td>0.660750</td>\n",
              "      <td>-1.587787</td>\n",
              "      <td>0.999453</td>\n",
              "      <td>0.985737</td>\n",
              "      <td>0.998424</td>\n",
              "      <td>0.999216</td>\n",
              "      <td>0.999166</td>\n",
              "      <td>2.0</td>\n",
              "    </tr>\n",
              "    <tr>\n",
              "      <th>...</th>\n",
              "      <td>...</td>\n",
              "      <td>...</td>\n",
              "      <td>...</td>\n",
              "      <td>...</td>\n",
              "      <td>...</td>\n",
              "      <td>...</td>\n",
              "      <td>...</td>\n",
              "      <td>...</td>\n",
              "      <td>...</td>\n",
              "      <td>...</td>\n",
              "      <td>...</td>\n",
              "      <td>...</td>\n",
              "      <td>...</td>\n",
              "      <td>...</td>\n",
              "      <td>...</td>\n",
              "      <td>...</td>\n",
              "      <td>...</td>\n",
              "      <td>...</td>\n",
              "      <td>...</td>\n",
              "      <td>...</td>\n",
              "      <td>...</td>\n",
              "      <td>...</td>\n",
              "      <td>...</td>\n",
              "      <td>...</td>\n",
              "    </tr>\n",
              "    <tr>\n",
              "      <th>77</th>\n",
              "      <td>-2.247870</td>\n",
              "      <td>-2.695761</td>\n",
              "      <td>-0.932922</td>\n",
              "      <td>-5.468601</td>\n",
              "      <td>-1.497197</td>\n",
              "      <td>-5.348270</td>\n",
              "      <td>-2.066755</td>\n",
              "      <td>-3.267211</td>\n",
              "      <td>-1.935185</td>\n",
              "      <td>-3.216589</td>\n",
              "      <td>-1.510092</td>\n",
              "      <td>-2.148279</td>\n",
              "      <td>-2.634754</td>\n",
              "      <td>-7.641832</td>\n",
              "      <td>-2.866753</td>\n",
              "      <td>-3.669294</td>\n",
              "      <td>-0.451698</td>\n",
              "      <td>-2.525874</td>\n",
              "      <td>0.999360</td>\n",
              "      <td>0.999991</td>\n",
              "      <td>0.992401</td>\n",
              "      <td>0.998774</td>\n",
              "      <td>1.000000</td>\n",
              "      <td>2.7</td>\n",
              "    </tr>\n",
              "    <tr>\n",
              "      <th>78</th>\n",
              "      <td>-1.204691</td>\n",
              "      <td>-2.154405</td>\n",
              "      <td>-0.693697</td>\n",
              "      <td>-4.653790</td>\n",
              "      <td>-0.989784</td>\n",
              "      <td>-6.958145</td>\n",
              "      <td>-3.083191</td>\n",
              "      <td>-1.447739</td>\n",
              "      <td>-2.728833</td>\n",
              "      <td>-4.454429</td>\n",
              "      <td>-0.893002</td>\n",
              "      <td>-2.856616</td>\n",
              "      <td>-2.519794</td>\n",
              "      <td>-4.358291</td>\n",
              "      <td>-3.592949</td>\n",
              "      <td>-3.895416</td>\n",
              "      <td>0.281588</td>\n",
              "      <td>-2.383605</td>\n",
              "      <td>0.999625</td>\n",
              "      <td>0.999537</td>\n",
              "      <td>0.987859</td>\n",
              "      <td>0.999095</td>\n",
              "      <td>1.000000</td>\n",
              "      <td>3.3</td>\n",
              "    </tr>\n",
              "    <tr>\n",
              "      <th>79</th>\n",
              "      <td>-1.337873</td>\n",
              "      <td>-1.917539</td>\n",
              "      <td>-0.742821</td>\n",
              "      <td>-4.561998</td>\n",
              "      <td>-2.193726</td>\n",
              "      <td>-5.323779</td>\n",
              "      <td>-4.394251</td>\n",
              "      <td>-1.312465</td>\n",
              "      <td>-2.222228</td>\n",
              "      <td>-4.245948</td>\n",
              "      <td>-1.477661</td>\n",
              "      <td>-2.255113</td>\n",
              "      <td>-1.368516</td>\n",
              "      <td>-6.786782</td>\n",
              "      <td>-2.221639</td>\n",
              "      <td>-3.056663</td>\n",
              "      <td>0.387156</td>\n",
              "      <td>-1.724825</td>\n",
              "      <td>0.999914</td>\n",
              "      <td>0.993296</td>\n",
              "      <td>0.933430</td>\n",
              "      <td>0.999972</td>\n",
              "      <td>1.000000</td>\n",
              "      <td>4.0</td>\n",
              "    </tr>\n",
              "    <tr>\n",
              "      <th>80</th>\n",
              "      <td>-2.920534</td>\n",
              "      <td>-3.951263</td>\n",
              "      <td>-1.233765</td>\n",
              "      <td>-5.946329</td>\n",
              "      <td>-6.810845</td>\n",
              "      <td>-5.927144</td>\n",
              "      <td>-3.987623</td>\n",
              "      <td>-4.672496</td>\n",
              "      <td>-1.747967</td>\n",
              "      <td>-4.772371</td>\n",
              "      <td>-4.642920</td>\n",
              "      <td>-2.352367</td>\n",
              "      <td>-3.957139</td>\n",
              "      <td>-5.675848</td>\n",
              "      <td>-9.433144</td>\n",
              "      <td>-4.329388</td>\n",
              "      <td>-1.704252</td>\n",
              "      <td>-5.290677</td>\n",
              "      <td>0.928157</td>\n",
              "      <td>0.999905</td>\n",
              "      <td>0.821510</td>\n",
              "      <td>0.998875</td>\n",
              "      <td>0.999839</td>\n",
              "      <td>0.7</td>\n",
              "    </tr>\n",
              "    <tr>\n",
              "      <th>81</th>\n",
              "      <td>-2.019746</td>\n",
              "      <td>-2.043876</td>\n",
              "      <td>-0.942020</td>\n",
              "      <td>-3.844561</td>\n",
              "      <td>-4.231821</td>\n",
              "      <td>-4.066077</td>\n",
              "      <td>-1.914924</td>\n",
              "      <td>-0.734435</td>\n",
              "      <td>-4.103053</td>\n",
              "      <td>-2.036707</td>\n",
              "      <td>-2.240574</td>\n",
              "      <td>-1.844244</td>\n",
              "      <td>-0.337299</td>\n",
              "      <td>-5.658569</td>\n",
              "      <td>-4.166326</td>\n",
              "      <td>-3.425894</td>\n",
              "      <td>1.057681</td>\n",
              "      <td>-1.223777</td>\n",
              "      <td>0.999999</td>\n",
              "      <td>0.999908</td>\n",
              "      <td>0.989216</td>\n",
              "      <td>0.669728</td>\n",
              "      <td>0.999547</td>\n",
              "      <td>3.3</td>\n",
              "    </tr>\n",
              "  </tbody>\n",
              "</table>\n",
              "<p>82 rows × 24 columns</p>\n",
              "</div>"
            ],
            "text/plain": [
              "    Atelectasis  Consolidation  Infiltration  ...     vgg16  Xception  opacity_mean\n",
              "0     -1.995463      -2.250835     -2.319615  ...  0.069072  0.998013           1.3\n",
              "1     -2.284326      -4.367359     -2.385848  ...  0.958360  0.970292           3.0\n",
              "2     -2.176806      -3.614070     -2.414206  ...  0.990818  0.999502           3.0\n",
              "3     -2.716297      -3.918124     -1.960546  ...  0.996665  0.360342           3.7\n",
              "4     -2.065649      -2.314026     -1.301638  ...  0.999216  0.999166           2.0\n",
              "..          ...            ...           ...  ...       ...       ...           ...\n",
              "77    -2.247870      -2.695761     -0.932922  ...  0.998774  1.000000           2.7\n",
              "78    -1.204691      -2.154405     -0.693697  ...  0.999095  1.000000           3.3\n",
              "79    -1.337873      -1.917539     -0.742821  ...  0.999972  1.000000           4.0\n",
              "80    -2.920534      -3.951263     -1.233765  ...  0.998875  0.999839           0.7\n",
              "81    -2.019746      -2.043876     -0.942020  ...  0.669728  0.999547           3.3\n",
              "\n",
              "[82 rows x 24 columns]"
            ]
          },
          "metadata": {},
          "execution_count": 138
        }
      ]
    },
    {
      "cell_type": "markdown",
      "metadata": {
        "id": "tcfBOccRyGsu"
      },
      "source": [
        "Remove from the dataframe above the geographic mean column and show the shape of that\n"
      ]
    },
    {
      "cell_type": "code",
      "metadata": {
        "colab": {
          "base_uri": "https://localhost:8080/"
        },
        "id": "9GxJfHwd0PRc",
        "outputId": "8887de36-3989-4c23-dfa8-1997eb20568b"
      },
      "source": [
        "# remove from the dataframe above the geographic mean column and show the shape of that\n",
        "\n",
        "X = df_all_om.drop('opacity_mean', axis=1)\n",
        "y = df_all_om.opacity_mean.copy()\n",
        "print(X.shape, y.shape)"
      ],
      "execution_count": null,
      "outputs": [
        {
          "output_type": "stream",
          "text": [
            "(82, 23) (82,)\n"
          ],
          "name": "stdout"
        }
      ]
    },
    {
      "cell_type": "markdown",
      "metadata": {
        "id": "76CKf5GfyJoD"
      },
      "source": [
        "Split of the data for testing and training data"
      ]
    },
    {
      "cell_type": "code",
      "metadata": {
        "colab": {
          "base_uri": "https://localhost:8080/"
        },
        "id": "fr4FSI0I0PUD",
        "outputId": "71d67afe-2fef-4412-b119-3f3903f13ed7"
      },
      "source": [
        "# Split of the data for testing and training data\n",
        "\n",
        "X_train, X_test, y_train, y_test = train_test_split(X, y, test_size = 0.25, random_state = 0)\n",
        "print(X_train.shape, y_train.shape, X_test.shape, y_test.shape)"
      ],
      "execution_count": null,
      "outputs": [
        {
          "output_type": "stream",
          "text": [
            "(61, 23) (61,) (21, 23) (21,)\n"
          ],
          "name": "stdout"
        }
      ]
    },
    {
      "cell_type": "markdown",
      "metadata": {
        "id": "HHsxTOWiyMmk"
      },
      "source": [
        "The data is normalized"
      ]
    },
    {
      "cell_type": "code",
      "metadata": {
        "id": "zHlOlnTT0PWc"
      },
      "source": [
        "# The data is normalized\n",
        "scaler=StandardScaler()\n",
        "scaler.fit(X_train)\n",
        "\n",
        "X_train_scaled = scaler.transform(X_train)\n",
        "X_test_scaled = scaler.transform(X_test)"
      ],
      "execution_count": null,
      "outputs": []
    },
    {
      "cell_type": "markdown",
      "metadata": {
        "id": "MoP_uRAHyQW7"
      },
      "source": [
        "Defining the model with 200 epochs"
      ]
    },
    {
      "cell_type": "code",
      "metadata": {
        "colab": {
          "base_uri": "https://localhost:8080/"
        },
        "id": "Vy3U_M2U0PYz",
        "outputId": "a826d554-d40b-4192-cdc3-882d8438a538"
      },
      "source": [
        "# Defining the model with 200 epochs\n",
        "\n",
        "model_nn = Sequential()\n",
        "model_nn.add(Dense(10, input_dim=23, activation='relu'))\n",
        "model_nn.add(Dense(1, activation='linear'))\n",
        "\n",
        "model_nn.compile(loss='mean_squared_error', optimizer='adam', metrics=['mae'])\n",
        "model_nn.summary()\n",
        "\n",
        "history = model_nn.fit(X_train_scaled, y_train, validation_split=0.1, epochs=200)"
      ],
      "execution_count": null,
      "outputs": [
        {
          "output_type": "stream",
          "text": [
            "Model: \"sequential_5\"\n",
            "_________________________________________________________________\n",
            "Layer (type)                 Output Shape              Param #   \n",
            "=================================================================\n",
            "dense_10 (Dense)             (None, 10)                240       \n",
            "_________________________________________________________________\n",
            "dense_11 (Dense)             (None, 1)                 11        \n",
            "=================================================================\n",
            "Total params: 251\n",
            "Trainable params: 251\n",
            "Non-trainable params: 0\n",
            "_________________________________________________________________\n",
            "Epoch 1/200\n",
            "2/2 [==============================] - 0s 117ms/step - loss: 12.5274 - mae: 2.9455 - val_loss: 8.8384 - val_mae: 2.4434\n",
            "Epoch 2/200\n",
            "2/2 [==============================] - 0s 20ms/step - loss: 12.3049 - mae: 2.9198 - val_loss: 8.6824 - val_mae: 2.4245\n",
            "Epoch 3/200\n",
            "2/2 [==============================] - 0s 20ms/step - loss: 12.0800 - mae: 2.8953 - val_loss: 8.5368 - val_mae: 2.4064\n",
            "Epoch 4/200\n",
            "2/2 [==============================] - 0s 23ms/step - loss: 11.8652 - mae: 2.8727 - val_loss: 8.3913 - val_mae: 2.3883\n",
            "Epoch 5/200\n",
            "2/2 [==============================] - 0s 26ms/step - loss: 11.6516 - mae: 2.8491 - val_loss: 8.2501 - val_mae: 2.3701\n",
            "Epoch 6/200\n",
            "2/2 [==============================] - 0s 22ms/step - loss: 11.4605 - mae: 2.8261 - val_loss: 8.1097 - val_mae: 2.3515\n",
            "Epoch 7/200\n",
            "2/2 [==============================] - 0s 22ms/step - loss: 11.2640 - mae: 2.8038 - val_loss: 7.9736 - val_mae: 2.3334\n",
            "Epoch 8/200\n",
            "2/2 [==============================] - 0s 24ms/step - loss: 11.0737 - mae: 2.7816 - val_loss: 7.8389 - val_mae: 2.3152\n",
            "Epoch 9/200\n",
            "2/2 [==============================] - 0s 33ms/step - loss: 10.8706 - mae: 2.7592 - val_loss: 7.7060 - val_mae: 2.2971\n",
            "Epoch 10/200\n",
            "2/2 [==============================] - 0s 25ms/step - loss: 10.7139 - mae: 2.7382 - val_loss: 7.5737 - val_mae: 2.2788\n",
            "Epoch 11/200\n",
            "2/2 [==============================] - 0s 26ms/step - loss: 10.5254 - mae: 2.7163 - val_loss: 7.4445 - val_mae: 2.2606\n",
            "Epoch 12/200\n",
            "2/2 [==============================] - 0s 28ms/step - loss: 10.3449 - mae: 2.6939 - val_loss: 7.3170 - val_mae: 2.2425\n",
            "Epoch 13/200\n",
            "2/2 [==============================] - 0s 21ms/step - loss: 10.1524 - mae: 2.6715 - val_loss: 7.1919 - val_mae: 2.2245\n",
            "Epoch 14/200\n",
            "2/2 [==============================] - 0s 19ms/step - loss: 9.9968 - mae: 2.6503 - val_loss: 7.0681 - val_mae: 2.2066\n",
            "Epoch 15/200\n",
            "2/2 [==============================] - 0s 22ms/step - loss: 9.8143 - mae: 2.6284 - val_loss: 6.9452 - val_mae: 2.1886\n",
            "Epoch 16/200\n",
            "2/2 [==============================] - 0s 23ms/step - loss: 9.6582 - mae: 2.6069 - val_loss: 6.8237 - val_mae: 2.1704\n",
            "Epoch 17/200\n",
            "2/2 [==============================] - 0s 20ms/step - loss: 9.4892 - mae: 2.5848 - val_loss: 6.7036 - val_mae: 2.1522\n",
            "Epoch 18/200\n",
            "2/2 [==============================] - 0s 20ms/step - loss: 9.3348 - mae: 2.5640 - val_loss: 6.5847 - val_mae: 2.1343\n",
            "Epoch 19/200\n",
            "2/2 [==============================] - 0s 20ms/step - loss: 9.1671 - mae: 2.5419 - val_loss: 6.4690 - val_mae: 2.1185\n",
            "Epoch 20/200\n",
            "2/2 [==============================] - 0s 21ms/step - loss: 9.0035 - mae: 2.5201 - val_loss: 6.3545 - val_mae: 2.1032\n",
            "Epoch 21/200\n",
            "2/2 [==============================] - 0s 30ms/step - loss: 8.8649 - mae: 2.4989 - val_loss: 6.2408 - val_mae: 2.0877\n",
            "Epoch 22/200\n",
            "2/2 [==============================] - 0s 22ms/step - loss: 8.6947 - mae: 2.4755 - val_loss: 6.1297 - val_mae: 2.0722\n",
            "Epoch 23/200\n",
            "2/2 [==============================] - 0s 27ms/step - loss: 8.5420 - mae: 2.4529 - val_loss: 6.0214 - val_mae: 2.0568\n",
            "Epoch 24/200\n",
            "2/2 [==============================] - 0s 23ms/step - loss: 8.3739 - mae: 2.4290 - val_loss: 5.9140 - val_mae: 2.0408\n",
            "Epoch 25/200\n",
            "2/2 [==============================] - 0s 21ms/step - loss: 8.2379 - mae: 2.4077 - val_loss: 5.8068 - val_mae: 2.0250\n",
            "Epoch 26/200\n",
            "2/2 [==============================] - 0s 27ms/step - loss: 8.0951 - mae: 2.3847 - val_loss: 5.7006 - val_mae: 2.0087\n",
            "Epoch 27/200\n",
            "2/2 [==============================] - 0s 27ms/step - loss: 7.9503 - mae: 2.3633 - val_loss: 5.5970 - val_mae: 1.9925\n",
            "Epoch 28/200\n",
            "2/2 [==============================] - 0s 22ms/step - loss: 7.7905 - mae: 2.3391 - val_loss: 5.4979 - val_mae: 1.9766\n",
            "Epoch 29/200\n",
            "2/2 [==============================] - 0s 23ms/step - loss: 7.6585 - mae: 2.3191 - val_loss: 5.3996 - val_mae: 1.9605\n",
            "Epoch 30/200\n",
            "2/2 [==============================] - 0s 24ms/step - loss: 7.5191 - mae: 2.2968 - val_loss: 5.3028 - val_mae: 1.9445\n",
            "Epoch 31/200\n",
            "2/2 [==============================] - 0s 28ms/step - loss: 7.3788 - mae: 2.2748 - val_loss: 5.2082 - val_mae: 1.9282\n",
            "Epoch 32/200\n",
            "2/2 [==============================] - 0s 24ms/step - loss: 7.2384 - mae: 2.2529 - val_loss: 5.1148 - val_mae: 1.9118\n",
            "Epoch 33/200\n",
            "2/2 [==============================] - 0s 21ms/step - loss: 7.0952 - mae: 2.2304 - val_loss: 5.0225 - val_mae: 1.8951\n",
            "Epoch 34/200\n",
            "2/2 [==============================] - 0s 22ms/step - loss: 6.9587 - mae: 2.2089 - val_loss: 4.9304 - val_mae: 1.8783\n",
            "Epoch 35/200\n",
            "2/2 [==============================] - 0s 22ms/step - loss: 6.8353 - mae: 2.1879 - val_loss: 4.8389 - val_mae: 1.8614\n",
            "Epoch 36/200\n",
            "2/2 [==============================] - 0s 22ms/step - loss: 6.7028 - mae: 2.1673 - val_loss: 4.7486 - val_mae: 1.8446\n",
            "Epoch 37/200\n",
            "2/2 [==============================] - 0s 23ms/step - loss: 6.5588 - mae: 2.1461 - val_loss: 4.6594 - val_mae: 1.8276\n",
            "Epoch 38/200\n",
            "2/2 [==============================] - 0s 21ms/step - loss: 6.4404 - mae: 2.1258 - val_loss: 4.5709 - val_mae: 1.8106\n",
            "Epoch 39/200\n",
            "2/2 [==============================] - 0s 23ms/step - loss: 6.3035 - mae: 2.1040 - val_loss: 4.4849 - val_mae: 1.7937\n",
            "Epoch 40/200\n",
            "2/2 [==============================] - 0s 28ms/step - loss: 6.1622 - mae: 2.0827 - val_loss: 4.4015 - val_mae: 1.7770\n",
            "Epoch 41/200\n",
            "2/2 [==============================] - 0s 27ms/step - loss: 6.0406 - mae: 2.0611 - val_loss: 4.3200 - val_mae: 1.7604\n",
            "Epoch 42/200\n",
            "2/2 [==============================] - 0s 25ms/step - loss: 5.9074 - mae: 2.0394 - val_loss: 4.2407 - val_mae: 1.7440\n",
            "Epoch 43/200\n",
            "2/2 [==============================] - 0s 26ms/step - loss: 5.7910 - mae: 2.0192 - val_loss: 4.1626 - val_mae: 1.7275\n",
            "Epoch 44/200\n",
            "2/2 [==============================] - 0s 22ms/step - loss: 5.6634 - mae: 1.9976 - val_loss: 4.0867 - val_mae: 1.7110\n",
            "Epoch 45/200\n",
            "2/2 [==============================] - 0s 23ms/step - loss: 5.5454 - mae: 1.9777 - val_loss: 4.0134 - val_mae: 1.6944\n",
            "Epoch 46/200\n",
            "2/2 [==============================] - 0s 21ms/step - loss: 5.4383 - mae: 1.9574 - val_loss: 3.9425 - val_mae: 1.6784\n",
            "Epoch 47/200\n",
            "2/2 [==============================] - 0s 20ms/step - loss: 5.3383 - mae: 1.9381 - val_loss: 3.8731 - val_mae: 1.6621\n",
            "Epoch 48/200\n",
            "2/2 [==============================] - 0s 21ms/step - loss: 5.2191 - mae: 1.9163 - val_loss: 3.8068 - val_mae: 1.6462\n",
            "Epoch 49/200\n",
            "2/2 [==============================] - 0s 21ms/step - loss: 5.1221 - mae: 1.8971 - val_loss: 3.7420 - val_mae: 1.6303\n",
            "Epoch 50/200\n",
            "2/2 [==============================] - 0s 20ms/step - loss: 5.0171 - mae: 1.8773 - val_loss: 3.6795 - val_mae: 1.6145\n",
            "Epoch 51/200\n",
            "2/2 [==============================] - 0s 25ms/step - loss: 4.9215 - mae: 1.8585 - val_loss: 3.6176 - val_mae: 1.5985\n",
            "Epoch 52/200\n",
            "2/2 [==============================] - 0s 21ms/step - loss: 4.8195 - mae: 1.8384 - val_loss: 3.5583 - val_mae: 1.5828\n",
            "Epoch 53/200\n",
            "2/2 [==============================] - 0s 20ms/step - loss: 4.7283 - mae: 1.8196 - val_loss: 3.5003 - val_mae: 1.5671\n",
            "Epoch 54/200\n",
            "2/2 [==============================] - 0s 30ms/step - loss: 4.6232 - mae: 1.7981 - val_loss: 3.4446 - val_mae: 1.5517\n",
            "Epoch 55/200\n",
            "2/2 [==============================] - 0s 24ms/step - loss: 4.5337 - mae: 1.7786 - val_loss: 3.3910 - val_mae: 1.5365\n",
            "Epoch 56/200\n",
            "2/2 [==============================] - 0s 27ms/step - loss: 4.4350 - mae: 1.7585 - val_loss: 3.3390 - val_mae: 1.5212\n",
            "Epoch 57/200\n",
            "2/2 [==============================] - 0s 25ms/step - loss: 4.3523 - mae: 1.7406 - val_loss: 3.2883 - val_mae: 1.5059\n",
            "Epoch 58/200\n",
            "2/2 [==============================] - 0s 24ms/step - loss: 4.2468 - mae: 1.7195 - val_loss: 3.2400 - val_mae: 1.4906\n",
            "Epoch 59/200\n",
            "2/2 [==============================] - 0s 21ms/step - loss: 4.1629 - mae: 1.7005 - val_loss: 3.1936 - val_mae: 1.4801\n",
            "Epoch 60/200\n",
            "2/2 [==============================] - 0s 26ms/step - loss: 4.0735 - mae: 1.6827 - val_loss: 3.1427 - val_mae: 1.4713\n",
            "Epoch 61/200\n",
            "2/2 [==============================] - 0s 23ms/step - loss: 3.9838 - mae: 1.6626 - val_loss: 3.0913 - val_mae: 1.4620\n",
            "Epoch 62/200\n",
            "2/2 [==============================] - 0s 28ms/step - loss: 3.9047 - mae: 1.6453 - val_loss: 3.0413 - val_mae: 1.4527\n",
            "Epoch 63/200\n",
            "2/2 [==============================] - 0s 25ms/step - loss: 3.8130 - mae: 1.6258 - val_loss: 2.9934 - val_mae: 1.4432\n",
            "Epoch 64/200\n",
            "2/2 [==============================] - 0s 31ms/step - loss: 3.7386 - mae: 1.6089 - val_loss: 2.9473 - val_mae: 1.4337\n",
            "Epoch 65/200\n",
            "2/2 [==============================] - 0s 24ms/step - loss: 3.6567 - mae: 1.5907 - val_loss: 2.9030 - val_mae: 1.4241\n",
            "Epoch 66/200\n",
            "2/2 [==============================] - 0s 25ms/step - loss: 3.5783 - mae: 1.5722 - val_loss: 2.8606 - val_mae: 1.4145\n",
            "Epoch 67/200\n",
            "2/2 [==============================] - 0s 21ms/step - loss: 3.5005 - mae: 1.5551 - val_loss: 2.8202 - val_mae: 1.4052\n",
            "Epoch 68/200\n",
            "2/2 [==============================] - 0s 20ms/step - loss: 3.4268 - mae: 1.5371 - val_loss: 2.7765 - val_mae: 1.3949\n",
            "Epoch 69/200\n",
            "2/2 [==============================] - 0s 22ms/step - loss: 3.3500 - mae: 1.5197 - val_loss: 2.7347 - val_mae: 1.3849\n",
            "Epoch 70/200\n",
            "2/2 [==============================] - 0s 22ms/step - loss: 3.2807 - mae: 1.5013 - val_loss: 2.6937 - val_mae: 1.3744\n",
            "Epoch 71/200\n",
            "2/2 [==============================] - 0s 32ms/step - loss: 3.2080 - mae: 1.4845 - val_loss: 2.6542 - val_mae: 1.3641\n",
            "Epoch 72/200\n",
            "2/2 [==============================] - 0s 24ms/step - loss: 3.1379 - mae: 1.4670 - val_loss: 2.6165 - val_mae: 1.3540\n",
            "Epoch 73/200\n",
            "2/2 [==============================] - 0s 22ms/step - loss: 3.0677 - mae: 1.4483 - val_loss: 2.5798 - val_mae: 1.3437\n",
            "Epoch 74/200\n",
            "2/2 [==============================] - 0s 27ms/step - loss: 3.0075 - mae: 1.4328 - val_loss: 2.5443 - val_mae: 1.3336\n",
            "Epoch 75/200\n",
            "2/2 [==============================] - 0s 27ms/step - loss: 2.9375 - mae: 1.4147 - val_loss: 2.5104 - val_mae: 1.3236\n",
            "Epoch 76/200\n",
            "2/2 [==============================] - 0s 33ms/step - loss: 2.8738 - mae: 1.3967 - val_loss: 2.4774 - val_mae: 1.3135\n",
            "Epoch 77/200\n",
            "2/2 [==============================] - 0s 21ms/step - loss: 2.8171 - mae: 1.3802 - val_loss: 2.4452 - val_mae: 1.3031\n",
            "Epoch 78/200\n",
            "2/2 [==============================] - 0s 22ms/step - loss: 2.7545 - mae: 1.3628 - val_loss: 2.4137 - val_mae: 1.2924\n",
            "Epoch 79/200\n",
            "2/2 [==============================] - 0s 26ms/step - loss: 2.7011 - mae: 1.3470 - val_loss: 2.3842 - val_mae: 1.2822\n",
            "Epoch 80/200\n",
            "2/2 [==============================] - 0s 22ms/step - loss: 2.6407 - mae: 1.3310 - val_loss: 2.3543 - val_mae: 1.2715\n",
            "Epoch 81/200\n",
            "2/2 [==============================] - 0s 21ms/step - loss: 2.5865 - mae: 1.3143 - val_loss: 2.3206 - val_mae: 1.2603\n",
            "Epoch 82/200\n",
            "2/2 [==============================] - 0s 27ms/step - loss: 2.5286 - mae: 1.2979 - val_loss: 2.2882 - val_mae: 1.2492\n",
            "Epoch 83/200\n",
            "2/2 [==============================] - 0s 22ms/step - loss: 2.4801 - mae: 1.2821 - val_loss: 2.2574 - val_mae: 1.2383\n",
            "Epoch 84/200\n",
            "2/2 [==============================] - 0s 22ms/step - loss: 2.4309 - mae: 1.2686 - val_loss: 2.2275 - val_mae: 1.2276\n",
            "Epoch 85/200\n",
            "2/2 [==============================] - 0s 30ms/step - loss: 2.3818 - mae: 1.2523 - val_loss: 2.1922 - val_mae: 1.2160\n",
            "Epoch 86/200\n",
            "2/2 [==============================] - 0s 23ms/step - loss: 2.3362 - mae: 1.2384 - val_loss: 2.1543 - val_mae: 1.2038\n",
            "Epoch 87/200\n",
            "2/2 [==============================] - 0s 26ms/step - loss: 2.2871 - mae: 1.2237 - val_loss: 2.1179 - val_mae: 1.1919\n",
            "Epoch 88/200\n",
            "2/2 [==============================] - 0s 25ms/step - loss: 2.2488 - mae: 1.2118 - val_loss: 2.0825 - val_mae: 1.1798\n",
            "Epoch 89/200\n",
            "2/2 [==============================] - 0s 22ms/step - loss: 2.2005 - mae: 1.1984 - val_loss: 2.0489 - val_mae: 1.1684\n",
            "Epoch 90/200\n",
            "2/2 [==============================] - 0s 22ms/step - loss: 2.1618 - mae: 1.1877 - val_loss: 2.0165 - val_mae: 1.1571\n",
            "Epoch 91/200\n",
            "2/2 [==============================] - 0s 26ms/step - loss: 2.1264 - mae: 1.1788 - val_loss: 1.9851 - val_mae: 1.1460\n",
            "Epoch 92/200\n",
            "2/2 [==============================] - 0s 29ms/step - loss: 2.0842 - mae: 1.1708 - val_loss: 1.9570 - val_mae: 1.1356\n",
            "Epoch 93/200\n",
            "2/2 [==============================] - 0s 25ms/step - loss: 2.0464 - mae: 1.1621 - val_loss: 1.9299 - val_mae: 1.1255\n",
            "Epoch 94/200\n",
            "2/2 [==============================] - 0s 24ms/step - loss: 2.0114 - mae: 1.1543 - val_loss: 1.9041 - val_mae: 1.1155\n",
            "Epoch 95/200\n",
            "2/2 [==============================] - 0s 27ms/step - loss: 1.9787 - mae: 1.1481 - val_loss: 1.8791 - val_mae: 1.1054\n",
            "Epoch 96/200\n",
            "2/2 [==============================] - 0s 25ms/step - loss: 1.9435 - mae: 1.1403 - val_loss: 1.8556 - val_mae: 1.0957\n",
            "Epoch 97/200\n",
            "2/2 [==============================] - 0s 22ms/step - loss: 1.9110 - mae: 1.1335 - val_loss: 1.8328 - val_mae: 1.0862\n",
            "Epoch 98/200\n",
            "2/2 [==============================] - 0s 23ms/step - loss: 1.8772 - mae: 1.1262 - val_loss: 1.8113 - val_mae: 1.0769\n",
            "Epoch 99/200\n",
            "2/2 [==============================] - 0s 21ms/step - loss: 1.8492 - mae: 1.1200 - val_loss: 1.7909 - val_mae: 1.0678\n",
            "Epoch 100/200\n",
            "2/2 [==============================] - 0s 25ms/step - loss: 1.8179 - mae: 1.1130 - val_loss: 1.7709 - val_mae: 1.0664\n",
            "Epoch 101/200\n",
            "2/2 [==============================] - 0s 33ms/step - loss: 1.7901 - mae: 1.1072 - val_loss: 1.7519 - val_mae: 1.0669\n",
            "Epoch 102/200\n",
            "2/2 [==============================] - 0s 25ms/step - loss: 1.7616 - mae: 1.1001 - val_loss: 1.7339 - val_mae: 1.0676\n",
            "Epoch 103/200\n",
            "2/2 [==============================] - 0s 28ms/step - loss: 1.7346 - mae: 1.0931 - val_loss: 1.7172 - val_mae: 1.0683\n",
            "Epoch 104/200\n",
            "2/2 [==============================] - 0s 28ms/step - loss: 1.7086 - mae: 1.0870 - val_loss: 1.6996 - val_mae: 1.0682\n",
            "Epoch 105/200\n",
            "2/2 [==============================] - 0s 23ms/step - loss: 1.6815 - mae: 1.0805 - val_loss: 1.6827 - val_mae: 1.0682\n",
            "Epoch 106/200\n",
            "2/2 [==============================] - 0s 24ms/step - loss: 1.6546 - mae: 1.0733 - val_loss: 1.6665 - val_mae: 1.0679\n",
            "Epoch 107/200\n",
            "2/2 [==============================] - 0s 22ms/step - loss: 1.6327 - mae: 1.0680 - val_loss: 1.6507 - val_mae: 1.0676\n",
            "Epoch 108/200\n",
            "2/2 [==============================] - 0s 22ms/step - loss: 1.6056 - mae: 1.0601 - val_loss: 1.6359 - val_mae: 1.0674\n",
            "Epoch 109/200\n",
            "2/2 [==============================] - 0s 30ms/step - loss: 1.5820 - mae: 1.0531 - val_loss: 1.6218 - val_mae: 1.0672\n",
            "Epoch 110/200\n",
            "2/2 [==============================] - 0s 22ms/step - loss: 1.5622 - mae: 1.0476 - val_loss: 1.6081 - val_mae: 1.0671\n",
            "Epoch 111/200\n",
            "2/2 [==============================] - 0s 25ms/step - loss: 1.5377 - mae: 1.0400 - val_loss: 1.5953 - val_mae: 1.0669\n",
            "Epoch 112/200\n",
            "2/2 [==============================] - 0s 28ms/step - loss: 1.5173 - mae: 1.0345 - val_loss: 1.5829 - val_mae: 1.0667\n",
            "Epoch 113/200\n",
            "2/2 [==============================] - 0s 31ms/step - loss: 1.4956 - mae: 1.0276 - val_loss: 1.5706 - val_mae: 1.0662\n",
            "Epoch 114/200\n",
            "2/2 [==============================] - 0s 25ms/step - loss: 1.4759 - mae: 1.0213 - val_loss: 1.5594 - val_mae: 1.0661\n",
            "Epoch 115/200\n",
            "2/2 [==============================] - 0s 26ms/step - loss: 1.4561 - mae: 1.0151 - val_loss: 1.5482 - val_mae: 1.0658\n",
            "Epoch 116/200\n",
            "2/2 [==============================] - 0s 23ms/step - loss: 1.4360 - mae: 1.0080 - val_loss: 1.5373 - val_mae: 1.0653\n",
            "Epoch 117/200\n",
            "2/2 [==============================] - 0s 25ms/step - loss: 1.4219 - mae: 1.0033 - val_loss: 1.5262 - val_mae: 1.0650\n",
            "Epoch 118/200\n",
            "2/2 [==============================] - 0s 23ms/step - loss: 1.4034 - mae: 0.9970 - val_loss: 1.5169 - val_mae: 1.0651\n",
            "Epoch 119/200\n",
            "2/2 [==============================] - 0s 23ms/step - loss: 1.3846 - mae: 0.9912 - val_loss: 1.5084 - val_mae: 1.0653\n",
            "Epoch 120/200\n",
            "2/2 [==============================] - 0s 36ms/step - loss: 1.3691 - mae: 0.9864 - val_loss: 1.5003 - val_mae: 1.0655\n",
            "Epoch 121/200\n",
            "2/2 [==============================] - 0s 29ms/step - loss: 1.3527 - mae: 0.9810 - val_loss: 1.4929 - val_mae: 1.0658\n",
            "Epoch 122/200\n",
            "2/2 [==============================] - 0s 25ms/step - loss: 1.3385 - mae: 0.9758 - val_loss: 1.4851 - val_mae: 1.0659\n",
            "Epoch 123/200\n",
            "2/2 [==============================] - 0s 24ms/step - loss: 1.3239 - mae: 0.9710 - val_loss: 1.4772 - val_mae: 1.0657\n",
            "Epoch 124/200\n",
            "2/2 [==============================] - 0s 22ms/step - loss: 1.3080 - mae: 0.9658 - val_loss: 1.4709 - val_mae: 1.0661\n",
            "Epoch 125/200\n",
            "2/2 [==============================] - 0s 22ms/step - loss: 1.2947 - mae: 0.9612 - val_loss: 1.4654 - val_mae: 1.0668\n",
            "Epoch 126/200\n",
            "2/2 [==============================] - 0s 23ms/step - loss: 1.2811 - mae: 0.9562 - val_loss: 1.4596 - val_mae: 1.0672\n",
            "Epoch 127/200\n",
            "2/2 [==============================] - 0s 24ms/step - loss: 1.2670 - mae: 0.9510 - val_loss: 1.4548 - val_mae: 1.0679\n",
            "Epoch 128/200\n",
            "2/2 [==============================] - 0s 28ms/step - loss: 1.2548 - mae: 0.9463 - val_loss: 1.4502 - val_mae: 1.0686\n",
            "Epoch 129/200\n",
            "2/2 [==============================] - 0s 29ms/step - loss: 1.2407 - mae: 0.9409 - val_loss: 1.4455 - val_mae: 1.0690\n",
            "Epoch 130/200\n",
            "2/2 [==============================] - 0s 33ms/step - loss: 1.2284 - mae: 0.9364 - val_loss: 1.4404 - val_mae: 1.0691\n",
            "Epoch 131/200\n",
            "2/2 [==============================] - 0s 24ms/step - loss: 1.2176 - mae: 0.9327 - val_loss: 1.4361 - val_mae: 1.0698\n",
            "Epoch 132/200\n",
            "2/2 [==============================] - 0s 23ms/step - loss: 1.2049 - mae: 0.9281 - val_loss: 1.4319 - val_mae: 1.0702\n",
            "Epoch 133/200\n",
            "2/2 [==============================] - 0s 23ms/step - loss: 1.1926 - mae: 0.9234 - val_loss: 1.4282 - val_mae: 1.0707\n",
            "Epoch 134/200\n",
            "2/2 [==============================] - 0s 26ms/step - loss: 1.1812 - mae: 0.9191 - val_loss: 1.4248 - val_mae: 1.0712\n",
            "Epoch 135/200\n",
            "2/2 [==============================] - 0s 21ms/step - loss: 1.1702 - mae: 0.9146 - val_loss: 1.4218 - val_mae: 1.0719\n",
            "Epoch 136/200\n",
            "2/2 [==============================] - 0s 25ms/step - loss: 1.1588 - mae: 0.9105 - val_loss: 1.4191 - val_mae: 1.0725\n",
            "Epoch 137/200\n",
            "2/2 [==============================] - 0s 27ms/step - loss: 1.1483 - mae: 0.9061 - val_loss: 1.4164 - val_mae: 1.0730\n",
            "Epoch 138/200\n",
            "2/2 [==============================] - 0s 24ms/step - loss: 1.1374 - mae: 0.9018 - val_loss: 1.4137 - val_mae: 1.0734\n",
            "Epoch 139/200\n",
            "2/2 [==============================] - 0s 22ms/step - loss: 1.1277 - mae: 0.8978 - val_loss: 1.4113 - val_mae: 1.0740\n",
            "Epoch 140/200\n",
            "2/2 [==============================] - 0s 22ms/step - loss: 1.1179 - mae: 0.8936 - val_loss: 1.4088 - val_mae: 1.0745\n",
            "Epoch 141/200\n",
            "2/2 [==============================] - 0s 24ms/step - loss: 1.1075 - mae: 0.8895 - val_loss: 1.4065 - val_mae: 1.0749\n",
            "Epoch 142/200\n",
            "2/2 [==============================] - 0s 28ms/step - loss: 1.0975 - mae: 0.8856 - val_loss: 1.4045 - val_mae: 1.0755\n",
            "Epoch 143/200\n",
            "2/2 [==============================] - 0s 22ms/step - loss: 1.0884 - mae: 0.8823 - val_loss: 1.4022 - val_mae: 1.0756\n",
            "Epoch 144/200\n",
            "2/2 [==============================] - 0s 26ms/step - loss: 1.0798 - mae: 0.8790 - val_loss: 1.3995 - val_mae: 1.0756\n",
            "Epoch 145/200\n",
            "2/2 [==============================] - 0s 22ms/step - loss: 1.0698 - mae: 0.8748 - val_loss: 1.3976 - val_mae: 1.0759\n",
            "Epoch 146/200\n",
            "2/2 [==============================] - 0s 29ms/step - loss: 1.0608 - mae: 0.8710 - val_loss: 1.3948 - val_mae: 1.0756\n",
            "Epoch 147/200\n",
            "2/2 [==============================] - 0s 21ms/step - loss: 1.0523 - mae: 0.8672 - val_loss: 1.3919 - val_mae: 1.0753\n",
            "Epoch 148/200\n",
            "2/2 [==============================] - 0s 28ms/step - loss: 1.0434 - mae: 0.8634 - val_loss: 1.3900 - val_mae: 1.0752\n",
            "Epoch 149/200\n",
            "2/2 [==============================] - 0s 25ms/step - loss: 1.0349 - mae: 0.8594 - val_loss: 1.3870 - val_mae: 1.0747\n",
            "Epoch 150/200\n",
            "2/2 [==============================] - 0s 25ms/step - loss: 1.0262 - mae: 0.8556 - val_loss: 1.3849 - val_mae: 1.0747\n",
            "Epoch 151/200\n",
            "2/2 [==============================] - 0s 21ms/step - loss: 1.0181 - mae: 0.8519 - val_loss: 1.3827 - val_mae: 1.0746\n",
            "Epoch 152/200\n",
            "2/2 [==============================] - 0s 25ms/step - loss: 1.0102 - mae: 0.8481 - val_loss: 1.3797 - val_mae: 1.0740\n",
            "Epoch 153/200\n",
            "2/2 [==============================] - 0s 32ms/step - loss: 1.0024 - mae: 0.8447 - val_loss: 1.3779 - val_mae: 1.0740\n",
            "Epoch 154/200\n",
            "2/2 [==============================] - 0s 26ms/step - loss: 0.9937 - mae: 0.8408 - val_loss: 1.3763 - val_mae: 1.0740\n",
            "Epoch 155/200\n",
            "2/2 [==============================] - 0s 22ms/step - loss: 0.9863 - mae: 0.8370 - val_loss: 1.3740 - val_mae: 1.0736\n",
            "Epoch 156/200\n",
            "2/2 [==============================] - 0s 21ms/step - loss: 0.9785 - mae: 0.8333 - val_loss: 1.3712 - val_mae: 1.0731\n",
            "Epoch 157/200\n",
            "2/2 [==============================] - 0s 24ms/step - loss: 0.9709 - mae: 0.8297 - val_loss: 1.3695 - val_mae: 1.0730\n",
            "Epoch 158/200\n",
            "2/2 [==============================] - 0s 29ms/step - loss: 0.9631 - mae: 0.8257 - val_loss: 1.3678 - val_mae: 1.0729\n",
            "Epoch 159/200\n",
            "2/2 [==============================] - 0s 21ms/step - loss: 0.9561 - mae: 0.8224 - val_loss: 1.3657 - val_mae: 1.0727\n",
            "Epoch 160/200\n",
            "2/2 [==============================] - 0s 27ms/step - loss: 0.9486 - mae: 0.8186 - val_loss: 1.3632 - val_mae: 1.0724\n",
            "Epoch 161/200\n",
            "2/2 [==============================] - 0s 26ms/step - loss: 0.9418 - mae: 0.8149 - val_loss: 1.3605 - val_mae: 1.0718\n",
            "Epoch 162/200\n",
            "2/2 [==============================] - 0s 26ms/step - loss: 0.9340 - mae: 0.8113 - val_loss: 1.3583 - val_mae: 1.0713\n",
            "Epoch 163/200\n",
            "2/2 [==============================] - 0s 30ms/step - loss: 0.9272 - mae: 0.8083 - val_loss: 1.3556 - val_mae: 1.0707\n",
            "Epoch 164/200\n",
            "2/2 [==============================] - 0s 24ms/step - loss: 0.9195 - mae: 0.8048 - val_loss: 1.3535 - val_mae: 1.0704\n",
            "Epoch 165/200\n",
            "2/2 [==============================] - 0s 26ms/step - loss: 0.9130 - mae: 0.8019 - val_loss: 1.3512 - val_mae: 1.0700\n",
            "Epoch 166/200\n",
            "2/2 [==============================] - 0s 21ms/step - loss: 0.9061 - mae: 0.7992 - val_loss: 1.3490 - val_mae: 1.0696\n",
            "Epoch 167/200\n",
            "2/2 [==============================] - 0s 29ms/step - loss: 0.8994 - mae: 0.7958 - val_loss: 1.3466 - val_mae: 1.0691\n",
            "Epoch 168/200\n",
            "2/2 [==============================] - 0s 23ms/step - loss: 0.8930 - mae: 0.7928 - val_loss: 1.3441 - val_mae: 1.0685\n",
            "Epoch 169/200\n",
            "2/2 [==============================] - 0s 24ms/step - loss: 0.8856 - mae: 0.7895 - val_loss: 1.3416 - val_mae: 1.0678\n",
            "Epoch 170/200\n",
            "2/2 [==============================] - 0s 20ms/step - loss: 0.8800 - mae: 0.7868 - val_loss: 1.3388 - val_mae: 1.0671\n",
            "Epoch 171/200\n",
            "2/2 [==============================] - 0s 31ms/step - loss: 0.8727 - mae: 0.7837 - val_loss: 1.3364 - val_mae: 1.0665\n",
            "Epoch 172/200\n",
            "2/2 [==============================] - 0s 26ms/step - loss: 0.8671 - mae: 0.7814 - val_loss: 1.3338 - val_mae: 1.0658\n",
            "Epoch 173/200\n",
            "2/2 [==============================] - 0s 24ms/step - loss: 0.8607 - mae: 0.7787 - val_loss: 1.3316 - val_mae: 1.0654\n",
            "Epoch 174/200\n",
            "2/2 [==============================] - 0s 28ms/step - loss: 0.8545 - mae: 0.7763 - val_loss: 1.3304 - val_mae: 1.0656\n",
            "Epoch 175/200\n",
            "2/2 [==============================] - 0s 29ms/step - loss: 0.8485 - mae: 0.7740 - val_loss: 1.3295 - val_mae: 1.0658\n",
            "Epoch 176/200\n",
            "2/2 [==============================] - 0s 22ms/step - loss: 0.8427 - mae: 0.7718 - val_loss: 1.3276 - val_mae: 1.0655\n",
            "Epoch 177/200\n",
            "2/2 [==============================] - 0s 23ms/step - loss: 0.8362 - mae: 0.7692 - val_loss: 1.3258 - val_mae: 1.0654\n",
            "Epoch 178/200\n",
            "2/2 [==============================] - 0s 22ms/step - loss: 0.8308 - mae: 0.7673 - val_loss: 1.3234 - val_mae: 1.0649\n",
            "Epoch 179/200\n",
            "2/2 [==============================] - 0s 25ms/step - loss: 0.8247 - mae: 0.7649 - val_loss: 1.3201 - val_mae: 1.0639\n",
            "Epoch 180/200\n",
            "2/2 [==============================] - 0s 26ms/step - loss: 0.8192 - mae: 0.7625 - val_loss: 1.3173 - val_mae: 1.0631\n",
            "Epoch 181/200\n",
            "2/2 [==============================] - 0s 23ms/step - loss: 0.8129 - mae: 0.7600 - val_loss: 1.3153 - val_mae: 1.0629\n",
            "Epoch 182/200\n",
            "2/2 [==============================] - 0s 25ms/step - loss: 0.8080 - mae: 0.7582 - val_loss: 1.3139 - val_mae: 1.0629\n",
            "Epoch 183/200\n",
            "2/2 [==============================] - 0s 26ms/step - loss: 0.8020 - mae: 0.7561 - val_loss: 1.3124 - val_mae: 1.0629\n",
            "Epoch 184/200\n",
            "2/2 [==============================] - 0s 31ms/step - loss: 0.7966 - mae: 0.7538 - val_loss: 1.3107 - val_mae: 1.0628\n",
            "Epoch 185/200\n",
            "2/2 [==============================] - 0s 24ms/step - loss: 0.7912 - mae: 0.7515 - val_loss: 1.3091 - val_mae: 1.0629\n",
            "Epoch 186/200\n",
            "2/2 [==============================] - 0s 26ms/step - loss: 0.7858 - mae: 0.7493 - val_loss: 1.3085 - val_mae: 1.0633\n",
            "Epoch 187/200\n",
            "2/2 [==============================] - 0s 30ms/step - loss: 0.7803 - mae: 0.7469 - val_loss: 1.3065 - val_mae: 1.0629\n",
            "Epoch 188/200\n",
            "2/2 [==============================] - 0s 27ms/step - loss: 0.7754 - mae: 0.7450 - val_loss: 1.3049 - val_mae: 1.0628\n",
            "Epoch 189/200\n",
            "2/2 [==============================] - 0s 33ms/step - loss: 0.7701 - mae: 0.7428 - val_loss: 1.3048 - val_mae: 1.0632\n",
            "Epoch 190/200\n",
            "2/2 [==============================] - 0s 27ms/step - loss: 0.7649 - mae: 0.7405 - val_loss: 1.3037 - val_mae: 1.0633\n",
            "Epoch 191/200\n",
            "2/2 [==============================] - 0s 22ms/step - loss: 0.7594 - mae: 0.7379 - val_loss: 1.3014 - val_mae: 1.0628\n",
            "Epoch 192/200\n",
            "2/2 [==============================] - 0s 24ms/step - loss: 0.7548 - mae: 0.7360 - val_loss: 1.2999 - val_mae: 1.0626\n",
            "Epoch 193/200\n",
            "2/2 [==============================] - 0s 23ms/step - loss: 0.7496 - mae: 0.7337 - val_loss: 1.2988 - val_mae: 1.0626\n",
            "Epoch 194/200\n",
            "2/2 [==============================] - 0s 23ms/step - loss: 0.7450 - mae: 0.7315 - val_loss: 1.2979 - val_mae: 1.0629\n",
            "Epoch 195/200\n",
            "2/2 [==============================] - 0s 22ms/step - loss: 0.7400 - mae: 0.7294 - val_loss: 1.2975 - val_mae: 1.0632\n",
            "Epoch 196/200\n",
            "2/2 [==============================] - 0s 25ms/step - loss: 0.7351 - mae: 0.7270 - val_loss: 1.2958 - val_mae: 1.0630\n",
            "Epoch 197/200\n",
            "2/2 [==============================] - 0s 22ms/step - loss: 0.7304 - mae: 0.7248 - val_loss: 1.2948 - val_mae: 1.0631\n",
            "Epoch 198/200\n",
            "2/2 [==============================] - 0s 31ms/step - loss: 0.7254 - mae: 0.7225 - val_loss: 1.2940 - val_mae: 1.0632\n",
            "Epoch 199/200\n",
            "2/2 [==============================] - 0s 34ms/step - loss: 0.7213 - mae: 0.7207 - val_loss: 1.2932 - val_mae: 1.0633\n",
            "Epoch 200/200\n",
            "2/2 [==============================] - 0s 23ms/step - loss: 0.7163 - mae: 0.7182 - val_loss: 1.2922 - val_mae: 1.0634\n"
          ],
          "name": "stdout"
        }
      ]
    },
    {
      "cell_type": "markdown",
      "metadata": {
        "id": "hHia0zooyS_l"
      },
      "source": [
        "Plot the training and validation accuracy and loss at each epoch"
      ]
    },
    {
      "cell_type": "code",
      "metadata": {
        "colab": {
          "base_uri": "https://localhost:8080/",
          "height": 573
        },
        "id": "UR9phwZ00Pbb",
        "outputId": "f440e0d6-d725-4977-bff9-16f022b39671"
      },
      "source": [
        "## Plot the training and validation accuracy and loss at each epoch\n",
        "\n",
        "loss = history.history['loss']\n",
        "val_loss = history.history['val_loss']\n",
        "epochs = range(1, len(loss) + 1)\n",
        "plt.plot(epochs, loss, 'y', label='Training loss')\n",
        "plt.plot(epochs, val_loss, 'r', label='Validation loss')\n",
        "plt.title('Training and validation loss')\n",
        "plt.xlabel('Epochs')\n",
        "plt.ylabel('Loss')\n",
        "plt.legend()\n",
        "plt.show()\n",
        "\n",
        "\n",
        "acc = history.history['mae']\n",
        "val_acc = history.history['val_mae']\n",
        "plt.plot(epochs, acc, 'y', label='Training MAE')\n",
        "plt.plot(epochs, val_acc, 'r', label='Validation MAE')\n",
        "plt.title('Training and validation MAE')\n",
        "plt.xlabel('Epochs')\n",
        "plt.ylabel('Accuracy')\n",
        "plt.legend()\n",
        "plt.show()"
      ],
      "execution_count": null,
      "outputs": [
        {
          "output_type": "display_data",
          "data": {
            "image/png": "[encoded data removed]",
            "text/plain": [
              "<Figure size 432x288 with 1 Axes>"
            ]
          },
          "metadata": {
            "needs_background": "light"
          }
        },
        {
          "output_type": "display_data",
          "data": {
            "image/png": "[encoded data removed]",
            "text/plain": [
              "<Figure size 432x288 with 1 Axes>"
            ]
          },
          "metadata": {
            "needs_background": "light"
          }
        }
      ]
    },
    {
      "cell_type": "markdown",
      "metadata": {
        "id": "TAz2dMR3yU1m"
      },
      "source": [
        "First model: NEURAL NETWORK"
      ]
    },
    {
      "cell_type": "code",
      "metadata": {
        "colab": {
          "base_uri": "https://localhost:8080/"
        },
        "id": "ipMs4EF30PeN",
        "outputId": "5dc4a6e1-9716-480f-c5f3-707a22b29429"
      },
      "source": [
        "##############################################################\n",
        "### First model: NEURAL NETWORK\n",
        "\n",
        "mse_nn, mae_nn = model_nn.evaluate(X_test_scaled, y_test)\n",
        "print()\n",
        "print('Mean squared error using Neural Network: ', mse_nn)\n",
        "print('Mean absolute error using Neural Network: ', mae_nn)"
      ],
      "execution_count": null,
      "outputs": [
        {
          "output_type": "stream",
          "text": [
            "1/1 [==============================] - 0s 16ms/step - loss: 1.9803 - mae: 1.1689\n",
            "\n",
            "Mean squared error using Neural Network:  1.9803129434585571\n",
            "Mean absolute error using Neural Network:  1.168929100036621\n"
          ],
          "name": "stdout"
        }
      ]
    },
    {
      "cell_type": "markdown",
      "metadata": {
        "id": "MIim5zinyXa8"
      },
      "source": [
        "Second model:  LINEAR REGRESSION"
      ]
    },
    {
      "cell_type": "code",
      "metadata": {
        "colab": {
          "base_uri": "https://localhost:8080/"
        },
        "id": "Y3Coear80Pgz",
        "outputId": "e97ecdf1-f3f4-4340-87c9-7992c43c2206"
      },
      "source": [
        "##############################################################\n",
        "### Second model:  LINEAR REGRESSION\n",
        "\n",
        "model_lr = linear_model.LinearRegression()\n",
        "model_lr.fit(X_train_scaled, y_train)\n",
        "y_pred_lr = model_lr.predict(X_test_scaled)\n",
        "mse_lr = mean_squared_error(y_test, y_pred_lr)\n",
        "mae_lr = mean_absolute_error(y_test, y_pred_lr)\n",
        "print('Mean squared error from linear regression: ', mse_lr)\n",
        "print('Mean absolute error from linear regression: ', mae_lr)"
      ],
      "execution_count": null,
      "outputs": [
        {
          "output_type": "stream",
          "text": [
            "Mean squared error from linear regression:  1.9340285238215018\n",
            "Mean absolute error from linear regression:  1.0698048683236248\n"
          ],
          "name": "stdout"
        }
      ]
    },
    {
      "cell_type": "markdown",
      "metadata": {
        "id": "JTP3HYGFyZio"
      },
      "source": [
        "Third model: DECISION TREE"
      ]
    },
    {
      "cell_type": "code",
      "metadata": {
        "colab": {
          "base_uri": "https://localhost:8080/"
        },
        "id": "n5XJqUO00Pjb",
        "outputId": "6e3e6ab6-014a-48e8-a0f2-162b6397ac45"
      },
      "source": [
        "############################################################\n",
        "## Third model: DECISION TREE\n",
        "\n",
        "model_dt = DecisionTreeRegressor()\n",
        "model_dt.fit(X_train_scaled, y_train)\n",
        "y_pred_dt = model_dt.predict(X_test_scaled)\n",
        "mse_dt = mean_squared_error(y_test, y_pred_dt)\n",
        "mae_dt = mean_absolute_error(y_test, y_pred_dt)\n",
        "print('Mean squared error using decision tree: ', mse_dt)\n",
        "print('Mean absolute error using decision tree: ', mae_dt)"
      ],
      "execution_count": null,
      "outputs": [
        {
          "output_type": "stream",
          "text": [
            "Mean squared error using decision tree:  2.21952380952381\n",
            "Mean absolute error using decision tree:  1.1285714285714286\n"
          ],
          "name": "stdout"
        }
      ]
    },
    {
      "cell_type": "markdown",
      "metadata": {
        "id": "lopQPjK8ybLn"
      },
      "source": [
        "Sort the features according to the dregree of relevance to geographic_mean and found the the most important feature is LUNG OPACITY according this model \n"
      ]
    },
    {
      "cell_type": "code",
      "metadata": {
        "colab": {
          "base_uri": "https://localhost:8080/"
        },
        "id": "Z9zKI6vz0Pl7",
        "outputId": "70d9d575-341e-4266-c02f-6897aeafedb6"
      },
      "source": [
        "# Sort the features according to the dregree of relevance to geographic_mean and found the the most important feature is LUNG OPACITY according this model \n",
        "\n",
        "feature_list = list(X.columns)\n",
        "feature_imp = pd.Series(model_dt.feature_importances_, index=feature_list).sort_values(ascending=False)\n",
        "print(feature_imp)"
      ],
      "execution_count": null,
      "outputs": [
        {
          "output_type": "stream",
          "text": [
            "Lung Opacity                  0.506328\n",
            "Pleural_Thickening            0.126540\n",
            "Cardiomegaly                  0.121053\n",
            "Pneumonia                     0.085223\n",
            "Xception                      0.028586\n",
            "resnet50                      0.026520\n",
            "InceptionV3                   0.015941\n",
            "Edema                         0.015303\n",
            "Fracture                      0.012678\n",
            "vgg16                         0.012178\n",
            "Consolidation                 0.010088\n",
            "Enlarged Cardiomediastinum    0.010088\n",
            "Pneumothorax                  0.008200\n",
            "Infiltration                  0.007491\n",
            "Effusion                      0.004981\n",
            "Atelectasis                   0.003590\n",
            "Fibrosis                      0.003138\n",
            "Emphysema                     0.001401\n",
            "Lung Lesion                   0.000336\n",
            "Mass                          0.000336\n",
            "Hernia                        0.000000\n",
            "DenseNet121                   0.000000\n",
            "Nodule                        0.000000\n",
            "dtype: float64\n"
          ],
          "name": "stdout"
        }
      ]
    },
    {
      "cell_type": "markdown",
      "metadata": {
        "id": "QiV_zy6VyeTZ"
      },
      "source": [
        "Fourth model: RANDOM FOREST"
      ]
    },
    {
      "cell_type": "code",
      "metadata": {
        "colab": {
          "base_uri": "https://localhost:8080/"
        },
        "id": "nPgJ-lbG0Poj",
        "outputId": "43420c28-495c-42eb-f9cf-f506a2980d44"
      },
      "source": [
        "##############################################\n",
        "## Fourth model: RANDOM FOREST\n",
        "\n",
        "model_rf = RandomForestRegressor(n_estimators = 30, random_state=30)\n",
        "model_rf.fit(X_train_scaled, y_train)\n",
        "y_pred_rf = model_rf.predict(X_test_scaled)\n",
        "mse_rf = mean_squared_error(y_test, y_pred_rf)\n",
        "mae_rf = mean_absolute_error(y_test, y_pred_rf)\n",
        "print('Mean squared error using Random Forest: ', mse_rf)\n",
        "print('Mean absolute error Using Random Forest: ', mae_rf)"
      ],
      "execution_count": null,
      "outputs": [
        {
          "output_type": "stream",
          "text": [
            "Mean squared error using Random Forest:  1.0026328042328043\n",
            "Mean absolute error Using Random Forest:  0.8266666666666664\n"
          ],
          "name": "stdout"
        }
      ]
    },
    {
      "cell_type": "markdown",
      "metadata": {
        "id": "sS0poAGOyjMr"
      },
      "source": [
        "Sort the features according to the dregree of relevance to geographic_mean and found the the most important feature is LUNG OPACITY according this model\n"
      ]
    },
    {
      "cell_type": "code",
      "metadata": {
        "colab": {
          "base_uri": "https://localhost:8080/"
        },
        "id": "DZTBbCZ2oaOk",
        "outputId": "5016ed55-0d80-4fe3-bde5-bf13a8caeb4f"
      },
      "source": [
        "# Sort the features according to the dregree of relevance to geographic_mean and found the the most important feature is LUNG OPACITY according this model\n",
        "\n",
        "feature_list = list(X.columns)\n",
        "feature_imp = pd.Series(model_rf.feature_importances_, index=feature_list).sort_values(ascending=False)\n",
        "print(feature_imp)"
      ],
      "execution_count": null,
      "outputs": [
        {
          "output_type": "stream",
          "text": [
            "Lung Opacity                  0.453862\n",
            "Effusion                      0.145907\n",
            "resnet50                      0.057997\n",
            "DenseNet121                   0.045345\n",
            "Mass                          0.040194\n",
            "Consolidation                 0.039924\n",
            "Pneumonia                     0.024429\n",
            "Cardiomegaly                  0.019914\n",
            "Atelectasis                   0.019758\n",
            "InceptionV3                   0.018453\n",
            "Hernia                        0.018090\n",
            "Nodule                        0.017094\n",
            "Lung Lesion                   0.013869\n",
            "Fracture                      0.013774\n",
            "Emphysema                     0.012250\n",
            "Enlarged Cardiomediastinum    0.011973\n",
            "Infiltration                  0.010894\n",
            "Pneumothorax                  0.010230\n",
            "vgg16                         0.008857\n",
            "Edema                         0.005007\n",
            "Fibrosis                      0.004942\n",
            "Pleural_Thickening            0.004344\n",
            "Xception                      0.002894\n",
            "dtype: float64\n"
          ],
          "name": "stdout"
        }
      ]
    },
    {
      "cell_type": "markdown",
      "metadata": {
        "id": "8PVsfs7QymOo"
      },
      "source": [
        "Fifth model: XGBOOST"
      ]
    },
    {
      "cell_type": "code",
      "metadata": {
        "colab": {
          "base_uri": "https://localhost:8080/"
        },
        "id": "wXhRVLAkoaRC",
        "outputId": "cf817727-2120-4d00-e3fc-b740413366fa"
      },
      "source": [
        "###################################\n",
        "## Fifth model: XGBOOST\n",
        "\n",
        "model_xgbr = XGBRegressor(verbosity=0)\n",
        "model_xgbr.fit(X_train_scaled, y_train)\n",
        "y_pred_xgbr = model_xgbr.predict(X_test_scaled)\n",
        "mse_xgbr = mean_squared_error(y_test, y_pred_xgbr)\n",
        "mae_xgbr = mean_absolute_error(y_test, y_pred_xgbr)\n",
        "print('Mean squared error using XGBoost: ', mse_xgbr)\n",
        "print('Mean absolute error Using XGBoost: ', mae_xgbr)"
      ],
      "execution_count": null,
      "outputs": [
        {
          "output_type": "stream",
          "text": [
            "Mean squared error using XGBoost:  1.3232910370650888\n",
            "Mean absolute error Using XGBoost:  0.9508911462057205\n"
          ],
          "name": "stdout"
        }
      ]
    },
    {
      "cell_type": "markdown",
      "metadata": {
        "id": "BXB01295yoFT"
      },
      "source": [
        "Sort the features according to the dregree of relevance to geographic_mean and found the the most important feature is LUNG OPACITY according this model\n"
      ]
    },
    {
      "cell_type": "code",
      "metadata": {
        "colab": {
          "base_uri": "https://localhost:8080/"
        },
        "id": "qjQ8AIyooaTc",
        "outputId": "2c454725-0970-4473-d76b-9fea15cd2570"
      },
      "source": [
        "# Sort the features according to the dregree of relevance to geographic_mean and found the the most important feature is LUNG OPACITY according this model\n",
        "\n",
        "feature_list = list(X.columns)\n",
        "feature_imp = pd.Series(model_xgbr.feature_importances_, index=feature_list).sort_values(ascending=False)\n",
        "print(feature_imp)"
      ],
      "execution_count": null,
      "outputs": [
        {
          "output_type": "stream",
          "text": [
            "Lung Opacity                  0.417783\n",
            "Effusion                      0.186403\n",
            "DenseNet121                   0.075985\n",
            "Cardiomegaly                  0.054723\n",
            "resnet50                      0.034627\n",
            "InceptionV3                   0.031098\n",
            "Pleural_Thickening            0.030459\n",
            "Mass                          0.020483\n",
            "Hernia                        0.019300\n",
            "Atelectasis                   0.015635\n",
            "Pneumothorax                  0.013701\n",
            "Consolidation                 0.012556\n",
            "Emphysema                     0.012477\n",
            "Lung Lesion                   0.012332\n",
            "vgg16                         0.010843\n",
            "Nodule                        0.009996\n",
            "Pneumonia                     0.008283\n",
            "Fibrosis                      0.007680\n",
            "Enlarged Cardiomediastinum    0.006986\n",
            "Edema                         0.006790\n",
            "Xception                      0.005451\n",
            "Fracture                      0.003331\n",
            "Infiltration                  0.003075\n",
            "dtype: float32\n"
          ],
          "name": "stdout"
        }
      ]
    },
    {
      "cell_type": "markdown",
      "metadata": {
        "id": "Hw9x1MPIyser"
      },
      "source": [
        "Show comparison between mse and r2 of the 5 implemented models"
      ]
    },
    {
      "cell_type": "code",
      "metadata": {
        "colab": {
          "base_uri": "https://localhost:8080/",
          "height": 203
        },
        "id": "Zkki_yg8oaWW",
        "outputId": "f9b4692c-0f20-41c7-ef69-fd11a60c87be"
      },
      "source": [
        "# Show comparison between mse and r2 of the 5 implemented models\n",
        "\n",
        "nombre_modelos = ['Neural Nets', 'Multiple Linear Regression', 'Decision Tree', 'Random Forest', 'XGBoost']\n",
        "MSE = [mse_nn, mse_lr, mse_dt, mse_rf, mse_xgbr]\n",
        "MAE = [mae_nn, mae_lr, mae_dt, mae_rf, mae_xgbr]\n",
        "dict_metrics_om = {'Modelos':nombre_modelos, 'Mean Squared Error':MSE, 'Mean Absolute Error': MAE}\n",
        "df_metrics_om = pd.DataFrame(dict_metrics_om)\n",
        "df_metrics_om"
      ],
      "execution_count": null,
      "outputs": [
        {
          "output_type": "execute_result",
          "data": {
            "text/html": [
              "<div>\n",
              "<style scoped>\n",
              "    .dataframe tbody tr th:only-of-type {\n",
              "        vertical-align: middle;\n",
              "    }\n",
              "\n",
              "    .dataframe tbody tr th {\n",
              "        vertical-align: top;\n",
              "    }\n",
              "\n",
              "    .dataframe thead th {\n",
              "        text-align: right;\n",
              "    }\n",
              "</style>\n",
              "<table border=\"1\" class=\"dataframe\">\n",
              "  <thead>\n",
              "    <tr style=\"text-align: right;\">\n",
              "      <th></th>\n",
              "      <th>Modelos</th>\n",
              "      <th>Mean Squared Error</th>\n",
              "      <th>Mean Absolute Error</th>\n",
              "    </tr>\n",
              "  </thead>\n",
              "  <tbody>\n",
              "    <tr>\n",
              "      <th>0</th>\n",
              "      <td>Neural Nets</td>\n",
              "      <td>1.980313</td>\n",
              "      <td>1.168929</td>\n",
              "    </tr>\n",
              "    <tr>\n",
              "      <th>1</th>\n",
              "      <td>Multiple Linear Regression</td>\n",
              "      <td>1.934029</td>\n",
              "      <td>1.069805</td>\n",
              "    </tr>\n",
              "    <tr>\n",
              "      <th>2</th>\n",
              "      <td>Decision Tree</td>\n",
              "      <td>2.219524</td>\n",
              "      <td>1.128571</td>\n",
              "    </tr>\n",
              "    <tr>\n",
              "      <th>3</th>\n",
              "      <td>Random Forest</td>\n",
              "      <td>1.002633</td>\n",
              "      <td>0.826667</td>\n",
              "    </tr>\n",
              "    <tr>\n",
              "      <th>4</th>\n",
              "      <td>XGBoost</td>\n",
              "      <td>1.323291</td>\n",
              "      <td>0.950891</td>\n",
              "    </tr>\n",
              "  </tbody>\n",
              "</table>\n",
              "</div>"
            ],
            "text/plain": [
              "                      Modelos  Mean Squared Error  Mean Absolute Error\n",
              "0                 Neural Nets            1.980313             1.168929\n",
              "1  Multiple Linear Regression            1.934029             1.069805\n",
              "2               Decision Tree            2.219524             1.128571\n",
              "3               Random Forest            1.002633             0.826667\n",
              "4                     XGBoost            1.323291             0.950891"
            ]
          },
          "metadata": {},
          "execution_count": 151
        }
      ]
    },
    {
      "cell_type": "markdown",
      "metadata": {
        "id": "XJcZ6LTbotvk"
      },
      "source": [
        "Linear Regression Model for \"Lung Opacity vs Opacity Mean\""
      ]
    },
    {
      "cell_type": "code",
      "metadata": {
        "colab": {
          "base_uri": "https://localhost:8080/",
          "height": 417
        },
        "id": "VWdbmz7OoaX1",
        "outputId": "7f904723-eb13-4028-dfdc-2465260b6ba9"
      },
      "source": [
        "# Show Linear Regression Model for \"Lung Opacity vs Geographic Mean\"\n",
        "\n",
        "df_vs_om = df_all_om[['Lung Opacity','opacity_mean']]\n",
        "df_vs_om"
      ],
      "execution_count": null,
      "outputs": [
        {
          "output_type": "execute_result",
          "data": {
            "text/html": [
              "<div>\n",
              "<style scoped>\n",
              "    .dataframe tbody tr th:only-of-type {\n",
              "        vertical-align: middle;\n",
              "    }\n",
              "\n",
              "    .dataframe tbody tr th {\n",
              "        vertical-align: top;\n",
              "    }\n",
              "\n",
              "    .dataframe thead th {\n",
              "        text-align: right;\n",
              "    }\n",
              "</style>\n",
              "<table border=\"1\" class=\"dataframe\">\n",
              "  <thead>\n",
              "    <tr style=\"text-align: right;\">\n",
              "      <th></th>\n",
              "      <th>Lung Opacity</th>\n",
              "      <th>opacity_mean</th>\n",
              "    </tr>\n",
              "  </thead>\n",
              "  <tbody>\n",
              "    <tr>\n",
              "      <th>0</th>\n",
              "      <td>-0.864325</td>\n",
              "      <td>1.3</td>\n",
              "    </tr>\n",
              "    <tr>\n",
              "      <th>1</th>\n",
              "      <td>-1.379524</td>\n",
              "      <td>3.0</td>\n",
              "    </tr>\n",
              "    <tr>\n",
              "      <th>2</th>\n",
              "      <td>-0.753431</td>\n",
              "      <td>3.0</td>\n",
              "    </tr>\n",
              "    <tr>\n",
              "      <th>3</th>\n",
              "      <td>-0.032212</td>\n",
              "      <td>3.7</td>\n",
              "    </tr>\n",
              "    <tr>\n",
              "      <th>4</th>\n",
              "      <td>0.660750</td>\n",
              "      <td>2.0</td>\n",
              "    </tr>\n",
              "    <tr>\n",
              "      <th>...</th>\n",
              "      <td>...</td>\n",
              "      <td>...</td>\n",
              "    </tr>\n",
              "    <tr>\n",
              "      <th>77</th>\n",
              "      <td>-0.451698</td>\n",
              "      <td>2.7</td>\n",
              "    </tr>\n",
              "    <tr>\n",
              "      <th>78</th>\n",
              "      <td>0.281588</td>\n",
              "      <td>3.3</td>\n",
              "    </tr>\n",
              "    <tr>\n",
              "      <th>79</th>\n",
              "      <td>0.387156</td>\n",
              "      <td>4.0</td>\n",
              "    </tr>\n",
              "    <tr>\n",
              "      <th>80</th>\n",
              "      <td>-1.704252</td>\n",
              "      <td>0.7</td>\n",
              "    </tr>\n",
              "    <tr>\n",
              "      <th>81</th>\n",
              "      <td>1.057681</td>\n",
              "      <td>3.3</td>\n",
              "    </tr>\n",
              "  </tbody>\n",
              "</table>\n",
              "<p>82 rows × 2 columns</p>\n",
              "</div>"
            ],
            "text/plain": [
              "    Lung Opacity  opacity_mean\n",
              "0      -0.864325           1.3\n",
              "1      -1.379524           3.0\n",
              "2      -0.753431           3.0\n",
              "3      -0.032212           3.7\n",
              "4       0.660750           2.0\n",
              "..           ...           ...\n",
              "77     -0.451698           2.7\n",
              "78      0.281588           3.3\n",
              "79      0.387156           4.0\n",
              "80     -1.704252           0.7\n",
              "81      1.057681           3.3\n",
              "\n",
              "[82 rows x 2 columns]"
            ]
          },
          "metadata": {},
          "execution_count": 152
        }
      ]
    },
    {
      "cell_type": "markdown",
      "metadata": {
        "id": "RUtdqbaUy3Kd"
      },
      "source": [
        "Create dependent (Lung Opacity) and independent variable (geographic_mean) and show their respective shape\n"
      ]
    },
    {
      "cell_type": "code",
      "metadata": {
        "colab": {
          "base_uri": "https://localhost:8080/"
        },
        "id": "uxR6XBilowHk",
        "outputId": "4d6b2540-4e6e-42fe-cf1f-9c8e434edf6f"
      },
      "source": [
        "# Create dependent (Lung Opacity) and independent variable (geographic_mean) and show their respective shape\n",
        "\n",
        "X = df_vs_om.loc[:, ['Lung Opacity']].copy()\n",
        "y = df_vs_om['opacity_mean']\n",
        "\n",
        "print(X.shape, y.shape)"
      ],
      "execution_count": null,
      "outputs": [
        {
          "output_type": "stream",
          "text": [
            "(82, 1) (82,)\n"
          ],
          "name": "stdout"
        }
      ]
    },
    {
      "cell_type": "markdown",
      "metadata": {
        "id": "_8UcNvuFy5QT"
      },
      "source": [
        "Plot Geographic mean vs Lung opacity"
      ]
    },
    {
      "cell_type": "code",
      "metadata": {
        "colab": {
          "base_uri": "https://localhost:8080/",
          "height": 295
        },
        "id": "GN-t3v5iowKX",
        "outputId": "8bbf9492-c735-4c5b-a70a-08747609e04d"
      },
      "source": [
        "# Plot Geographic mean vs Lung opacity\n",
        "\n",
        "plt.scatter(X, y, color='black')\n",
        "plt.title('Opacity mean vs Lung opacity')\n",
        "plt.xlabel('Lung Opacity')\n",
        "plt.ylabel('Opacity mean')\n",
        "plt.show()"
      ],
      "execution_count": null,
      "outputs": [
        {
          "output_type": "display_data",
          "data": {
            "image/png": "[encoded data removed]",
            "text/plain": [
              "<Figure size 432x288 with 1 Axes>"
            ]
          },
          "metadata": {
            "needs_background": "light"
          }
        }
      ]
    },
    {
      "cell_type": "markdown",
      "metadata": {
        "id": "Ira0ERNWy92_"
      },
      "source": [
        "Split of the data for testing and training data"
      ]
    },
    {
      "cell_type": "code",
      "metadata": {
        "colab": {
          "base_uri": "https://localhost:8080/"
        },
        "id": "3Nie_Xapo7t0",
        "outputId": "0da5fa7f-a2d8-4a87-92dd-2959d2e351ef"
      },
      "source": [
        "# Split of the data for testing and training data\n",
        "\n",
        "X_train, X_test, y_train, y_test = train_test_split(X, y, test_size=0.6, random_state=0)\n",
        "print(X_train.shape, X_test.shape, y_train.shape, y_test.shape)"
      ],
      "execution_count": null,
      "outputs": [
        {
          "output_type": "stream",
          "text": [
            "(32, 1) (50, 1) (32,) (50,)\n"
          ],
          "name": "stdout"
        }
      ]
    },
    {
      "cell_type": "markdown",
      "metadata": {
        "id": "suUvU9Koy_er"
      },
      "source": [
        "The data is normalized "
      ]
    },
    {
      "cell_type": "code",
      "metadata": {
        "id": "TrK8zybSo7wa"
      },
      "source": [
        "# The data is normalized \n",
        "\n",
        "scaler=StandardScaler()\n",
        "scaler.fit(X_train)\n",
        "\n",
        "X_train_scaled = scaler.transform(X_train)\n",
        "X_test_scaled = scaler.transform(X_test)"
      ],
      "execution_count": null,
      "outputs": []
    },
    {
      "cell_type": "markdown",
      "metadata": {
        "id": "-TPLkQdUzoua"
      },
      "source": [
        "Liner model"
      ]
    },
    {
      "cell_type": "code",
      "metadata": {
        "colab": {
          "base_uri": "https://localhost:8080/"
        },
        "id": "iWxzDlk5oaap",
        "outputId": "7d10c60f-144d-4ac3-b763-e236d8a2c542"
      },
      "source": [
        "# Liner model\n",
        "\n",
        "model_linear = linear_model.LinearRegression()\n",
        "model_linear.fit(X_train_scaled, y_train)\n",
        "y_pred_linear = model_linear.predict(X_test_scaled)\n",
        "mse_linear = mean_squared_error(y_test, y_pred_linear)\n",
        "mae_linear = mean_absolute_error(y_test, y_pred_linear)\n",
        "r2_linear = r2_score(y_test, y_pred_linear)\n",
        "correlation_linear = scipy.stats.pearsonr(y_pred_linear, y_test)[0]\n",
        "print('Mean squared error from linear regression: ', mse_linear)\n",
        "print('Mean absolute error from linear regression: ', mae_linear)\n",
        "print('R2:', r2_linear)\n",
        "print('Correlation:', correlation_linear)"
      ],
      "execution_count": null,
      "outputs": [
        {
          "output_type": "stream",
          "text": [
            "Mean squared error from linear regression:  0.9648230861804288\n",
            "Mean absolute error from linear regression:  0.813363501824025\n",
            "R2: 0.6094775972354732\n",
            "Correlation: 0.7845058611349233\n"
          ],
          "name": "stdout"
        }
      ]
    },
    {
      "cell_type": "code",
      "metadata": {
        "colab": {
          "base_uri": "https://localhost:8080/"
        },
        "id": "2nu6QMOSzVzA",
        "outputId": "84befd38-54cd-48e8-b210-910105422dbd"
      },
      "source": [
        "print('Coefficient of Linear Regression:', model_linear.coef_[0])\n",
        "print('Interception:', model_linear.intercept_)\n",
        "print()\n",
        "print('Equation: y = {}*x + {}'.format(str(model_linear.coef_[0]), str(model_linear.intercept_)))"
      ],
      "execution_count": null,
      "outputs": [
        {
          "output_type": "stream",
          "text": [
            "Coefficient of Linear Regression: 0.9323800409560014\n",
            "Interception: 2.15\n",
            "\n",
            "Equation: y = 0.9323800409560014*x + 2.15\n"
          ],
          "name": "stdout"
        }
      ]
    },
    {
      "cell_type": "markdown",
      "metadata": {
        "id": "fYueiRoGzsCB"
      },
      "source": [
        "PLot Lung Opacity vs Geographic"
      ]
    },
    {
      "cell_type": "code",
      "metadata": {
        "colab": {
          "base_uri": "https://localhost:8080/",
          "height": 312
        },
        "id": "3BsMVBfazaaJ",
        "outputId": "c57173c8-d63d-4fd9-9548-1c8f53ede50c"
      },
      "source": [
        "# PLot Lung Opacity vs Geographic\n",
        "\n",
        "ax = df_vs_om.plot.scatter(x='Lung Opacity', y='opacity_mean', color='black')\n",
        "ax.plot(X_test, y_pred_linear, color='red', label='Linear Regression')\n",
        "ax.set_title('Opacity mean vs Lung opacity')\n",
        "ax.legend()"
      ],
      "execution_count": null,
      "outputs": [
        {
          "output_type": "execute_result",
          "data": {
            "text/plain": [
              "<matplotlib.legend.Legend at 0x7fdbe2be0110>"
            ]
          },
          "metadata": {},
          "execution_count": 158
        },
        {
          "output_type": "display_data",
          "data": {
            "image/png": "[encoded data removed]",
            "text/plain": [
              "<Figure size 432x288 with 1 Axes>"
            ]
          },
          "metadata": {
            "needs_background": "light"
          }
        }
      ]
    },
    {
      "cell_type": "markdown",
      "metadata": {
        "id": "yJ9OTD1nzwe5"
      },
      "source": [
        "Show comparison between mse and r2 of the 5 implemented models"
      ]
    },
    {
      "cell_type": "code",
      "metadata": {
        "colab": {
          "base_uri": "https://localhost:8080/",
          "height": 234
        },
        "id": "LnURm9KOvD9G",
        "outputId": "33c2201d-d4d6-4e7a-8486-a74180867763"
      },
      "source": [
        "# Show comparison between mse and r2 of the 5 implemented models\n",
        "\n",
        "new_row = {'Modelos':'Linear Regresion (Lung Opacity)', 'Mean Squared Error':mse_linear, 'Mean Absolute Error':mae_linear}\n",
        "df_metrics_om = df_metrics_om.append(new_row, ignore_index=True)\n",
        "df_metrics_om"
      ],
      "execution_count": null,
      "outputs": [
        {
          "output_type": "execute_result",
          "data": {
            "text/html": [
              "<div>\n",
              "<style scoped>\n",
              "    .dataframe tbody tr th:only-of-type {\n",
              "        vertical-align: middle;\n",
              "    }\n",
              "\n",
              "    .dataframe tbody tr th {\n",
              "        vertical-align: top;\n",
              "    }\n",
              "\n",
              "    .dataframe thead th {\n",
              "        text-align: right;\n",
              "    }\n",
              "</style>\n",
              "<table border=\"1\" class=\"dataframe\">\n",
              "  <thead>\n",
              "    <tr style=\"text-align: right;\">\n",
              "      <th></th>\n",
              "      <th>Modelos</th>\n",
              "      <th>Mean Squared Error</th>\n",
              "      <th>Mean Absolute Error</th>\n",
              "    </tr>\n",
              "  </thead>\n",
              "  <tbody>\n",
              "    <tr>\n",
              "      <th>0</th>\n",
              "      <td>Neural Nets</td>\n",
              "      <td>1.980313</td>\n",
              "      <td>1.168929</td>\n",
              "    </tr>\n",
              "    <tr>\n",
              "      <th>1</th>\n",
              "      <td>Multiple Linear Regression</td>\n",
              "      <td>1.934029</td>\n",
              "      <td>1.069805</td>\n",
              "    </tr>\n",
              "    <tr>\n",
              "      <th>2</th>\n",
              "      <td>Decision Tree</td>\n",
              "      <td>2.219524</td>\n",
              "      <td>1.128571</td>\n",
              "    </tr>\n",
              "    <tr>\n",
              "      <th>3</th>\n",
              "      <td>Random Forest</td>\n",
              "      <td>1.002633</td>\n",
              "      <td>0.826667</td>\n",
              "    </tr>\n",
              "    <tr>\n",
              "      <th>4</th>\n",
              "      <td>XGBoost</td>\n",
              "      <td>1.323291</td>\n",
              "      <td>0.950891</td>\n",
              "    </tr>\n",
              "    <tr>\n",
              "      <th>5</th>\n",
              "      <td>Linear Regresion (Lung Opacity)</td>\n",
              "      <td>0.964823</td>\n",
              "      <td>0.813364</td>\n",
              "    </tr>\n",
              "  </tbody>\n",
              "</table>\n",
              "</div>"
            ],
            "text/plain": [
              "                           Modelos  Mean Squared Error  Mean Absolute Error\n",
              "0                      Neural Nets            1.980313             1.168929\n",
              "1       Multiple Linear Regression            1.934029             1.069805\n",
              "2                    Decision Tree            2.219524             1.128571\n",
              "3                    Random Forest            1.002633             0.826667\n",
              "4                          XGBoost            1.323291             0.950891\n",
              "5  Linear Regresion (Lung Opacity)            0.964823             0.813364"
            ]
          },
          "metadata": {},
          "execution_count": 159
        }
      ]
    }
  ]
}